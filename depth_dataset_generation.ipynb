{
 "cells": [
  {
   "cell_type": "code",
   "execution_count": 1,
   "metadata": {},
   "outputs": [],
   "source": [
    "from photo_utils import *\n",
    "import pandas as pd\n",
    "import os"
   ]
  },
  {
   "cell_type": "code",
   "execution_count": 34,
   "metadata": {},
   "outputs": [],
   "source": [
    "# image_list = os.listdir('flooded_imagery_CB_2023')\n",
    "image_list = os.listdir('depth_model_data/flooded_imagery_CB_2023/daylight_images')"
   ]
  },
  {
   "cell_type": "code",
   "execution_count": 35,
   "metadata": {},
   "outputs": [
    {
     "data": {
      "text/plain": [
       "'CAM_CB_01_20231217153626.jpg'"
      ]
     },
     "execution_count": 35,
     "metadata": {},
     "output_type": "execute_result"
    }
   ],
   "source": [
    "image_list[0]"
   ]
  },
  {
   "cell_type": "code",
   "execution_count": 11,
   "metadata": {},
   "outputs": [],
   "source": [
    "wtr_lvl_data = pd.read_csv('flood_tracking/flood_events.csv')"
   ]
  },
  {
   "cell_type": "code",
   "execution_count": 16,
   "metadata": {},
   "outputs": [
    {
     "data": {
      "text/html": [
       "<div>\n",
       "<style scoped>\n",
       "    .dataframe tbody tr th:only-of-type {\n",
       "        vertical-align: middle;\n",
       "    }\n",
       "\n",
       "    .dataframe tbody tr th {\n",
       "        vertical-align: top;\n",
       "    }\n",
       "\n",
       "    .dataframe thead th {\n",
       "        text-align: right;\n",
       "    }\n",
       "</style>\n",
       "<table border=\"1\" class=\"dataframe\">\n",
       "  <thead>\n",
       "    <tr style=\"text-align: right;\">\n",
       "      <th></th>\n",
       "      <th>flood_event</th>\n",
       "      <th>sensor_ID</th>\n",
       "      <th>time_UTC</th>\n",
       "      <th>time_EST</th>\n",
       "      <th>water_level</th>\n",
       "      <th>start_time_UTC</th>\n",
       "      <th>end_time_UTC</th>\n",
       "      <th>start_time_EST</th>\n",
       "      <th>end_time_EST</th>\n",
       "      <th>duration_(hours)</th>\n",
       "      <th>max_road_water_level_(ft)</th>\n",
       "      <th>max_road_water_level_(m)</th>\n",
       "    </tr>\n",
       "  </thead>\n",
       "  <tbody>\n",
       "    <tr>\n",
       "      <th>0</th>\n",
       "      <td>1</td>\n",
       "      <td>CB_02</td>\n",
       "      <td>2023-01-22 12:16:30+00:00</td>\n",
       "      <td>2023-01-22 07:16:30-05:00</td>\n",
       "      <td>0.083693</td>\n",
       "      <td>NaN</td>\n",
       "      <td>NaN</td>\n",
       "      <td>NaN</td>\n",
       "      <td>NaN</td>\n",
       "      <td>NaN</td>\n",
       "      <td>NaN</td>\n",
       "      <td>NaN</td>\n",
       "    </tr>\n",
       "    <tr>\n",
       "      <th>1</th>\n",
       "      <td>1</td>\n",
       "      <td>CB_02</td>\n",
       "      <td>2023-01-22 12:22:30+00:00</td>\n",
       "      <td>2023-01-22 07:22:30-05:00</td>\n",
       "      <td>0.156578</td>\n",
       "      <td>NaN</td>\n",
       "      <td>NaN</td>\n",
       "      <td>NaN</td>\n",
       "      <td>NaN</td>\n",
       "      <td>NaN</td>\n",
       "      <td>NaN</td>\n",
       "      <td>NaN</td>\n",
       "    </tr>\n",
       "    <tr>\n",
       "      <th>2</th>\n",
       "      <td>1</td>\n",
       "      <td>CB_03</td>\n",
       "      <td>2023-01-22 12:23:49+00:00</td>\n",
       "      <td>2023-01-22 07:23:49-05:00</td>\n",
       "      <td>0.071578</td>\n",
       "      <td>NaN</td>\n",
       "      <td>NaN</td>\n",
       "      <td>NaN</td>\n",
       "      <td>NaN</td>\n",
       "      <td>NaN</td>\n",
       "      <td>NaN</td>\n",
       "      <td>NaN</td>\n",
       "    </tr>\n",
       "    <tr>\n",
       "      <th>3</th>\n",
       "      <td>1</td>\n",
       "      <td>CB_02</td>\n",
       "      <td>2023-01-22 12:28:30+00:00</td>\n",
       "      <td>2023-01-22 07:28:30-05:00</td>\n",
       "      <td>0.208207</td>\n",
       "      <td>NaN</td>\n",
       "      <td>NaN</td>\n",
       "      <td>NaN</td>\n",
       "      <td>NaN</td>\n",
       "      <td>NaN</td>\n",
       "      <td>NaN</td>\n",
       "      <td>NaN</td>\n",
       "    </tr>\n",
       "    <tr>\n",
       "      <th>4</th>\n",
       "      <td>1</td>\n",
       "      <td>CB_03</td>\n",
       "      <td>2023-01-22 12:29:49+00:00</td>\n",
       "      <td>2023-01-22 07:29:49-05:00</td>\n",
       "      <td>0.103121</td>\n",
       "      <td>NaN</td>\n",
       "      <td>NaN</td>\n",
       "      <td>NaN</td>\n",
       "      <td>NaN</td>\n",
       "      <td>NaN</td>\n",
       "      <td>NaN</td>\n",
       "      <td>NaN</td>\n",
       "    </tr>\n",
       "  </tbody>\n",
       "</table>\n",
       "</div>"
      ],
      "text/plain": [
       "   flood_event sensor_ID                   time_UTC  \\\n",
       "0            1     CB_02  2023-01-22 12:16:30+00:00   \n",
       "1            1     CB_02  2023-01-22 12:22:30+00:00   \n",
       "2            1     CB_03  2023-01-22 12:23:49+00:00   \n",
       "3            1     CB_02  2023-01-22 12:28:30+00:00   \n",
       "4            1     CB_03  2023-01-22 12:29:49+00:00   \n",
       "\n",
       "                    time_EST  water_level start_time_UTC end_time_UTC  \\\n",
       "0  2023-01-22 07:16:30-05:00     0.083693            NaN          NaN   \n",
       "1  2023-01-22 07:22:30-05:00     0.156578            NaN          NaN   \n",
       "2  2023-01-22 07:23:49-05:00     0.071578            NaN          NaN   \n",
       "3  2023-01-22 07:28:30-05:00     0.208207            NaN          NaN   \n",
       "4  2023-01-22 07:29:49-05:00     0.103121            NaN          NaN   \n",
       "\n",
       "  start_time_EST end_time_EST  duration_(hours)  max_road_water_level_(ft)  \\\n",
       "0            NaN          NaN               NaN                        NaN   \n",
       "1            NaN          NaN               NaN                        NaN   \n",
       "2            NaN          NaN               NaN                        NaN   \n",
       "3            NaN          NaN               NaN                        NaN   \n",
       "4            NaN          NaN               NaN                        NaN   \n",
       "\n",
       "   max_road_water_level_(m)  \n",
       "0                       NaN  \n",
       "1                       NaN  \n",
       "2                       NaN  \n",
       "3                       NaN  \n",
       "4                       NaN  "
      ]
     },
     "execution_count": 16,
     "metadata": {},
     "output_type": "execute_result"
    }
   ],
   "source": [
    "wtr_lvl_data.head()"
   ]
  },
  {
   "cell_type": "code",
   "execution_count": 17,
   "metadata": {},
   "outputs": [],
   "source": [
    "# Convert utc_time column to datetime\n",
    "wtr_lvl_data['time_UTC'] = pd.to_datetime(wtr_lvl_data['time_UTC'])"
   ]
  },
  {
   "cell_type": "code",
   "execution_count": 36,
   "metadata": {},
   "outputs": [],
   "source": [
    "# List to store the results\n",
    "results = []\n",
    "\n",
    "# Iterate over image filenames\n",
    "for filename in image_list:\n",
    "    # Extract the sensor id and timestamp\n",
    "    sensor_id = extract_sensor_name(filename)[4:]\n",
    "    timestamp = extract_timestamp(filename)\n",
    "\n",
    "    timestamp = pytz.utc.localize(datetime.strptime(timestamp, \"%Y%m%d%H%M%S\"))\n",
    "    \n",
    "    # Filter the dataframe by sensor id\n",
    "    filtered_df = wtr_lvl_data[wtr_lvl_data['sensor_ID'] == sensor_id]\n",
    "    \n",
    "    # Find the closest timestamp\n",
    "    closest_row = filtered_df.iloc[(filtered_df['time_UTC'] - timestamp).abs().argsort()[:1]]\n",
    "    \n",
    "    # Append the result\n",
    "    if not closest_row.empty:\n",
    "        result = {\n",
    "            'image_filename': filename,\n",
    "            'closest_utc_time': closest_row['time_UTC'].values[0],\n",
    "            'water_level': closest_row['water_level'].values[0]\n",
    "        }\n",
    "        results.append(result)\n",
    "\n",
    "# Convert the results to a dataframe\n",
    "results_df = pd.DataFrame(results)\n",
    "\n",
    "# Save the results to a CSV\n",
    "results_df.to_csv('matched_image_data.csv', index=False)"
   ]
  },
  {
   "cell_type": "code",
   "execution_count": 32,
   "metadata": {},
   "outputs": [
    {
     "name": "stderr",
     "output_type": "stream",
     "text": [
      "Copying files: 100%|██████████| 1217/1217 [00:04<00:00, 302.47it/s]\n"
     ]
    }
   ],
   "source": [
    "copy_daylight_images('depth_model_data/flooded_imagery_CB_2023')"
   ]
  },
  {
   "cell_type": "code",
   "execution_count": null,
   "metadata": {},
   "outputs": [],
   "source": []
  }
 ],
 "metadata": {
  "kernelspec": {
   "display_name": "image_processing",
   "language": "python",
   "name": "python3"
  },
  "language_info": {
   "codemirror_mode": {
    "name": "ipython",
    "version": 3
   },
   "file_extension": ".py",
   "mimetype": "text/x-python",
   "name": "python",
   "nbconvert_exporter": "python",
   "pygments_lexer": "ipython3",
   "version": "3.12.4"
  }
 },
 "nbformat": 4,
 "nbformat_minor": 2
}
