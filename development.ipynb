{
 "cells": [
  {
   "cell_type": "code",
   "execution_count": 1,
   "id": "c73c5f22",
   "metadata": {},
   "outputs": [],
   "source": [
    "import os\n",
    "import image_processing\n",
    "import cupy as cp"
   ]
  },
  {
   "cell_type": "code",
   "execution_count": 2,
   "id": "f8cfeb34",
   "metadata": {},
   "outputs": [
    {
     "name": "stdout",
     "output_type": "stream",
     "text": [
      "Directory to store grids created: generated_grids\n"
     ]
    }
   ],
   "source": [
    "file_path = \"data/lidar/Job1051007_34077_04_88.laz\"\n",
    "\n",
    "min_x_extent = 712160\n",
    "max_x_extent = 712230\n",
    "min_y_extent = 33100\n",
    "max_y_extent = 33170\n",
    "\n",
    "grid_gen = image_processing.GridGenerator(\n",
    "    file_path, min_x_extent, max_x_extent, min_y_extent, max_y_extent\n",
    ")\n",
    "\n",
    "resolution = 0.05  # meters\n",
    "\n",
    "pts_array = grid_gen.create_point_array()\n",
    "grid_x, grid_y, grid_z = grid_gen.gen_grid(resolution, z=pts_array)"
   ]
  },
  {
   "cell_type": "code",
   "execution_count": 3,
   "id": "3352ef23",
   "metadata": {},
   "outputs": [],
   "source": [
    "grid_z_gpu = cp.asarray(grid_z)\n",
    "\n",
    "mapper = image_processing.DepthMapper(grid_z_gpu)\n",
    "\n",
    "subfolder_path = 'data/CB_03_20220909212130_20220910054130'\n",
    "labels_rects_zarr_folder = os.path.join(subfolder_path, \"zarr\", \"labels_rects\")\n",
    "\n",
    "# Check if the labels_rects folder exists\n",
    "if os.path.exists(labels_rects_zarr_folder):\n",
    "    # print(f\"Processing folder {subfolder}.\")\n",
    "    depth_map_zarr_save_dir = os.path.join(\n",
    "        subfolder_path, \"zarr\", \"depth_maps_updated\"\n",
    "    )\n",
    "    pond_edge_elev_plot_dir = os.path.join(subfolder_path, 'plots', 'edge_histograms')\n",
    "    mapper.process_depth_maps(labels_rects_zarr_folder, depth_map_zarr_save_dir, pond_edge_elev_plot_dir)"
   ]
  },
  {
   "cell_type": "code",
   "execution_count": null,
   "id": "61e06d8d",
   "metadata": {},
   "outputs": [],
   "source": []
  }
 ],
 "metadata": {
  "kernelspec": {
   "display_name": "dm",
   "language": "python",
   "name": "python3"
  },
  "language_info": {
   "codemirror_mode": {
    "name": "ipython",
    "version": 3
   },
   "file_extension": ".py",
   "mimetype": "text/x-python",
   "name": "python",
   "nbconvert_exporter": "python",
   "pygments_lexer": "ipython3",
   "version": "3.13.7"
  }
 },
 "nbformat": 4,
 "nbformat_minor": 5
}
