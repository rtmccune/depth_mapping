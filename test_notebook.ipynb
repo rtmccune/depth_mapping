{
 "cells": [
  {
   "cell_type": "code",
   "execution_count": 1,
   "metadata": {},
   "outputs": [],
   "source": [
    "from image_processing.image_utils import *\n",
    "import pandas as pd\n",
    "import os\n",
    "import shutil"
   ]
  },
  {
   "cell_type": "code",
   "execution_count": 2,
   "metadata": {},
   "outputs": [],
   "source": [
    "preds_dir = '/home/rmccune/depth_mapping/CB03_all_photos/test_segs'\n",
    "labels_dir = '/home/rmccune/depth_mapping/CB03_all_photos/test_labls'"
   ]
  },
  {
   "cell_type": "code",
   "execution_count": 3,
   "metadata": {},
   "outputs": [
    {
     "name": "stderr",
     "output_type": "stream",
     "text": [
      "Generating labels from predictions:   0%|          | 0/137 [00:00<?, ?it/s]"
     ]
    },
    {
     "name": "stderr",
     "output_type": "stream",
     "text": [
      "Generating labels from predictions: 100%|██████████| 137/137 [00:17<00:00,  7.85it/s]\n"
     ]
    }
   ],
   "source": [
    "create_labels_from_predsegs(preds_dir, labels_dir, use_gpu=False)"
   ]
  },
  {
   "cell_type": "code",
   "execution_count": 5,
   "metadata": {},
   "outputs": [
    {
     "name": "stderr",
     "output_type": "stream",
     "text": [
      "Generating labels from predictions: 100%|██████████| 137/137 [00:18<00:00,  7.57it/s]\n"
     ]
    }
   ],
   "source": [
    "create_labels_from_predsegs(preds_dir, labels_dir, use_gpu=True, batch_size=100)"
   ]
  },
  {
   "cell_type": "markdown",
   "metadata": {},
   "source": [
    "Separate Water Levels into separate csvs per flood event"
   ]
  },
  {
   "cell_type": "code",
   "execution_count": 2,
   "metadata": {},
   "outputs": [],
   "source": [
    "# Load the abbreviated flood events and full data records\n",
    "abbr_flood_events = pd.read_csv('/home/rmccune/depth_mapping/CB_03_flood_record/abbr_flood_events.csv')\n",
    "flood_events = pd.read_csv('/home/rmccune/depth_mapping/CB_03_flood_record/flood_events.csv')\n",
    "\n",
    "# Ensure the output directory exists\n",
    "output_dir = 'output_flood_events'\n",
    "os.makedirs(output_dir, exist_ok=True)"
   ]
  },
  {
   "cell_type": "code",
   "execution_count": 3,
   "metadata": {},
   "outputs": [
    {
     "name": "stdout",
     "output_type": "stream",
     "text": [
      "Successfully created CSV files in 'output_flood_events' directory.\n"
     ]
    }
   ],
   "source": [
    "# Convert the start and end time columns to datetime\n",
    "abbr_flood_events['start_time_UTC'] = pd.to_datetime(abbr_flood_events['start_time_UTC'], utc=True)\n",
    "abbr_flood_events['end_time_UTC'] = pd.to_datetime(abbr_flood_events['end_time_UTC'], utc=True)\n",
    "\n",
    "# Format datetime to string for folder naming\n",
    "abbr_flood_events['start_time_str'] = abbr_flood_events['start_time_UTC'].dt.strftime('%Y%m%d%H%M%S')\n",
    "abbr_flood_events['end_time_str'] = abbr_flood_events['end_time_UTC'].dt.strftime('%Y%m%d%H%M%S')\n",
    "\n",
    "# Iterate over each unique flood event in the abbreviated events\n",
    "for _, row in abbr_flood_events.iterrows():\n",
    "    flood_event_number = row['flood_event']\n",
    "    start_time_utc = row['start_time_str']\n",
    "    end_time_utc = row['end_time_str']\n",
    "    \n",
    "    sensor_id = row['sensor_ID']\n",
    "    \n",
    "    # Filter the full flood events DataFrame for the current flood event number\n",
    "    filtered_events = flood_events[flood_events['flood_event'] == flood_event_number]\n",
    "    \n",
    "    # Generate a filename based on start_time_UTC and end_time_UTC\n",
    "    filename = f\"{sensor_id}_{start_time_utc}_{end_time_utc}.csv\"\n",
    "    \n",
    "    # Save the filtered DataFrame to a new CSV file\n",
    "    filtered_events.to_csv(os.path.join(output_dir, filename), index=False)\n",
    "\n",
    "print(f\"Successfully created CSV files in '{output_dir}' directory.\")"
   ]
  },
  {
   "cell_type": "markdown",
   "metadata": {},
   "source": [
    "Move csvs into proper subfolders"
   ]
  },
  {
   "cell_type": "code",
   "execution_count": 5,
   "metadata": {},
   "outputs": [
    {
     "name": "stdout",
     "output_type": "stream",
     "text": [
      "CSV files have been moved to their corresponding subfolders.\n"
     ]
    }
   ],
   "source": [
    "# Define the main directory where the output CSV files are located\n",
    "main_directory = 'output_flood_events'\n",
    "# Define the parent directory where you want to create subfolders\n",
    "parent_directory = '/home/rmccune/depth_mapping/CB03_all_photos/flood_events'  # Change this to your actual parent directory\n",
    "\n",
    "# Iterate over the files in the main directory\n",
    "for filename in os.listdir(main_directory):\n",
    "    if filename.endswith('.csv'):\n",
    "        # Extract the folder name from the filename (without the .csv extension)\n",
    "        folder_name = filename[:-4]  # Remove '.csv' from the filename\n",
    "        \n",
    "        # Create the full path for the subfolder\n",
    "        subfolder_path = os.path.join(parent_directory, folder_name)\n",
    "        \n",
    "        # Create the subfolder if it doesn't exist\n",
    "        os.makedirs(subfolder_path, exist_ok=True)\n",
    "        \n",
    "        # Move the CSV file to the corresponding subfolder\n",
    "        source_path = os.path.join(main_directory, filename)\n",
    "        destination_path = os.path.join(subfolder_path, filename)\n",
    "        shutil.move(source_path, destination_path)\n",
    "\n",
    "print(\"CSV files have been moved to their corresponding subfolders.\")\n"
   ]
  },
  {
   "cell_type": "code",
   "execution_count": 1,
   "metadata": {},
   "outputs": [],
   "source": [
    "import numpy as np \n",
    "import cupy as cp\n",
    "import cupyx as cpx\n",
    "import time\n",
    "import cv2\n",
    "import zarr\n",
    "\n",
    "# from gpu_acc_utils import *\n",
    "from cupyx.scipy.interpolate import RegularGridInterpolator as reg_interp\n",
    "from cupyx.scipy.ndimage import binary_closing\n",
    "from cupyx.scipy.ndimage import label\n",
    "from skimage.measure import find_contours\n",
    "import image_processing"
   ]
  },
  {
   "cell_type": "code",
   "execution_count": 2,
   "metadata": {},
   "outputs": [],
   "source": [
    "file_path = '/home/rmccune/depth_mapping/data/lidar/Job1051007_34077_04_88.laz'\n",
    "\n",
    "min_x_extent = 712160\n",
    "max_x_extent = 712230\n",
    "min_y_extent = 33100\n",
    "max_y_extent = 33170\n",
    "\n",
    "grid_gen = image_processing.GridGenerator(file_path, min_x_extent, max_x_extent, min_y_extent, max_y_extent)"
   ]
  },
  {
   "cell_type": "code",
   "execution_count": 3,
   "metadata": {},
   "outputs": [
    {
     "name": "stdout",
     "output_type": "stream",
     "text": [
      "Directory to store grids already exists: generated_grids\n"
     ]
    }
   ],
   "source": [
    "resolution = 0.05 # meters\n",
    "\n",
    "pts_array = grid_gen.create_point_array()\n",
    "grid_x, grid_y, grid_z = grid_gen.gen_grid(resolution, z=pts_array)\n",
    "\n",
    "grid_z_gpu = cp.asarray(grid_z)"
   ]
  },
  {
   "cell_type": "code",
   "execution_count": 4,
   "metadata": {},
   "outputs": [],
   "source": [
    "from image_processing.depth_mapper import DepthMapper"
   ]
  },
  {
   "cell_type": "code",
   "execution_count": 7,
   "metadata": {},
   "outputs": [],
   "source": [
    "zarr_directory_path = '/home/rmccune/depth_mapping/CB03_all_photos/flood_events/CB_03_20220617023112_20220617040940/zarr/labels_rects'\n",
    "zarr_store_path = '/home/rmccune/depth_mapping/CB03_all_photos/flood_events/CB_03_20220617023112_20220617040940/zarr/depth_maps_95th_ponding_OOP_debug_save'\n",
    "\n",
    "mapper = DepthMapper(grid_z_gpu)"
   ]
  },
  {
   "cell_type": "code",
   "execution_count": null,
   "metadata": {},
   "outputs": [],
   "source": [
    "mapper.process_depth_maps(zarr_directory_path, zarr_store_path)"
   ]
  },
  {
   "cell_type": "code",
   "execution_count": 7,
   "metadata": {},
   "outputs": [],
   "source": [
    "import os\n",
    "import zarr\n",
    "import matplotlib.pyplot as plt\n",
    "import cmocean"
   ]
  },
  {
   "cell_type": "code",
   "execution_count": 8,
   "metadata": {},
   "outputs": [],
   "source": [
    "def plot_depth_maps(zarr_dir, plotting_folder, depth_min=0, depth_max=0.25):\n",
    "\n",
    "    depth_data = []\n",
    "\n",
    "    for file_name in os.listdir(zarr_dir):\n",
    "        if file_name.endswith('_ponding'):\n",
    "            zarr_store_path = os.path.join(zarr_dir, file_name)\n",
    "            img_store = zarr.open(zarr_store_path)\n",
    "            \n",
    "            depth_map = img_store[:]\n",
    "            \n",
    "            print(f\"Processing depth map: {file_name}\")\n",
    "\n",
    "            # Overlay the depth map\n",
    "            im = plt.imshow(depth_map, cmap=cmocean.cm.deep, vmin=depth_min, vmax=depth_max)  # Adjust alpha for transparency\n",
    "            # print(f\"Vmin:{depth_min} Vmax: {depth_max} Max depth: {np.nanmax(depth_map)} Min depth: {np.nanmin(depth_map)}\")\n",
    "\n",
    "            # plt.scatter(max_elev_point_indices[1], max_elev_point_indices[0], c='red', s=10, marker='o')\n",
    "\n",
    "            # Add a colorbar for the depth map\n",
    "            cbar = plt.colorbar(im, label='Depth')\n",
    "            cbar.set_label('Depth (meters)')\n",
    "\n",
    "            plt.gca().invert_yaxis()\n",
    "            plt.xlabel('X (cm)')\n",
    "            plt.ylabel('Y (cm)')\n",
    "\n",
    "            # Save the figure\n",
    "            plt.savefig(os.path.join(plotting_folder, file_name), \n",
    "                        bbox_inches='tight', pad_inches=0.1, dpi=300)\n",
    "            \n",
    "            plt.close()"
   ]
  },
  {
   "cell_type": "code",
   "execution_count": 9,
   "metadata": {},
   "outputs": [
    {
     "name": "stdout",
     "output_type": "stream",
     "text": [
      "Processing depth map: CAM_CB_03_20220617023633_predseg_labels_rectified_depth_map_95_perc_edge_ponding\n",
      "Processing depth map: CAM_CB_03_20220617033032_predseg_labels_rectified_depth_map_95_perc_edge_ponding\n",
      "Processing depth map: CAM_CB_03_20220617033631_predseg_labels_rectified_depth_map_95_perc_edge_ponding\n",
      "Processing depth map: CAM_CB_03_20220617035433_predseg_labels_rectified_depth_map_95_perc_edge_ponding\n",
      "Processing depth map: CAM_CB_03_20220617032434_predseg_labels_rectified_depth_map_95_perc_edge_ponding\n",
      "Processing depth map: CAM_CB_03_20220617040633_predseg_labels_rectified_depth_map_95_perc_edge_ponding\n",
      "Processing depth map: CAM_CB_03_20220617034232_predseg_labels_rectified_depth_map_95_perc_edge_ponding\n",
      "Processing depth map: CAM_CB_03_20220617030630_predseg_labels_rectified_depth_map_95_perc_edge_ponding\n",
      "Processing depth map: CAM_CB_03_20220617025433_predseg_labels_rectified_depth_map_95_perc_edge_ponding\n",
      "Processing depth map: CAM_CB_03_20220617040032_predseg_labels_rectified_depth_map_95_perc_edge_ponding\n",
      "Processing depth map: CAM_CB_03_20220617024233_predseg_labels_rectified_depth_map_95_perc_edge_ponding\n",
      "Processing depth map: CAM_CB_03_20220617034828_predseg_labels_rectified_depth_map_95_perc_edge_ponding\n",
      "Processing depth map: CAM_CB_03_20220617031830_predseg_labels_rectified_depth_map_95_perc_edge_ponding\n",
      "Processing depth map: CAM_CB_03_20220617030033_predseg_labels_rectified_depth_map_95_perc_edge_ponding\n",
      "Processing depth map: CAM_CB_03_20220617031232_predseg_labels_rectified_depth_map_95_perc_edge_ponding\n",
      "Processing depth map: CAM_CB_03_20220617024832_predseg_labels_rectified_depth_map_95_perc_edge_ponding\n"
     ]
    }
   ],
   "source": [
    "zarr_store_path = '/home/rmccune/depth_mapping/CB03_all_photos/flood_events/CB_03_20220617023112_20220617040940/zarr/depth_maps_95th_ponding_OOP_debug_save'\n",
    "plot_depth_maps(zarr_store_path, '/home/rmccune/depth_mapping_updated/plots/depth_maps_95th_ponding_OOP_debug_save')"
   ]
  },
  {
   "cell_type": "code",
   "execution_count": null,
   "metadata": {},
   "outputs": [],
   "source": []
  },
  {
   "cell_type": "code",
   "execution_count": null,
   "metadata": {},
   "outputs": [],
   "source": []
  },
  {
   "cell_type": "code",
   "execution_count": null,
   "metadata": {},
   "outputs": [],
   "source": []
  },
  {
   "cell_type": "code",
   "execution_count": 5,
   "metadata": {},
   "outputs": [],
   "source": [
    "import os\n",
    "from tqdm import tqdm"
   ]
  },
  {
   "cell_type": "code",
   "execution_count": null,
   "metadata": {},
   "outputs": [
    {
     "name": "stderr",
     "output_type": "stream",
     "text": [
      "Processing flood events:   0%|          | 0/55 [00:00<?, ?event/s]"
     ]
    },
    {
     "name": "stdout",
     "output_type": "stream",
     "text": [
      "Processing folder CB_03_20230929002604_20230929031404.\n"
     ]
    },
    {
     "name": "stderr",
     "output_type": "stream",
     "text": [
      "Processing flood events:   2%|▏         | 1/55 [00:02<02:40,  2.97s/event]"
     ]
    },
    {
     "name": "stdout",
     "output_type": "stream",
     "text": [
      "Processing folder CB_03_20240109225226_20240109232226.\n"
     ]
    },
    {
     "name": "stderr",
     "output_type": "stream",
     "text": [
      "Processing flood events:   4%|▎         | 2/55 [00:04<01:45,  1.99s/event]"
     ]
    },
    {
     "name": "stdout",
     "output_type": "stream",
     "text": [
      "Processing folder CB_03_20231016141555_20231016160955.\n"
     ]
    },
    {
     "name": "stderr",
     "output_type": "stream",
     "text": [
      "Processing flood events:   5%|▌         | 3/55 [00:05<01:34,  1.81s/event]"
     ]
    },
    {
     "name": "stdout",
     "output_type": "stream",
     "text": [
      "Processing folder CB_03_20230927233804_20230928014404.\n"
     ]
    },
    {
     "name": "stderr",
     "output_type": "stream",
     "text": [
      "Processing flood events:   7%|▋         | 4/55 [00:07<01:30,  1.78s/event]"
     ]
    },
    {
     "name": "stdout",
     "output_type": "stream",
     "text": [
      "Processing folder CB_03_20231217150426_20231217221626.\n"
     ]
    },
    {
     "name": "stderr",
     "output_type": "stream",
     "text": [
      "Processing flood events:   9%|▉         | 5/55 [00:16<03:45,  4.51s/event]"
     ]
    },
    {
     "name": "stdout",
     "output_type": "stream",
     "text": [
      "Processing folder CB_03_20230929125004_20230929152004.\n"
     ]
    },
    {
     "name": "stderr",
     "output_type": "stream",
     "text": [
      "Processing flood events:  11%|█         | 6/55 [00:19<03:01,  3.71s/event]"
     ]
    },
    {
     "name": "stdout",
     "output_type": "stream",
     "text": [
      "Processing folder CB_03_20230901015004_20230901030204.\n"
     ]
    },
    {
     "name": "stderr",
     "output_type": "stream",
     "text": [
      "Processing flood events:  13%|█▎        | 7/55 [00:20<02:18,  2.89s/event]"
     ]
    },
    {
     "name": "stdout",
     "output_type": "stream",
     "text": [
      "Processing folder CB_03_20241114111653_20241114135853.\n"
     ]
    },
    {
     "name": "stderr",
     "output_type": "stream",
     "text": [
      "Processing flood events:  15%|█▍        | 8/55 [00:26<03:00,  3.83s/event]"
     ]
    },
    {
     "name": "stdout",
     "output_type": "stream",
     "text": [
      "Processing folder CB_03_20220930132326_20220930221226.\n"
     ]
    },
    {
     "name": "stderr",
     "output_type": "stream",
     "text": [
      "Processing flood events:  16%|█▋        | 9/55 [00:34<04:07,  5.39s/event]"
     ]
    },
    {
     "name": "stdout",
     "output_type": "stream",
     "text": [
      "Processing folder CB_03_20231002161313_20231002173713.\n"
     ]
    },
    {
     "name": "stderr",
     "output_type": "stream",
     "text": [
      "Processing flood events:  18%|█▊        | 10/55 [00:36<03:04,  4.10s/event]"
     ]
    },
    {
     "name": "stdout",
     "output_type": "stream",
     "text": [
      "Processing folder CB_03_20220617023112_20220617040940.\n"
     ]
    },
    {
     "name": "stderr",
     "output_type": "stream",
     "text": [
      "Processing flood events:  20%|██        | 11/55 [00:37<02:26,  3.33s/event]"
     ]
    },
    {
     "name": "stdout",
     "output_type": "stream",
     "text": [
      "Processing folder CB_03_20230901152604_20230901153804.\n"
     ]
    },
    {
     "name": "stderr",
     "output_type": "stream",
     "text": [
      "Processing flood events:  22%|██▏       | 12/55 [00:37<01:42,  2.38s/event]"
     ]
    },
    {
     "name": "stdout",
     "output_type": "stream",
     "text": [
      "Processing folder CB_03_20230707033307_20230707050907.\n"
     ]
    },
    {
     "name": "stderr",
     "output_type": "stream",
     "text": [
      "Processing flood events:  24%|██▎       | 13/55 [00:39<01:33,  2.22s/event]"
     ]
    },
    {
     "name": "stdout",
     "output_type": "stream",
     "text": [
      "Processing folder CB_03_20231001153713_20231001164913.\n"
     ]
    },
    {
     "name": "stderr",
     "output_type": "stream",
     "text": [
      "Processing flood events:  25%|██▌       | 14/55 [00:40<01:13,  1.79s/event]"
     ]
    },
    {
     "name": "stdout",
     "output_type": "stream",
     "text": [
      "Processing folder CB_03_20220819163226_20220819165326.\n"
     ]
    },
    {
     "name": "stderr",
     "output_type": "stream",
     "text": [
      "Processing flood events:  27%|██▋       | 15/55 [00:40<00:53,  1.34s/event]"
     ]
    },
    {
     "name": "stdout",
     "output_type": "stream",
     "text": [
      "Processing folder CB_03_20241020162344_20241020165944.\n"
     ]
    },
    {
     "name": "stderr",
     "output_type": "stream",
     "text": [
      "Processing flood events:  29%|██▉       | 16/55 [00:41<00:42,  1.10s/event]"
     ]
    },
    {
     "name": "stdout",
     "output_type": "stream",
     "text": [
      "Processing folder CB_03_20231218034026_20231218062226.\n"
     ]
    },
    {
     "name": "stderr",
     "output_type": "stream",
     "text": [
      "Processing flood events:  31%|███       | 17/55 [00:46<01:29,  2.35s/event]"
     ]
    },
    {
     "name": "stdout",
     "output_type": "stream",
     "text": [
      "Processing folder CB_03_20240213033436_20240213043436.\n"
     ]
    },
    {
     "name": "stderr",
     "output_type": "stream",
     "text": [
      "Processing flood events:  33%|███▎      | 18/55 [00:47<01:08,  1.86s/event]"
     ]
    },
    {
     "name": "stdout",
     "output_type": "stream",
     "text": [
      "Processing folder CB_03_20240812175454_20240812182454.\n"
     ]
    },
    {
     "name": "stderr",
     "output_type": "stream",
     "text": [
      "Processing flood events:  35%|███▍      | 19/55 [00:48<00:57,  1.58s/event]"
     ]
    },
    {
     "name": "stdout",
     "output_type": "stream",
     "text": [
      "Processing folder CB_03_20230827233804_20230827235604.\n"
     ]
    },
    {
     "name": "stderr",
     "output_type": "stream",
     "text": [
      "Processing flood events:  36%|███▋      | 20/55 [00:48<00:42,  1.23s/event]"
     ]
    },
    {
     "name": "stdout",
     "output_type": "stream",
     "text": [
      "Processing folder CB_03_20221221110204_20221221114404.\n"
     ]
    },
    {
     "name": "stderr",
     "output_type": "stream",
     "text": [
      "Processing flood events:  38%|███▊      | 21/55 [00:49<00:37,  1.10s/event]"
     ]
    },
    {
     "name": "stdout",
     "output_type": "stream",
     "text": [
      "Processing folder CB_03_20221222115004_20221222153804.\n"
     ]
    },
    {
     "name": "stderr",
     "output_type": "stream",
     "text": [
      "Processing flood events:  40%|████      | 22/55 [00:50<00:38,  1.18s/event]"
     ]
    },
    {
     "name": "stdout",
     "output_type": "stream",
     "text": [
      "Processing folder CB_03_20220616011525_20220616040025.\n"
     ]
    },
    {
     "name": "stderr",
     "output_type": "stream",
     "text": [
      "Processing flood events:  42%|████▏     | 23/55 [00:54<01:04,  2.01s/event]"
     ]
    },
    {
     "name": "stdout",
     "output_type": "stream",
     "text": [
      "Processing folder CB_03_20231003163713_20231003180713.\n"
     ]
    },
    {
     "name": "stderr",
     "output_type": "stream",
     "text": [
      "Processing flood events:  45%|████▌     | 25/55 [00:56<00:37,  1.25s/event]"
     ]
    },
    {
     "name": "stdout",
     "output_type": "stream",
     "text": [
      "Processing folder CB_03_20230928021404_20230928022004.\n",
      "Processing folder CB_03_20220819170726_20220819170826.\n",
      "Processing folder CB_03_20230930151404_20230930154404.\n"
     ]
    },
    {
     "name": "stderr",
     "output_type": "stream",
     "text": [
      "Processing flood events:  49%|████▉     | 27/55 [00:56<00:22,  1.26event/s]"
     ]
    },
    {
     "name": "stdout",
     "output_type": "stream",
     "text": [
      "Processing folder CB_03_20221125133134_20221125134734.\n"
     ]
    },
    {
     "name": "stderr",
     "output_type": "stream",
     "text": [
      "Processing flood events:  51%|█████     | 28/55 [00:56<00:17,  1.53event/s]"
     ]
    },
    {
     "name": "stdout",
     "output_type": "stream",
     "text": [
      "Processing folder CB_03_20230902033204_20230902040204.\n"
     ]
    },
    {
     "name": "stderr",
     "output_type": "stream",
     "text": [
      "Processing flood events:  53%|█████▎    | 29/55 [00:57<00:15,  1.66event/s]"
     ]
    },
    {
     "name": "stdout",
     "output_type": "stream",
     "text": [
      "Processing folder CB_03_20240809180654_20240809202454.\n"
     ]
    },
    {
     "name": "stderr",
     "output_type": "stream",
     "text": [
      "Processing flood events:  55%|█████▍    | 30/55 [00:59<00:25,  1.03s/event]"
     ]
    },
    {
     "name": "stdout",
     "output_type": "stream",
     "text": [
      "Processing folder CB_03_20220816042740_20220816045540.\n"
     ]
    },
    {
     "name": "stderr",
     "output_type": "stream",
     "text": [
      "Processing flood events:  56%|█████▋    | 31/55 [01:00<00:25,  1.05s/event]"
     ]
    },
    {
     "name": "stdout",
     "output_type": "stream",
     "text": [
      "Processing folder CB_03_20220929152627_20220929180227.\n"
     ]
    },
    {
     "name": "stderr",
     "output_type": "stream",
     "text": [
      "Processing flood events:  58%|█████▊    | 32/55 [01:02<00:31,  1.35s/event]"
     ]
    },
    {
     "name": "stdout",
     "output_type": "stream",
     "text": [
      "Processing folder CB_03_20220930035734_20220930053134.\n"
     ]
    },
    {
     "name": "stderr",
     "output_type": "stream",
     "text": [
      "Processing flood events:  60%|██████    | 33/55 [01:05<00:41,  1.88s/event]"
     ]
    },
    {
     "name": "stdout",
     "output_type": "stream",
     "text": [
      "Processing folder CB_03_20230802012435_20230802025435.\n"
     ]
    },
    {
     "name": "stderr",
     "output_type": "stream",
     "text": [
      "Processing flood events:  62%|██████▏   | 34/55 [01:07<00:37,  1.77s/event]"
     ]
    },
    {
     "name": "stdout",
     "output_type": "stream",
     "text": [
      "Processing folder CB_03_20240109234026_20240109235226.\n"
     ]
    },
    {
     "name": "stderr",
     "output_type": "stream",
     "text": [
      "Processing flood events:  64%|██████▎   | 35/55 [01:07<00:27,  1.39s/event]"
     ]
    },
    {
     "name": "stdout",
     "output_type": "stream",
     "text": [
      "Processing folder CB_03_20220819170426_20220819170526.\n",
      "Processing folder CB_03_20221125134834_20221125153634.\n"
     ]
    },
    {
     "name": "stderr",
     "output_type": "stream",
     "text": [
      "Processing flood events:  67%|██████▋   | 37/55 [01:10<00:23,  1.31s/event]"
     ]
    },
    {
     "name": "stdout",
     "output_type": "stream",
     "text": [
      "Processing folder CB_03_20241115121713_20241115135913.\n"
     ]
    },
    {
     "name": "stderr",
     "output_type": "stream",
     "text": [
      "Processing flood events:  69%|██████▉   | 38/55 [01:21<01:02,  3.65s/event]"
     ]
    },
    {
     "name": "stdout",
     "output_type": "stream",
     "text": [
      "Processing folder CB_03_20231227122826_20231227142826.\n"
     ]
    },
    {
     "name": "stderr",
     "output_type": "stream",
     "text": [
      "Processing flood events:  71%|███████   | 39/55 [01:22<00:47,  2.98s/event]"
     ]
    },
    {
     "name": "stdout",
     "output_type": "stream",
     "text": [
      "Processing folder CB_03_20230803021235_20230803034835.\n"
     ]
    },
    {
     "name": "stderr",
     "output_type": "stream",
     "text": [
      "Processing flood events:  73%|███████▎  | 40/55 [01:23<00:38,  2.57s/event]"
     ]
    },
    {
     "name": "stdout",
     "output_type": "stream",
     "text": [
      "Processing folder CB_03_20221004210501_20221004222401.\n"
     ]
    },
    {
     "name": "stderr",
     "output_type": "stream",
     "text": [
      "Processing flood events:  75%|███████▍  | 41/55 [01:25<00:32,  2.35s/event]"
     ]
    },
    {
     "name": "stdout",
     "output_type": "stream",
     "text": [
      "Processing folder CB_03_20220619040046_20220619063446.\n"
     ]
    },
    {
     "name": "stderr",
     "output_type": "stream",
     "text": [
      "Processing flood events:  76%|███████▋  | 42/55 [01:27<00:31,  2.39s/event]"
     ]
    },
    {
     "name": "stdout",
     "output_type": "stream",
     "text": [
      "Processing folder CB_03_20241114234653_20241115012253.\n"
     ]
    },
    {
     "name": "stderr",
     "output_type": "stream",
     "text": [
      "Processing flood events:  78%|███████▊  | 43/55 [01:30<00:29,  2.42s/event]"
     ]
    },
    {
     "name": "stdout",
     "output_type": "stream",
     "text": [
      "Processing folder CB_03_20240808023054_20240808050054.\n"
     ]
    },
    {
     "name": "stderr",
     "output_type": "stream",
     "text": [
      "Processing flood events:  80%|████████  | 44/55 [01:34<00:30,  2.80s/event]"
     ]
    },
    {
     "name": "stdout",
     "output_type": "stream",
     "text": [
      "Processing folder CB_03_20220910002130_20220910024130.\n"
     ]
    },
    {
     "name": "stderr",
     "output_type": "stream",
     "text": [
      "Processing flood events:  82%|████████▏ | 45/55 [01:36<00:26,  2.69s/event]"
     ]
    },
    {
     "name": "stdout",
     "output_type": "stream",
     "text": [
      "Processing folder CB_03_20241116121133_20241116161133.\n"
     ]
    },
    {
     "name": "stderr",
     "output_type": "stream",
     "text": [
      "Processing flood events:  84%|████████▎ | 46/55 [01:57<01:11,  7.96s/event]"
     ]
    },
    {
     "name": "stdout",
     "output_type": "stream",
     "text": [
      "Processing folder CB_03_20241003133313_20241003152113.\n"
     ]
    },
    {
     "name": "stderr",
     "output_type": "stream",
     "text": [
      "Processing flood events:  85%|████████▌ | 47/55 [01:58<00:48,  6.06s/event]"
     ]
    },
    {
     "name": "stdout",
     "output_type": "stream",
     "text": [
      "Processing folder CB_03_20241117133552_20241117161752.\n"
     ]
    },
    {
     "name": "stderr",
     "output_type": "stream",
     "text": [
      "Processing flood events:  87%|████████▋ | 48/55 [02:12<00:59,  8.48s/event]"
     ]
    },
    {
     "name": "stdout",
     "output_type": "stream",
     "text": [
      "Processing folder CB_03_20230902161404_20230902163204.\n"
     ]
    },
    {
     "name": "stderr",
     "output_type": "stream",
     "text": [
      "Processing flood events:  89%|████████▉ | 49/55 [02:13<00:36,  6.04s/event]"
     ]
    },
    {
     "name": "stdout",
     "output_type": "stream",
     "text": [
      "Processing folder CB_03_20230830230204_20230831041404.\n"
     ]
    },
    {
     "name": "stderr",
     "output_type": "stream",
     "text": [
      "Processing flood events:  91%|█████████ | 50/55 [02:20<00:32,  6.46s/event]"
     ]
    },
    {
     "name": "stdout",
     "output_type": "stream",
     "text": [
      "Processing folder CB_03_20220819165626_20220819170126.\n",
      "Processing folder CB_03_20230122122349_20230122161149.\n"
     ]
    },
    {
     "name": "stderr",
     "output_type": "stream",
     "text": [
      "Processing flood events:  95%|█████████▍| 52/55 [02:21<00:11,  3.79s/event]"
     ]
    },
    {
     "name": "stdout",
     "output_type": "stream",
     "text": [
      "Processing folder CB_03_20220618032947_20220618051606.\n"
     ]
    },
    {
     "name": "stderr",
     "output_type": "stream",
     "text": [
      "Processing flood events:  96%|█████████▋| 53/55 [02:23<00:06,  3.22s/event]"
     ]
    },
    {
     "name": "stdout",
     "output_type": "stream",
     "text": [
      "Processing folder CB_03_20240109235826_20240110005226.\n"
     ]
    },
    {
     "name": "stderr",
     "output_type": "stream",
     "text": [
      "Processing flood events:  98%|█████████▊| 54/55 [02:24<00:02,  2.77s/event]"
     ]
    },
    {
     "name": "stdout",
     "output_type": "stream",
     "text": [
      "Processing folder CB_03_20220615012935_20220615024735.\n"
     ]
    },
    {
     "name": "stderr",
     "output_type": "stream",
     "text": [
      "Processing flood events: 100%|██████████| 55/55 [02:25<00:00,  2.65s/event]\n"
     ]
    }
   ],
   "source": [
    "# Path to the main directory containing subfolders\n",
    "main_directory = '/home/rmccune/depth_mapping/CB03_all_photos/flood_events'\n",
    "\n",
    "# # Iterate through each subfolder in the main directory\n",
    "# for subfolder in os.listdir(main_directory):\n",
    "#     subfolder_path = os.path.join(main_directory, subfolder)\n",
    "    \n",
    "#     # Check if it is a directory\n",
    "#     if os.path.isdir(subfolder_path):\n",
    "#         labels_rects_zarr_folder = os.path.join(subfolder_path, 'zarr', 'labels_rects')\n",
    "        \n",
    "#         # Check if the orig_images and labels folders exist\n",
    "#         if os.path.exists(labels_rects_zarr_folder):\n",
    "#             depth_map_zarr_save_dir = os.path.join(subfolder_path, 'zarr', 'depth_maps_95th_ponding')\n",
    "#             mapper.process_depth_maps(labels_rects_zarr_folder, depth_map_zarr_save_dir)\n",
    "\n",
    "# Get a list of subfolders\n",
    "subfolders = [f for f in os.listdir(main_directory) if os.path.isdir(os.path.join(main_directory, f))]\n",
    "\n",
    "# Iterate through each subfolder with a progress bar\n",
    "for subfolder in tqdm(subfolders, desc=\"Processing flood events\", unit=\"event\"):\n",
    "    subfolder_path = os.path.join(main_directory, subfolder)\n",
    "    labels_rects_zarr_folder = os.path.join(subfolder_path, 'zarr', 'labels_rects')\n",
    "    \n",
    "    # Check if the labels_rects folder exists\n",
    "    if os.path.exists(labels_rects_zarr_folder):\n",
    "        # print(f\"Processing folder {subfolder}.\")\n",
    "        depth_map_zarr_save_dir = os.path.join(subfolder_path, 'zarr', 'depth_maps_95th_ponding')\n",
    "        mapper.process_depth_maps(labels_rects_zarr_folder, depth_map_zarr_save_dir)"
   ]
  },
  {
   "cell_type": "code",
   "execution_count": null,
   "metadata": {},
   "outputs": [],
   "source": []
  }
 ],
 "metadata": {
  "kernelspec": {
   "display_name": "gpu_acc",
   "language": "python",
   "name": "python3"
  },
  "language_info": {
   "codemirror_mode": {
    "name": "ipython",
    "version": 3
   },
   "file_extension": ".py",
   "mimetype": "text/x-python",
   "name": "python",
   "nbconvert_exporter": "python",
   "pygments_lexer": "ipython3",
   "version": "3.12.2"
  }
 },
 "nbformat": 4,
 "nbformat_minor": 2
}
