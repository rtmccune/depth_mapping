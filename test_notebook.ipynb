{
 "cells": [
  {
   "cell_type": "code",
   "execution_count": 1,
   "metadata": {},
   "outputs": [],
   "source": [
    "from image_processing.image_utils import *\n",
    "import pandas as pd\n",
    "import os\n",
    "import shutil"
   ]
  },
  {
   "cell_type": "code",
   "execution_count": 2,
   "metadata": {},
   "outputs": [],
   "source": [
    "preds_dir = '/home/rmccune/depth_mapping/CB03_all_photos/test_segs'\n",
    "labels_dir = '/home/rmccune/depth_mapping/CB03_all_photos/test_labls'"
   ]
  },
  {
   "cell_type": "code",
   "execution_count": 3,
   "metadata": {},
   "outputs": [
    {
     "name": "stderr",
     "output_type": "stream",
     "text": [
      "Generating labels from predictions:   0%|          | 0/137 [00:00<?, ?it/s]"
     ]
    },
    {
     "name": "stderr",
     "output_type": "stream",
     "text": [
      "Generating labels from predictions: 100%|██████████| 137/137 [00:17<00:00,  7.85it/s]\n"
     ]
    }
   ],
   "source": [
    "create_labels_from_predsegs(preds_dir, labels_dir, use_gpu=False)"
   ]
  },
  {
   "cell_type": "code",
   "execution_count": 5,
   "metadata": {},
   "outputs": [
    {
     "name": "stderr",
     "output_type": "stream",
     "text": [
      "Generating labels from predictions: 100%|██████████| 137/137 [00:18<00:00,  7.57it/s]\n"
     ]
    }
   ],
   "source": [
    "create_labels_from_predsegs(preds_dir, labels_dir, use_gpu=True, batch_size=100)"
   ]
  },
  {
   "cell_type": "markdown",
   "metadata": {},
   "source": [
    "Separate Water Levels into separate csvs per flood event"
   ]
  },
  {
   "cell_type": "code",
   "execution_count": 2,
   "metadata": {},
   "outputs": [],
   "source": [
    "# Load the abbreviated flood events and full data records\n",
    "abbr_flood_events = pd.read_csv('/home/rmccune/depth_mapping/CB_03_flood_record/abbr_flood_events.csv')\n",
    "flood_events = pd.read_csv('/home/rmccune/depth_mapping/CB_03_flood_record/flood_events.csv')\n",
    "\n",
    "# Ensure the output directory exists\n",
    "output_dir = 'output_flood_events'\n",
    "os.makedirs(output_dir, exist_ok=True)"
   ]
  },
  {
   "cell_type": "code",
   "execution_count": 3,
   "metadata": {},
   "outputs": [
    {
     "name": "stdout",
     "output_type": "stream",
     "text": [
      "Successfully created CSV files in 'output_flood_events' directory.\n"
     ]
    }
   ],
   "source": [
    "# Convert the start and end time columns to datetime\n",
    "abbr_flood_events['start_time_UTC'] = pd.to_datetime(abbr_flood_events['start_time_UTC'], utc=True)\n",
    "abbr_flood_events['end_time_UTC'] = pd.to_datetime(abbr_flood_events['end_time_UTC'], utc=True)\n",
    "\n",
    "# Format datetime to string for folder naming\n",
    "abbr_flood_events['start_time_str'] = abbr_flood_events['start_time_UTC'].dt.strftime('%Y%m%d%H%M%S')\n",
    "abbr_flood_events['end_time_str'] = abbr_flood_events['end_time_UTC'].dt.strftime('%Y%m%d%H%M%S')\n",
    "\n",
    "# Iterate over each unique flood event in the abbreviated events\n",
    "for _, row in abbr_flood_events.iterrows():\n",
    "    flood_event_number = row['flood_event']\n",
    "    start_time_utc = row['start_time_str']\n",
    "    end_time_utc = row['end_time_str']\n",
    "    \n",
    "    sensor_id = row['sensor_ID']\n",
    "    \n",
    "    # Filter the full flood events DataFrame for the current flood event number\n",
    "    filtered_events = flood_events[flood_events['flood_event'] == flood_event_number]\n",
    "    \n",
    "    # Generate a filename based on start_time_UTC and end_time_UTC\n",
    "    filename = f\"{sensor_id}_{start_time_utc}_{end_time_utc}.csv\"\n",
    "    \n",
    "    # Save the filtered DataFrame to a new CSV file\n",
    "    filtered_events.to_csv(os.path.join(output_dir, filename), index=False)\n",
    "\n",
    "print(f\"Successfully created CSV files in '{output_dir}' directory.\")"
   ]
  },
  {
   "cell_type": "markdown",
   "metadata": {},
   "source": [
    "Move csvs into proper subfolders"
   ]
  },
  {
   "cell_type": "code",
   "execution_count": 5,
   "metadata": {},
   "outputs": [
    {
     "name": "stdout",
     "output_type": "stream",
     "text": [
      "CSV files have been moved to their corresponding subfolders.\n"
     ]
    }
   ],
   "source": [
    "# Define the main directory where the output CSV files are located\n",
    "main_directory = 'output_flood_events'\n",
    "# Define the parent directory where you want to create subfolders\n",
    "parent_directory = '/home/rmccune/depth_mapping/CB03_all_photos/flood_events'  # Change this to your actual parent directory\n",
    "\n",
    "# Iterate over the files in the main directory\n",
    "for filename in os.listdir(main_directory):\n",
    "    if filename.endswith('.csv'):\n",
    "        # Extract the folder name from the filename (without the .csv extension)\n",
    "        folder_name = filename[:-4]  # Remove '.csv' from the filename\n",
    "        \n",
    "        # Create the full path for the subfolder\n",
    "        subfolder_path = os.path.join(parent_directory, folder_name)\n",
    "        \n",
    "        # Create the subfolder if it doesn't exist\n",
    "        os.makedirs(subfolder_path, exist_ok=True)\n",
    "        \n",
    "        # Move the CSV file to the corresponding subfolder\n",
    "        source_path = os.path.join(main_directory, filename)\n",
    "        destination_path = os.path.join(subfolder_path, filename)\n",
    "        shutil.move(source_path, destination_path)\n",
    "\n",
    "print(\"CSV files have been moved to their corresponding subfolders.\")\n"
   ]
  },
  {
   "cell_type": "code",
   "execution_count": 2,
   "metadata": {},
   "outputs": [],
   "source": [
    "import numpy as np \n",
    "import cupy as cp\n",
    "import cupyx as cpx\n",
    "import time\n",
    "import cv2\n",
    "import zarr\n",
    "\n",
    "# from gpu_acc_utils import *\n",
    "from cupyx.scipy.interpolate import RegularGridInterpolator as reg_interp\n",
    "from cupyx.scipy.ndimage import binary_closing\n",
    "from cupyx.scipy.ndimage import label\n",
    "from skimage.measure import find_contours\n",
    "import image_processing"
   ]
  },
  {
   "cell_type": "code",
   "execution_count": 2,
   "metadata": {},
   "outputs": [],
   "source": [
    "file_path = '/home/rmccune/depth_mapping/data/lidar/Job1051007_34077_04_88.laz'\n",
    "\n",
    "min_x_extent = 712160\n",
    "max_x_extent = 712230\n",
    "min_y_extent = 33100\n",
    "max_y_extent = 33170\n",
    "\n",
    "grid_gen = image_processing.GridGenerator(file_path, min_x_extent, max_x_extent, min_y_extent, max_y_extent)"
   ]
  },
  {
   "cell_type": "code",
   "execution_count": 3,
   "metadata": {},
   "outputs": [
    {
     "name": "stdout",
     "output_type": "stream",
     "text": [
      "Directory to store grids already exists: generated_grids\n"
     ]
    }
   ],
   "source": [
    "resolution = 0.05 # meters\n",
    "\n",
    "pts_array = grid_gen.create_point_array()\n",
    "grid_x, grid_y, grid_z = grid_gen.gen_grid(resolution, z=pts_array)\n",
    "\n",
    "grid_z_gpu = cp.asarray(grid_z)"
   ]
  },
  {
   "cell_type": "code",
   "execution_count": 4,
   "metadata": {},
   "outputs": [],
   "source": [
    "from image_processing.depth_mapper import DepthMapper"
   ]
  },
  {
   "cell_type": "code",
   "execution_count": 7,
   "metadata": {},
   "outputs": [],
   "source": [
    "zarr_directory_path = '/home/rmccune/depth_mapping/CB03_all_photos/flood_events/CB_03_20220617023112_20220617040940/zarr/labels_rects'\n",
    "zarr_store_path = '/home/rmccune/depth_mapping/CB03_all_photos/flood_events/CB_03_20220617023112_20220617040940/zarr/depth_maps_95th_ponding_OOP_debug_save'\n",
    "\n",
    "mapper = DepthMapper(grid_z_gpu)"
   ]
  },
  {
   "cell_type": "code",
   "execution_count": null,
   "metadata": {},
   "outputs": [],
   "source": [
    "mapper.process_depth_maps(zarr_directory_path, zarr_store_path)"
   ]
  },
  {
   "cell_type": "code",
   "execution_count": 3,
   "metadata": {},
   "outputs": [],
   "source": [
    "import os\n",
    "import zarr\n",
    "import matplotlib.pyplot as plt\n",
    "import cmocean"
   ]
  },
  {
   "cell_type": "code",
   "execution_count": 8,
   "metadata": {},
   "outputs": [],
   "source": [
    "def plot_depth_maps(zarr_dir, plotting_folder, depth_min=0, depth_max=0.25):\n",
    "\n",
    "    depth_data = []\n",
    "\n",
    "    for file_name in os.listdir(zarr_dir):\n",
    "        if file_name.endswith('_ponding'):\n",
    "            zarr_store_path = os.path.join(zarr_dir, file_name)\n",
    "            img_store = zarr.open(zarr_store_path)\n",
    "            \n",
    "            depth_map = img_store[:]\n",
    "            \n",
    "            print(f\"Processing depth map: {file_name}\")\n",
    "\n",
    "            # Overlay the depth map\n",
    "            im = plt.imshow(depth_map, cmap=cmocean.cm.deep, vmin=depth_min, vmax=depth_max)  # Adjust alpha for transparency\n",
    "            # print(f\"Vmin:{depth_min} Vmax: {depth_max} Max depth: {np.nanmax(depth_map)} Min depth: {np.nanmin(depth_map)}\")\n",
    "\n",
    "            # plt.scatter(max_elev_point_indices[1], max_elev_point_indices[0], c='red', s=10, marker='o')\n",
    "\n",
    "            # Add a colorbar for the depth map\n",
    "            cbar = plt.colorbar(im, label='Depth')\n",
    "            cbar.set_label('Depth (meters)')\n",
    "\n",
    "            plt.gca().invert_yaxis()\n",
    "            plt.xlabel('X (cm)')\n",
    "            plt.ylabel('Y (cm)')\n",
    "\n",
    "            # Save the figure\n",
    "            plt.savefig(os.path.join(plotting_folder, file_name), \n",
    "                        bbox_inches='tight', pad_inches=0.1, dpi=300)\n",
    "            \n",
    "            plt.close()"
   ]
  },
  {
   "cell_type": "code",
   "execution_count": 9,
   "metadata": {},
   "outputs": [
    {
     "name": "stdout",
     "output_type": "stream",
     "text": [
      "Processing depth map: CAM_CB_03_20220617023633_predseg_labels_rectified_depth_map_95_perc_edge_ponding\n",
      "Processing depth map: CAM_CB_03_20220617033032_predseg_labels_rectified_depth_map_95_perc_edge_ponding\n",
      "Processing depth map: CAM_CB_03_20220617033631_predseg_labels_rectified_depth_map_95_perc_edge_ponding\n",
      "Processing depth map: CAM_CB_03_20220617035433_predseg_labels_rectified_depth_map_95_perc_edge_ponding\n",
      "Processing depth map: CAM_CB_03_20220617032434_predseg_labels_rectified_depth_map_95_perc_edge_ponding\n",
      "Processing depth map: CAM_CB_03_20220617040633_predseg_labels_rectified_depth_map_95_perc_edge_ponding\n",
      "Processing depth map: CAM_CB_03_20220617034232_predseg_labels_rectified_depth_map_95_perc_edge_ponding\n",
      "Processing depth map: CAM_CB_03_20220617030630_predseg_labels_rectified_depth_map_95_perc_edge_ponding\n",
      "Processing depth map: CAM_CB_03_20220617025433_predseg_labels_rectified_depth_map_95_perc_edge_ponding\n",
      "Processing depth map: CAM_CB_03_20220617040032_predseg_labels_rectified_depth_map_95_perc_edge_ponding\n",
      "Processing depth map: CAM_CB_03_20220617024233_predseg_labels_rectified_depth_map_95_perc_edge_ponding\n",
      "Processing depth map: CAM_CB_03_20220617034828_predseg_labels_rectified_depth_map_95_perc_edge_ponding\n",
      "Processing depth map: CAM_CB_03_20220617031830_predseg_labels_rectified_depth_map_95_perc_edge_ponding\n",
      "Processing depth map: CAM_CB_03_20220617030033_predseg_labels_rectified_depth_map_95_perc_edge_ponding\n",
      "Processing depth map: CAM_CB_03_20220617031232_predseg_labels_rectified_depth_map_95_perc_edge_ponding\n",
      "Processing depth map: CAM_CB_03_20220617024832_predseg_labels_rectified_depth_map_95_perc_edge_ponding\n"
     ]
    }
   ],
   "source": [
    "zarr_store_path = '/home/rmccune/depth_mapping/CB03_all_photos/flood_events/CB_03_20220617023112_20220617040940/zarr/depth_maps_95th_ponding_OOP_debug_save'\n",
    "plot_depth_maps(zarr_store_path, '/home/rmccune/depth_mapping_updated/plots/depth_maps_95th_ponding_OOP_debug_save')"
   ]
  },
  {
   "cell_type": "code",
   "execution_count": null,
   "metadata": {},
   "outputs": [],
   "source": []
  },
  {
   "cell_type": "code",
   "execution_count": null,
   "metadata": {},
   "outputs": [],
   "source": []
  },
  {
   "cell_type": "code",
   "execution_count": null,
   "metadata": {},
   "outputs": [],
   "source": []
  },
  {
   "cell_type": "code",
   "execution_count": 4,
   "metadata": {},
   "outputs": [],
   "source": [
    "import os\n",
    "from tqdm import tqdm"
   ]
  },
  {
   "cell_type": "markdown",
   "metadata": {},
   "source": [
    "Process depth maps for all flood events in main directory/"
   ]
  },
  {
   "cell_type": "code",
   "execution_count": null,
   "metadata": {},
   "outputs": [],
   "source": [
    "# Path to the main directory containing subfolders\n",
    "main_directory = '/home/rmccune/depth_mapping/CB03_all_photos/flood_events'\n",
    "\n",
    "# # Iterate through each subfolder in the main directory\n",
    "# for subfolder in os.listdir(main_directory):\n",
    "#     subfolder_path = os.path.join(main_directory, subfolder)\n",
    "    \n",
    "#     # Check if it is a directory\n",
    "#     if os.path.isdir(subfolder_path):\n",
    "#         labels_rects_zarr_folder = os.path.join(subfolder_path, 'zarr', 'labels_rects')\n",
    "        \n",
    "#         # Check if the orig_images and labels folders exist\n",
    "#         if os.path.exists(labels_rects_zarr_folder):\n",
    "#             depth_map_zarr_save_dir = os.path.join(subfolder_path, 'zarr', 'depth_maps_95th_ponding')\n",
    "#             mapper.process_depth_maps(labels_rects_zarr_folder, depth_map_zarr_save_dir)\n",
    "\n",
    "# Get a list of subfolders\n",
    "subfolders = [f for f in os.listdir(main_directory) if os.path.isdir(os.path.join(main_directory, f))]\n",
    "\n",
    "# Iterate through each subfolder with a progress bar\n",
    "for subfolder in tqdm(subfolders, desc=\"Processing flood events\", unit=\"event\"):\n",
    "    subfolder_path = os.path.join(main_directory, subfolder)\n",
    "    labels_rects_zarr_folder = os.path.join(subfolder_path, 'zarr', 'labels_rects')\n",
    "    \n",
    "    # Check if the labels_rects folder exists\n",
    "    if os.path.exists(labels_rects_zarr_folder):\n",
    "        # print(f\"Processing folder {subfolder}.\")\n",
    "        depth_map_zarr_save_dir = os.path.join(subfolder_path, 'zarr', 'depth_maps_95th_ponding')\n",
    "        mapper.process_depth_maps(labels_rects_zarr_folder, depth_map_zarr_save_dir)"
   ]
  },
  {
   "cell_type": "markdown",
   "metadata": {},
   "source": [
    "# Plot Depth Maps with Water Levels"
   ]
  },
  {
   "cell_type": "code",
   "execution_count": 1,
   "metadata": {},
   "outputs": [],
   "source": [
    "def plot_depth_maps_and_water_lvls(depth_map_zarr_dir, orig_image_zarr_dir, virtual_sensor_locs, datetimes, results_df, plotting_folder, vs_depth_list, depth_min=0, depth_max=0.25):\n",
    "\n",
    "    depth_data = []\n",
    "\n",
    "    for file_name in sorted(os.listdir(depth_map_zarr_dir)):\n",
    "        if file_name.endswith('_ponding'):\n",
    "            \n",
    "            timestamp = image_processing.image_utils.extract_timestamp(file_name)\n",
    "            date = pd.to_datetime(timestamp, utc=True)\n",
    "            orig_file_name = None\n",
    "            for f in os.listdir(orig_image_zarr_dir):\n",
    "                if image_processing.image_utils.extract_timestamp(f) == timestamp:\n",
    "                    orig_file_name = f\n",
    "                    break\n",
    "            \n",
    "            if orig_file_name is None:\n",
    "                print(f\"Warning: No matching original image found for {file_name}\")\n",
    "                continue\n",
    "            \n",
    "            orig_zarr_store_path = os.path.join(orig_image_zarr_dir, orig_file_name)\n",
    "            orig_img_store = zarr.open(orig_zarr_store_path, mode='r')\n",
    "            orig_image = orig_img_store[:]\n",
    "            \n",
    "            zarr_store_path = os.path.join(depth_map_zarr_dir, file_name)\n",
    "            img_store = zarr.open(zarr_store_path)\n",
    "            \n",
    "            depth_map = img_store[:]\n",
    "            \n",
    "            print(f\"Processing depth map: {file_name}\")\n",
    "\n",
    "            fig = plt.figure(figsize=(12, 12))\n",
    "\n",
    "            # Create a GridSpec with 3 rows and 1 column, where the first row is larger\n",
    "            # gs = fig.add_gridspec(3, 1, height_ratios=[3, 1, 1])\n",
    "            gs = fig.add_gridspec(2, 1, height_ratios=[1.5, 1])\n",
    "\n",
    "            ax1 = fig.add_subplot(gs[0])\n",
    "            ax1.imshow(orig_image, cmap='gray')  # Assuming ir_array is your grayscale image\n",
    "            im = ax1.imshow(depth_map, cmap=cmocean.cm.deep, vmin=depth_min, vmax=depth_max)  # Adjust alpha for transparency\n",
    "            ax1.scatter(virtual_sensor_locs[0][0], virtual_sensor_locs[0][1], color=sensor_1_color, s=15, marker='v')\n",
    "            ax1.scatter(virtual_sensor_locs[1][0], virtual_sensor_locs[1][1], color=sensor_2_color, s=15, marker='s')\n",
    "            ax1.scatter(virtual_sensor_locs[2][0], virtual_sensor_locs[2][1], color=sensor_3_color, s=15, marker='d')\n",
    "            cbar = plt.colorbar(im, label='Depth')\n",
    "            cbar.set_label('Depth (m)')\n",
    "            ax1.invert_yaxis()\n",
    "            ax1.set_xlabel('X (cm)')\n",
    "            ax1.set_ylabel('Y (cm)')\n",
    "\n",
    "            ax1.text(0.05, 0.95, f'Spatial Extent ($m^2$): {round((np.sum(~np.isnan(depth_map))) * 0.0001 * 10 * 10, 2)}', \n",
    "                     transform=ax1.transAxes, \n",
    "                     fontsize=12, \n",
    "                     verticalalignment='top', \n",
    "                     bbox=dict(facecolor='white', alpha=0.8, edgecolor='black'))\n",
    "\n",
    "            # ax2 = fig.add_subplot(gs[1])\n",
    "            # ax2.plot(results_df['closest_utc_time'], results_df['water_level'], label='Observed Water Level', color=water_level_color)\n",
    "            # ax2.plot(results_df['closest_utc_time'], np.zeros(results_df['closest_utc_time'].shape), \n",
    "            #          c='k', linestyle='--', label='Roadway Elevation')\n",
    "\n",
    "            # # Plotting the max and average depth\n",
    "            # ax2.plot(datetimes, max_depth_list, label='Maximum Depth', linestyle='-', color=max_depth_color)\n",
    "            # ax2.plot(datetimes, avg_depth_list, label='Average Depth', linestyle='-.', color=avg_depth_color)\n",
    "            # ax2.axvline(x=date, color='k', linestyle='-')\n",
    "\n",
    "            # ax3 = fig.add_subplot(gs[2], sharex=ax2, sharey=ax2)\n",
    "            ax3 = fig.add_subplot(gs[1])\n",
    "            \n",
    "            ax3.plot(results_df['closest_utc_time'], results_df['water_level'], label='Observed Water Level', color=water_level_color)\n",
    "            # ax3.plot(results_df['closest_utc_time'], np.zeros(results_df['closest_utc_time'].shape), \n",
    "            #          c='k', linestyle='--', label='Roadway Elevation')\n",
    "\n",
    "            # Plotting the sensor readings\n",
    "            # ax3.scatter(datetimes, vs_3_depth_list, label='Sensor 1 Depth', marker='d', color=sensor_3_color, s=10)\n",
    "            # ax3.scatter(datetimes, vs_1_depth_list, label='Sensor 2 Depth',  marker='v', color=sensor_1_color, s=10)\n",
    "            # ax3.scatter(datetimes, vs_2_depth_list, label='Sensor 3 Depth', marker='s', color=sensor_2_color, s=10)\n",
    "            ax3.scatter(datetimes, vs_depth_list[2], label='Sensor 1 Depth', marker='d', color=sensor_3_color, s=10)\n",
    "            ax3.scatter(datetimes, vs_depth_list[0], label='Sensor 2 Depth',  marker='v', color=sensor_1_color, s=10)\n",
    "            ax3.scatter(datetimes, vs_depth_list[1], label='Sensor 3 Depth', marker='s', color=sensor_2_color, s=10)\n",
    "            \n",
    "            \n",
    "            ax3.axvline(x=date, color='k', linestyle='-', zorder=1)\n",
    "            # ax3.scatter(date, vs_1_depth, marker='v', color=sensor_1_color, s=20, zorder=2)\n",
    "            # ax3.scatter(date, vs_2_depth, marker='s', color=sensor_2_color, s=20, zorder=2)\n",
    "            # ax3.scatter(date, vs_3_depth, marker='d', color=sensor_3_color, s=20, zorder=2)\n",
    "            # ax2.set_ylim(-0.25,0.75)\n",
    "            ax3.set_ylim(-0.25,0.75)\n",
    "\n",
    "            # Axis labels and title\n",
    "            # ax2.set_xlabel('Time')\n",
    "            # ax2.tick_params(axis='x', rotation=45)\n",
    "            ax3.tick_params(axis='x', rotation=45)\n",
    "            # ax3.set_xticklabels(ax3.get_xticks(), rotation=45)\n",
    "            # ax2.set_ylabel('Water Level Relative to Roadway (m)')\n",
    "            # ax2.set_title('Water Level and Depth Measurements Over Time')\n",
    "            ax3.set_title('Water Level From Virtual Sensor Locations Over Time')\n",
    "            ax3.set_ylabel('Water Depth (m)')\n",
    "\n",
    "            # Adding gridlines\n",
    "            # ax2.grid(True)\n",
    "            ax3.grid(True)\n",
    "\n",
    "            # ax2.xaxis.set_major_formatter(mdates.DateFormatter('%m-%d %H:%M'))  # Adjust format as needed\n",
    "\n",
    "            # Adding legend outside of the figure bounds\n",
    "            # ax2.legend(loc='upper left', bbox_to_anchor=(1.05, 1), borderaxespad=0.)\n",
    "            # ax3.legend(loc='upper left', bbox_to_anchor=(1.05, 1), borderaxespad=0.)\n",
    "            ax3.legend(loc='upper right')\n",
    "\n",
    "            plt.tight_layout()\n",
    "            \n",
    "            # Save the figure\n",
    "            plt.savefig(os.path.join(plotting_folder, file_name), \n",
    "                        bbox_inches='tight', pad_inches=0.1, dpi=300)\n",
    "            \n",
    "            plt.close()\n",
    "            img_store.store.close()"
   ]
  },
  {
   "cell_type": "code",
   "execution_count": 9,
   "metadata": {},
   "outputs": [],
   "source": [
    "import os\n",
    "import pandas as pd\n",
    "import image_processing\n",
    "import pytz\n",
    "from datetime import datetime\n",
    "import cmocean\n",
    "import matplotlib.pyplot as plt\n",
    "import numpy as np"
   ]
  },
  {
   "cell_type": "code",
   "execution_count": null,
   "metadata": {},
   "outputs": [],
   "source": [
    "water_level_color = cmocean.cm.balance(0.2)\n",
    "# roadway_elevation_color = cmocean.cm.deep(0.7)\n",
    "max_depth_color = cmocean.cm.balance(0.9)\n",
    "avg_depth_color = cmocean.cm.balance(0.6)\n",
    "sensor_1_color = cmocean.cm.phase(0.1)\n",
    "sensor_2_color = cmocean.cm.phase(0.3)\n",
    "sensor_3_color = cmocean.cm.phase(0.5)\n",
    "\n",
    "virtual_sensor_locs = np.array([[125, 390], \n",
    "                       [75, 440],\n",
    "                       [5, 370],\n",
    "                       [9, 355]])\n",
    "\n",
    "virtual_sensor_locs = virtual_sensor_locs * 2\n",
    "\n",
    "# Path to the main directory containing subfolders\n",
    "main_directory = '/home/rmccune/depth_mapping/CB03_all_photos/flood_events'\n",
    "\n",
    "# Get a list of subfolders\n",
    "flood_events_folders = [f for f in os.listdir(main_directory) if os.path.isdir(os.path.join(main_directory, f))]\n",
    "\n",
    "# Iterate through each subfolder with a progress bar\n",
    "for flood_event in tqdm(flood_events_folders, desc=\"Plotting depth maps for flood events...\", unit=\"event\"):\n",
    "    flood_event_path = os.path.join(main_directory, flood_event)\n",
    "    \n",
    "    sunnyd_data = pd.read_csv(os.path.join(flood_event_path, flood_event + '.csv'))\n",
    "    sunnyd_data['time_UTC'] = pd.to_datetime(sunnyd_data['time_UTC'])\n",
    "    \n",
    "    orig_images_path = os.path.join(flood_event_path, 'orig_images')\n",
    "    image_list = sorted(os.listdir(orig_images_path))\n",
    "    results = []\n",
    "\n",
    "    # Iterate over image filenames\n",
    "    for filename in image_list:\n",
    "        # Extract the sensor id and timestamp\n",
    "        sensor_id = image_processing.image_utils.extract_camera_name(filename)[4:]\n",
    "        timestamp = image_processing.image_utils.extract_timestamp(filename)\n",
    "\n",
    "        timestamp = pytz.utc.localize(datetime.strptime(timestamp, \"%Y%m%d%H%M%S\"))\n",
    "        \n",
    "        # Filter the dataframe by sensor id\n",
    "        filtered_df = sunnyd_data[sunnyd_data['sensor_ID'] == sensor_id]\n",
    "        \n",
    "        # Find the closest timestamp\n",
    "        closest_row = filtered_df.iloc[(filtered_df['time_UTC'] - timestamp).abs().argsort()[:1]]\n",
    "        \n",
    "        # Append the result\n",
    "        if not closest_row.empty:\n",
    "            result = {\n",
    "                'image_filename': filename,\n",
    "                'closest_utc_time': closest_row['time_UTC'].values[0],\n",
    "                'water_level': closest_row['water_level'].values[0] * 0.3048\n",
    "                # 'sensor_water_level': (closest_row['sensor_water_level_adj'].values[0] - 3.05) * 0.3048\n",
    "            }\n",
    "            results.append(result)\n",
    "\n",
    "    # Convert the results to a dataframe\n",
    "    results_df = pd.DataFrame(results)\n",
    "    \n",
    "    depth_maps_zarr_folder = os.path.join(flood_event_path, 'zarr', 'depth_maps_95th_ponding')\n",
    "    orig_images_zarr_folder = os.path.join(flood_event_path, 'zarr', 'orig_image_rects')\n",
    "    \n",
    "    max_depth_list = []\n",
    "    timestamp_list = []\n",
    "    avg_depth_list = []\n",
    "    vs_1_depth_list = []\n",
    "    vs_2_depth_list = []\n",
    "    vs_3_depth_list = []\n",
    "    vs_4_depth_list = []\n",
    "    \n",
    "    if os.path.exists(depth_maps_zarr_folder):\n",
    "        for file_name in os.listdir(depth_maps_zarr_folder):\n",
    "            if file_name.endswith('_ponding'):\n",
    "                timestamp = image_processing.image_utils.extract_timestamp(file_name)\n",
    "                zarr_store_path = os.path.join(depth_maps_zarr_folder, file_name)\n",
    "                img_store = zarr.open(zarr_store_path)\n",
    "                \n",
    "                depth_map = img_store[:]\n",
    "                \n",
    "                # max_elev_point_indices = np.unravel_index(np.nanargmin(depth_map), depth_map.shape)\n",
    "            \n",
    "                max_depth = np.nanmax(depth_map)\n",
    "                avg_depth = np.nanmean(depth_map)\n",
    "\n",
    "                vs_1_depth = depth_map[virtual_sensor_locs[0][1], virtual_sensor_locs[0][0]]\n",
    "                vs_2_depth = depth_map[virtual_sensor_locs[1][1], virtual_sensor_locs[1][0]]\n",
    "                vs_3_depth = depth_map[virtual_sensor_locs[2][1], virtual_sensor_locs[2][0]]\n",
    "                vs_4_depth = depth_map[virtual_sensor_locs[3][1], virtual_sensor_locs[3][0]]\n",
    "\n",
    "                timestamp_list.append(timestamp)\n",
    "                max_depth_list.append(max_depth)\n",
    "                avg_depth_list.append(avg_depth)\n",
    "                vs_1_depth_list.append(vs_1_depth)\n",
    "                vs_2_depth_list.append(vs_2_depth)\n",
    "                vs_3_depth_list.append(vs_3_depth)\n",
    "                # vs_4_depth_list.append(vs_4_depth)\n",
    "        \n",
    "        datetimes = pd.to_datetime(timestamp_list, utc=True)\n",
    "        \n",
    "        plotting_folder = os.path.join(flood_event_path, 'plots', 'depth_maps_95th_perc_ponding_w_background')\n",
    "        os.makedirs(plotting_folder, exist_ok=True)\n",
    "        plot_depth_maps_and_water_lvls(depth_maps_zarr_folder, orig_images_zarr_folder, virtual_sensor_locs, datetimes, results_df, plotting_folder)\n"
   ]
  },
  {
   "cell_type": "code",
   "execution_count": 2,
   "metadata": {},
   "outputs": [
    {
     "name": "stderr",
     "output_type": "stream",
     "text": [
      "Plotting depth maps for flood events...:   0%|          | 0/55 [00:00<?, ?it/s]"
     ]
    },
    {
     "name": "stdout",
     "output_type": "stream",
     "text": [
      "Processing depth map: CAM_CB_03_20230929003045_predseg_labels_rectified_depth_map_95_perc_edge_ponding\n",
      "Processing depth map: CAM_CB_03_20230929003646_predseg_labels_rectified_depth_map_95_perc_edge_ponding\n",
      "Processing depth map: CAM_CB_03_20230929004246_predseg_labels_rectified_depth_map_95_perc_edge_ponding\n",
      "Processing depth map: CAM_CB_03_20230929004845_predseg_labels_rectified_depth_map_95_perc_edge_ponding\n",
      "Processing depth map: CAM_CB_03_20230929005445_predseg_labels_rectified_depth_map_95_perc_edge_ponding\n",
      "Processing depth map: CAM_CB_03_20230929010044_predseg_labels_rectified_depth_map_95_perc_edge_ponding\n",
      "Processing depth map: CAM_CB_03_20230929010646_predseg_labels_rectified_depth_map_95_perc_edge_ponding\n",
      "Processing depth map: CAM_CB_03_20230929011245_predseg_labels_rectified_depth_map_95_perc_edge_ponding\n",
      "Processing depth map: CAM_CB_03_20230929011845_predseg_labels_rectified_depth_map_95_perc_edge_ponding\n",
      "Processing depth map: CAM_CB_03_20230929012446_predseg_labels_rectified_depth_map_95_perc_edge_ponding\n",
      "Processing depth map: CAM_CB_03_20230929013045_predseg_labels_rectified_depth_map_95_perc_edge_ponding\n",
      "Processing depth map: CAM_CB_03_20230929013645_predseg_labels_rectified_depth_map_95_perc_edge_ponding\n",
      "Processing depth map: CAM_CB_03_20230929014246_predseg_labels_rectified_depth_map_95_perc_edge_ponding\n",
      "Processing depth map: CAM_CB_03_20230929014846_predseg_labels_rectified_depth_map_95_perc_edge_ponding\n",
      "Processing depth map: CAM_CB_03_20230929015445_predseg_labels_rectified_depth_map_95_perc_edge_ponding\n",
      "Processing depth map: CAM_CB_03_20230929020046_predseg_labels_rectified_depth_map_95_perc_edge_ponding\n",
      "Processing depth map: CAM_CB_03_20230929020645_predseg_labels_rectified_depth_map_95_perc_edge_ponding\n",
      "Processing depth map: CAM_CB_03_20230929021246_predseg_labels_rectified_depth_map_95_perc_edge_ponding\n",
      "Processing depth map: CAM_CB_03_20230929021846_predseg_labels_rectified_depth_map_95_perc_edge_ponding\n",
      "Processing depth map: CAM_CB_03_20230929022445_predseg_labels_rectified_depth_map_95_perc_edge_ponding\n",
      "Processing depth map: CAM_CB_03_20230929023046_predseg_labels_rectified_depth_map_95_perc_edge_ponding\n",
      "Processing depth map: CAM_CB_03_20230929023645_predseg_labels_rectified_depth_map_95_perc_edge_ponding\n",
      "Processing depth map: CAM_CB_03_20230929024246_predseg_labels_rectified_depth_map_95_perc_edge_ponding\n",
      "Processing depth map: CAM_CB_03_20230929024845_predseg_labels_rectified_depth_map_95_perc_edge_ponding\n",
      "Processing depth map: CAM_CB_03_20230929025446_predseg_labels_rectified_depth_map_95_perc_edge_ponding\n",
      "Processing depth map: CAM_CB_03_20230929030033_predseg_labels_rectified_depth_map_95_perc_edge_ponding\n",
      "Processing depth map: CAM_CB_03_20230929030635_predseg_labels_rectified_depth_map_95_perc_edge_ponding\n",
      "Processing depth map: CAM_CB_03_20230929031242_predseg_labels_rectified_depth_map_95_perc_edge_ponding\n"
     ]
    },
    {
     "name": "stderr",
     "output_type": "stream",
     "text": [
      "Plotting depth maps for flood events...:   2%|▏         | 1/55 [00:39<35:41, 39.66s/it]"
     ]
    },
    {
     "name": "stdout",
     "output_type": "stream",
     "text": [
      "Processing depth map: CAM_CB_03_20240109225430_predseg_labels_rectified_depth_map_95_perc_edge_ponding\n",
      "Processing depth map: CAM_CB_03_20240109230031_predseg_labels_rectified_depth_map_95_perc_edge_ponding\n",
      "Processing depth map: CAM_CB_03_20240109230630_predseg_labels_rectified_depth_map_95_perc_edge_ponding\n",
      "Processing depth map: CAM_CB_03_20240109231231_predseg_labels_rectified_depth_map_95_perc_edge_ponding\n",
      "Processing depth map: CAM_CB_03_20240109231831_predseg_labels_rectified_depth_map_95_perc_edge_ponding\n"
     ]
    },
    {
     "name": "stderr",
     "output_type": "stream",
     "text": [
      "Plotting depth maps for flood events...:   4%|▎         | 2/55 [00:46<18:07, 20.52s/it]"
     ]
    },
    {
     "name": "stdout",
     "output_type": "stream",
     "text": [
      "Processing depth map: CAM_CB_03_20231016141825_predseg_labels_rectified_depth_map_95_perc_edge_ponding\n",
      "Processing depth map: CAM_CB_03_20231016142425_predseg_labels_rectified_depth_map_95_perc_edge_ponding\n",
      "Processing depth map: CAM_CB_03_20231016143025_predseg_labels_rectified_depth_map_95_perc_edge_ponding\n",
      "Processing depth map: CAM_CB_03_20231016143625_predseg_labels_rectified_depth_map_95_perc_edge_ponding\n",
      "Processing depth map: CAM_CB_03_20231016144225_predseg_labels_rectified_depth_map_95_perc_edge_ponding\n",
      "Processing depth map: CAM_CB_03_20231016144825_predseg_labels_rectified_depth_map_95_perc_edge_ponding\n",
      "Processing depth map: CAM_CB_03_20231016145425_predseg_labels_rectified_depth_map_95_perc_edge_ponding\n",
      "Processing depth map: CAM_CB_03_20231016150025_predseg_labels_rectified_depth_map_95_perc_edge_ponding\n",
      "Processing depth map: CAM_CB_03_20231016150625_predseg_labels_rectified_depth_map_95_perc_edge_ponding\n",
      "Processing depth map: CAM_CB_03_20231016151225_predseg_labels_rectified_depth_map_95_perc_edge_ponding\n",
      "Processing depth map: CAM_CB_03_20231016151825_predseg_labels_rectified_depth_map_95_perc_edge_ponding\n",
      "Processing depth map: CAM_CB_03_20231016152425_predseg_labels_rectified_depth_map_95_perc_edge_ponding\n",
      "Processing depth map: CAM_CB_03_20231016153025_predseg_labels_rectified_depth_map_95_perc_edge_ponding\n",
      "Processing depth map: CAM_CB_03_20231016153625_predseg_labels_rectified_depth_map_95_perc_edge_ponding\n",
      "Processing depth map: CAM_CB_03_20231016154225_predseg_labels_rectified_depth_map_95_perc_edge_ponding\n",
      "Processing depth map: CAM_CB_03_20231016154825_predseg_labels_rectified_depth_map_95_perc_edge_ponding\n",
      "Processing depth map: CAM_CB_03_20231016155425_predseg_labels_rectified_depth_map_95_perc_edge_ponding\n",
      "Processing depth map: CAM_CB_03_20231016160025_predseg_labels_rectified_depth_map_95_perc_edge_ponding\n",
      "Processing depth map: CAM_CB_03_20231016160626_predseg_labels_rectified_depth_map_95_perc_edge_ponding\n"
     ]
    },
    {
     "name": "stderr",
     "output_type": "stream",
     "text": [
      "Plotting depth maps for flood events...:   5%|▌         | 3/55 [01:15<21:11, 24.45s/it]"
     ]
    },
    {
     "name": "stdout",
     "output_type": "stream",
     "text": [
      "Processing depth map: CAM_CB_03_20230927234245_predseg_labels_rectified_depth_map_95_perc_edge_ponding\n",
      "Processing depth map: CAM_CB_03_20230927234846_predseg_labels_rectified_depth_map_95_perc_edge_ponding\n",
      "Processing depth map: CAM_CB_03_20230927235443_predseg_labels_rectified_depth_map_95_perc_edge_ponding\n",
      "Processing depth map: CAM_CB_03_20230928000046_predseg_labels_rectified_depth_map_95_perc_edge_ponding\n",
      "Processing depth map: CAM_CB_03_20230928000646_predseg_labels_rectified_depth_map_95_perc_edge_ponding\n",
      "Processing depth map: CAM_CB_03_20230928001245_predseg_labels_rectified_depth_map_95_perc_edge_ponding\n",
      "Processing depth map: CAM_CB_03_20230928001846_predseg_labels_rectified_depth_map_95_perc_edge_ponding\n",
      "Processing depth map: CAM_CB_03_20230928002446_predseg_labels_rectified_depth_map_95_perc_edge_ponding\n",
      "Processing depth map: CAM_CB_03_20230928003045_predseg_labels_rectified_depth_map_95_perc_edge_ponding\n",
      "Processing depth map: CAM_CB_03_20230928003646_predseg_labels_rectified_depth_map_95_perc_edge_ponding\n",
      "Processing depth map: CAM_CB_03_20230928004245_predseg_labels_rectified_depth_map_95_perc_edge_ponding\n",
      "Processing depth map: CAM_CB_03_20230928004845_predseg_labels_rectified_depth_map_95_perc_edge_ponding\n",
      "Processing depth map: CAM_CB_03_20230928005446_predseg_labels_rectified_depth_map_95_perc_edge_ponding\n",
      "Processing depth map: CAM_CB_03_20230928010046_predseg_labels_rectified_depth_map_95_perc_edge_ponding\n",
      "Processing depth map: CAM_CB_03_20230928010642_predseg_labels_rectified_depth_map_95_perc_edge_ponding\n",
      "Processing depth map: CAM_CB_03_20230928011245_predseg_labels_rectified_depth_map_95_perc_edge_ponding\n",
      "Processing depth map: CAM_CB_03_20230928011846_predseg_labels_rectified_depth_map_95_perc_edge_ponding\n",
      "Processing depth map: CAM_CB_03_20230928012446_predseg_labels_rectified_depth_map_95_perc_edge_ponding\n",
      "Processing depth map: CAM_CB_03_20230928013045_predseg_labels_rectified_depth_map_95_perc_edge_ponding\n",
      "Processing depth map: CAM_CB_03_20230928013645_predseg_labels_rectified_depth_map_95_perc_edge_ponding\n",
      "Processing depth map: CAM_CB_03_20230928014246_predseg_labels_rectified_depth_map_95_perc_edge_ponding\n"
     ]
    },
    {
     "name": "stderr",
     "output_type": "stream",
     "text": [
      "Plotting depth maps for flood events...:   7%|▋         | 4/55 [01:49<23:49, 28.04s/it]"
     ]
    },
    {
     "name": "stdout",
     "output_type": "stream",
     "text": [
      "Processing depth map: CAM_CB_03_20231217150625_predseg_labels_rectified_depth_map_95_perc_edge_ponding\n",
      "Processing depth map: CAM_CB_03_20231217151225_predseg_labels_rectified_depth_map_95_perc_edge_ponding\n",
      "Processing depth map: CAM_CB_03_20231217151826_predseg_labels_rectified_depth_map_95_perc_edge_ponding\n",
      "Processing depth map: CAM_CB_03_20231217152425_predseg_labels_rectified_depth_map_95_perc_edge_ponding\n",
      "Processing depth map: CAM_CB_03_20231217153025_predseg_labels_rectified_depth_map_95_perc_edge_ponding\n",
      "Processing depth map: CAM_CB_03_20231217153625_predseg_labels_rectified_depth_map_95_perc_edge_ponding\n",
      "Processing depth map: CAM_CB_03_20231217154225_predseg_labels_rectified_depth_map_95_perc_edge_ponding\n",
      "Processing depth map: CAM_CB_03_20231217154825_predseg_labels_rectified_depth_map_95_perc_edge_ponding\n",
      "Processing depth map: CAM_CB_03_20231217155425_predseg_labels_rectified_depth_map_95_perc_edge_ponding\n",
      "Processing depth map: CAM_CB_03_20231217160025_predseg_labels_rectified_depth_map_95_perc_edge_ponding\n",
      "Processing depth map: CAM_CB_03_20231217160625_predseg_labels_rectified_depth_map_95_perc_edge_ponding\n",
      "Processing depth map: CAM_CB_03_20231217161225_predseg_labels_rectified_depth_map_95_perc_edge_ponding\n",
      "Processing depth map: CAM_CB_03_20231217161825_predseg_labels_rectified_depth_map_95_perc_edge_ponding\n",
      "Processing depth map: CAM_CB_03_20231217162425_predseg_labels_rectified_depth_map_95_perc_edge_ponding\n",
      "Processing depth map: CAM_CB_03_20231217163025_predseg_labels_rectified_depth_map_95_perc_edge_ponding\n",
      "Processing depth map: CAM_CB_03_20231217163626_predseg_labels_rectified_depth_map_95_perc_edge_ponding\n",
      "Processing depth map: CAM_CB_03_20231217164225_predseg_labels_rectified_depth_map_95_perc_edge_ponding\n",
      "Processing depth map: CAM_CB_03_20231217164825_predseg_labels_rectified_depth_map_95_perc_edge_ponding\n",
      "Processing depth map: CAM_CB_03_20231217165425_predseg_labels_rectified_depth_map_95_perc_edge_ponding\n",
      "Processing depth map: CAM_CB_03_20231217170025_predseg_labels_rectified_depth_map_95_perc_edge_ponding\n",
      "Processing depth map: CAM_CB_03_20231217170625_predseg_labels_rectified_depth_map_95_perc_edge_ponding\n",
      "Processing depth map: CAM_CB_03_20231217171225_predseg_labels_rectified_depth_map_95_perc_edge_ponding\n",
      "Processing depth map: CAM_CB_03_20231217171825_predseg_labels_rectified_depth_map_95_perc_edge_ponding\n",
      "Processing depth map: CAM_CB_03_20231217172425_predseg_labels_rectified_depth_map_95_perc_edge_ponding\n",
      "Processing depth map: CAM_CB_03_20231217173025_predseg_labels_rectified_depth_map_95_perc_edge_ponding\n",
      "Processing depth map: CAM_CB_03_20231217173625_predseg_labels_rectified_depth_map_95_perc_edge_ponding\n",
      "Processing depth map: CAM_CB_03_20231217174225_predseg_labels_rectified_depth_map_95_perc_edge_ponding\n",
      "Processing depth map: CAM_CB_03_20231217174825_predseg_labels_rectified_depth_map_95_perc_edge_ponding\n",
      "Processing depth map: CAM_CB_03_20231217175425_predseg_labels_rectified_depth_map_95_perc_edge_ponding\n",
      "Processing depth map: CAM_CB_03_20231217180025_predseg_labels_rectified_depth_map_95_perc_edge_ponding\n",
      "Processing depth map: CAM_CB_03_20231217180625_predseg_labels_rectified_depth_map_95_perc_edge_ponding\n",
      "Processing depth map: CAM_CB_03_20231217181225_predseg_labels_rectified_depth_map_95_perc_edge_ponding\n",
      "Processing depth map: CAM_CB_03_20231217181825_predseg_labels_rectified_depth_map_95_perc_edge_ponding\n",
      "Processing depth map: CAM_CB_03_20231217182425_predseg_labels_rectified_depth_map_95_perc_edge_ponding\n",
      "Processing depth map: CAM_CB_03_20231217183025_predseg_labels_rectified_depth_map_95_perc_edge_ponding\n",
      "Processing depth map: CAM_CB_03_20231217183625_predseg_labels_rectified_depth_map_95_perc_edge_ponding\n",
      "Processing depth map: CAM_CB_03_20231217184225_predseg_labels_rectified_depth_map_95_perc_edge_ponding\n",
      "Processing depth map: CAM_CB_03_20231217184825_predseg_labels_rectified_depth_map_95_perc_edge_ponding\n",
      "Processing depth map: CAM_CB_03_20231217185425_predseg_labels_rectified_depth_map_95_perc_edge_ponding\n",
      "Processing depth map: CAM_CB_03_20231217190025_predseg_labels_rectified_depth_map_95_perc_edge_ponding\n",
      "Processing depth map: CAM_CB_03_20231217190626_predseg_labels_rectified_depth_map_95_perc_edge_ponding\n",
      "Processing depth map: CAM_CB_03_20231217191225_predseg_labels_rectified_depth_map_95_perc_edge_ponding\n",
      "Processing depth map: CAM_CB_03_20231217191825_predseg_labels_rectified_depth_map_95_perc_edge_ponding\n",
      "Processing depth map: CAM_CB_03_20231217192425_predseg_labels_rectified_depth_map_95_perc_edge_ponding\n",
      "Processing depth map: CAM_CB_03_20231217193025_predseg_labels_rectified_depth_map_95_perc_edge_ponding\n",
      "Processing depth map: CAM_CB_03_20231217193625_predseg_labels_rectified_depth_map_95_perc_edge_ponding\n",
      "Processing depth map: CAM_CB_03_20231217194225_predseg_labels_rectified_depth_map_95_perc_edge_ponding\n",
      "Processing depth map: CAM_CB_03_20231217194825_predseg_labels_rectified_depth_map_95_perc_edge_ponding\n",
      "Processing depth map: CAM_CB_03_20231217195425_predseg_labels_rectified_depth_map_95_perc_edge_ponding\n",
      "Processing depth map: CAM_CB_03_20231217200026_predseg_labels_rectified_depth_map_95_perc_edge_ponding\n",
      "Processing depth map: CAM_CB_03_20231217200625_predseg_labels_rectified_depth_map_95_perc_edge_ponding\n",
      "Processing depth map: CAM_CB_03_20231217201226_predseg_labels_rectified_depth_map_95_perc_edge_ponding\n",
      "Processing depth map: CAM_CB_03_20231217201825_predseg_labels_rectified_depth_map_95_perc_edge_ponding\n",
      "Processing depth map: CAM_CB_03_20231217202425_predseg_labels_rectified_depth_map_95_perc_edge_ponding\n",
      "Processing depth map: CAM_CB_03_20231217203025_predseg_labels_rectified_depth_map_95_perc_edge_ponding\n",
      "Processing depth map: CAM_CB_03_20231217203626_predseg_labels_rectified_depth_map_95_perc_edge_ponding\n",
      "Processing depth map: CAM_CB_03_20231217204225_predseg_labels_rectified_depth_map_95_perc_edge_ponding\n",
      "Processing depth map: CAM_CB_03_20231217204826_predseg_labels_rectified_depth_map_95_perc_edge_ponding\n",
      "Processing depth map: CAM_CB_03_20231217205425_predseg_labels_rectified_depth_map_95_perc_edge_ponding\n",
      "Processing depth map: CAM_CB_03_20231217210025_predseg_labels_rectified_depth_map_95_perc_edge_ponding\n",
      "Processing depth map: CAM_CB_03_20231217210625_predseg_labels_rectified_depth_map_95_perc_edge_ponding\n",
      "Processing depth map: CAM_CB_03_20231217211225_predseg_labels_rectified_depth_map_95_perc_edge_ponding\n",
      "Processing depth map: CAM_CB_03_20231217211825_predseg_labels_rectified_depth_map_95_perc_edge_ponding\n",
      "Processing depth map: CAM_CB_03_20231217212425_predseg_labels_rectified_depth_map_95_perc_edge_ponding\n",
      "Processing depth map: CAM_CB_03_20231217213025_predseg_labels_rectified_depth_map_95_perc_edge_ponding\n",
      "Processing depth map: CAM_CB_03_20231217213625_predseg_labels_rectified_depth_map_95_perc_edge_ponding\n",
      "Processing depth map: CAM_CB_03_20231217214225_predseg_labels_rectified_depth_map_95_perc_edge_ponding\n",
      "Processing depth map: CAM_CB_03_20231217214825_predseg_labels_rectified_depth_map_95_perc_edge_ponding\n",
      "Processing depth map: CAM_CB_03_20231217215425_predseg_labels_rectified_depth_map_95_perc_edge_ponding\n",
      "Processing depth map: CAM_CB_03_20231217220025_predseg_labels_rectified_depth_map_95_perc_edge_ponding\n",
      "Processing depth map: CAM_CB_03_20231217220625_predseg_labels_rectified_depth_map_95_perc_edge_ponding\n",
      "Processing depth map: CAM_CB_03_20231217221225_predseg_labels_rectified_depth_map_95_perc_edge_ponding\n"
     ]
    },
    {
     "name": "stderr",
     "output_type": "stream",
     "text": [
      "Plotting depth maps for flood events...:   9%|▉         | 5/55 [03:42<48:49, 58.60s/it]"
     ]
    },
    {
     "name": "stdout",
     "output_type": "stream",
     "text": [
      "Processing depth map: CAM_CB_03_20230929125425_predseg_labels_rectified_depth_map_95_perc_edge_ponding\n",
      "Processing depth map: CAM_CB_03_20230929130025_predseg_labels_rectified_depth_map_95_perc_edge_ponding\n",
      "Processing depth map: CAM_CB_03_20230929130625_predseg_labels_rectified_depth_map_95_perc_edge_ponding\n",
      "Processing depth map: CAM_CB_03_20230929131225_predseg_labels_rectified_depth_map_95_perc_edge_ponding\n",
      "Processing depth map: CAM_CB_03_20230929131825_predseg_labels_rectified_depth_map_95_perc_edge_ponding\n",
      "Processing depth map: CAM_CB_03_20230929132425_predseg_labels_rectified_depth_map_95_perc_edge_ponding\n",
      "Processing depth map: CAM_CB_03_20230929133025_predseg_labels_rectified_depth_map_95_perc_edge_ponding\n",
      "Processing depth map: CAM_CB_03_20230929133625_predseg_labels_rectified_depth_map_95_perc_edge_ponding\n",
      "Processing depth map: CAM_CB_03_20230929134225_predseg_labels_rectified_depth_map_95_perc_edge_ponding\n",
      "Processing depth map: CAM_CB_03_20230929134825_predseg_labels_rectified_depth_map_95_perc_edge_ponding\n",
      "Processing depth map: CAM_CB_03_20230929135425_predseg_labels_rectified_depth_map_95_perc_edge_ponding\n",
      "Processing depth map: CAM_CB_03_20230929140025_predseg_labels_rectified_depth_map_95_perc_edge_ponding\n",
      "Processing depth map: CAM_CB_03_20230929140625_predseg_labels_rectified_depth_map_95_perc_edge_ponding\n",
      "Processing depth map: CAM_CB_03_20230929141225_predseg_labels_rectified_depth_map_95_perc_edge_ponding\n",
      "Processing depth map: CAM_CB_03_20230929141825_predseg_labels_rectified_depth_map_95_perc_edge_ponding\n",
      "Processing depth map: CAM_CB_03_20230929142425_predseg_labels_rectified_depth_map_95_perc_edge_ponding\n",
      "Processing depth map: CAM_CB_03_20230929143026_predseg_labels_rectified_depth_map_95_perc_edge_ponding\n",
      "Processing depth map: CAM_CB_03_20230929143626_predseg_labels_rectified_depth_map_95_perc_edge_ponding\n",
      "Processing depth map: CAM_CB_03_20230929144225_predseg_labels_rectified_depth_map_95_perc_edge_ponding\n",
      "Processing depth map: CAM_CB_03_20230929144825_predseg_labels_rectified_depth_map_95_perc_edge_ponding\n",
      "Processing depth map: CAM_CB_03_20230929145425_predseg_labels_rectified_depth_map_95_perc_edge_ponding\n",
      "Processing depth map: CAM_CB_03_20230929150025_predseg_labels_rectified_depth_map_95_perc_edge_ponding\n",
      "Processing depth map: CAM_CB_03_20230929150625_predseg_labels_rectified_depth_map_95_perc_edge_ponding\n",
      "Processing depth map: CAM_CB_03_20230929151225_predseg_labels_rectified_depth_map_95_perc_edge_ponding\n",
      "Processing depth map: CAM_CB_03_20230929151825_predseg_labels_rectified_depth_map_95_perc_edge_ponding\n"
     ]
    },
    {
     "name": "stderr",
     "output_type": "stream",
     "text": [
      "Plotting depth maps for flood events...:  11%|█         | 6/55 [04:28<44:23, 54.35s/it]"
     ]
    },
    {
     "name": "stdout",
     "output_type": "stream",
     "text": [
      "Processing depth map: CAM_CB_03_20230901015445_predseg_labels_rectified_depth_map_95_perc_edge_ponding\n",
      "Processing depth map: CAM_CB_03_20230901020041_predseg_labels_rectified_depth_map_95_perc_edge_ponding\n",
      "Processing depth map: CAM_CB_03_20230901020642_predseg_labels_rectified_depth_map_95_perc_edge_ponding\n",
      "Processing depth map: CAM_CB_03_20230901021245_predseg_labels_rectified_depth_map_95_perc_edge_ponding\n",
      "Processing depth map: CAM_CB_03_20230901021845_predseg_labels_rectified_depth_map_95_perc_edge_ponding\n",
      "Processing depth map: CAM_CB_03_20230901022439_predseg_labels_rectified_depth_map_95_perc_edge_ponding\n",
      "Processing depth map: CAM_CB_03_20230901023045_predseg_labels_rectified_depth_map_95_perc_edge_ponding\n",
      "Processing depth map: CAM_CB_03_20230901023645_predseg_labels_rectified_depth_map_95_perc_edge_ponding\n",
      "Processing depth map: CAM_CB_03_20230901024246_predseg_labels_rectified_depth_map_95_perc_edge_ponding\n",
      "Processing depth map: CAM_CB_03_20230901024845_predseg_labels_rectified_depth_map_95_perc_edge_ponding\n",
      "Processing depth map: CAM_CB_03_20230901025446_predseg_labels_rectified_depth_map_95_perc_edge_ponding\n",
      "Processing depth map: CAM_CB_03_20230901030046_predseg_labels_rectified_depth_map_95_perc_edge_ponding\n"
     ]
    },
    {
     "name": "stderr",
     "output_type": "stream",
     "text": [
      "Plotting depth maps for flood events...:  13%|█▎        | 7/55 [04:51<35:24, 44.26s/it]"
     ]
    },
    {
     "name": "stdout",
     "output_type": "stream",
     "text": [
      "Processing depth map: CAM_CB_03_20241114111956_predseg_labels_rectified_depth_map_95_perc_edge_ponding\n",
      "Processing depth map: CAM_CB_03_20241114112405_predseg_labels_rectified_depth_map_95_perc_edge_ponding\n",
      "Processing depth map: CAM_CB_03_20241114113220_predseg_labels_rectified_depth_map_95_perc_edge_ponding\n",
      "Processing depth map: CAM_CB_03_20241114113628_predseg_labels_rectified_depth_map_95_perc_edge_ponding\n",
      "Processing depth map: CAM_CB_03_20241114114103_predseg_labels_rectified_depth_map_95_perc_edge_ponding\n",
      "Processing depth map: CAM_CB_03_20241114114133_predseg_labels_rectified_depth_map_95_perc_edge_ponding\n",
      "Processing depth map: CAM_CB_03_20241114114203_predseg_labels_rectified_depth_map_95_perc_edge_ponding\n",
      "Processing depth map: CAM_CB_03_20241114114233_predseg_labels_rectified_depth_map_95_perc_edge_ponding\n",
      "Processing depth map: CAM_CB_03_20241114114303_predseg_labels_rectified_depth_map_95_perc_edge_ponding\n",
      "Processing depth map: CAM_CB_03_20241114114433_predseg_labels_rectified_depth_map_95_perc_edge_ponding\n",
      "Processing depth map: CAM_CB_03_20241114114503_predseg_labels_rectified_depth_map_95_perc_edge_ponding\n",
      "Processing depth map: CAM_CB_03_20241114114533_predseg_labels_rectified_depth_map_95_perc_edge_ponding\n",
      "Processing depth map: CAM_CB_03_20241114114603_predseg_labels_rectified_depth_map_95_perc_edge_ponding\n",
      "Processing depth map: CAM_CB_03_20241114114633_predseg_labels_rectified_depth_map_95_perc_edge_ponding\n",
      "Processing depth map: CAM_CB_03_20241114114703_predseg_labels_rectified_depth_map_95_perc_edge_ponding\n",
      "Processing depth map: CAM_CB_03_20241114114733_predseg_labels_rectified_depth_map_95_perc_edge_ponding\n",
      "Processing depth map: CAM_CB_03_20241114114803_predseg_labels_rectified_depth_map_95_perc_edge_ponding\n",
      "Processing depth map: CAM_CB_03_20241114114833_predseg_labels_rectified_depth_map_95_perc_edge_ponding\n",
      "Processing depth map: CAM_CB_03_20241114114903_predseg_labels_rectified_depth_map_95_perc_edge_ponding\n",
      "Processing depth map: CAM_CB_03_20241114115033_predseg_labels_rectified_depth_map_95_perc_edge_ponding\n",
      "Processing depth map: CAM_CB_03_20241114115103_predseg_labels_rectified_depth_map_95_perc_edge_ponding\n",
      "Processing depth map: CAM_CB_03_20241114115133_predseg_labels_rectified_depth_map_95_perc_edge_ponding\n",
      "Processing depth map: CAM_CB_03_20241114115203_predseg_labels_rectified_depth_map_95_perc_edge_ponding\n",
      "Processing depth map: CAM_CB_03_20241114115233_predseg_labels_rectified_depth_map_95_perc_edge_ponding\n",
      "Processing depth map: CAM_CB_03_20241114115303_predseg_labels_rectified_depth_map_95_perc_edge_ponding\n",
      "Processing depth map: CAM_CB_03_20241114115333_predseg_labels_rectified_depth_map_95_perc_edge_ponding\n",
      "Processing depth map: CAM_CB_03_20241114115403_predseg_labels_rectified_depth_map_95_perc_edge_ponding\n",
      "Processing depth map: CAM_CB_03_20241114115433_predseg_labels_rectified_depth_map_95_perc_edge_ponding\n",
      "Processing depth map: CAM_CB_03_20241114115503_predseg_labels_rectified_depth_map_95_perc_edge_ponding\n",
      "Processing depth map: CAM_CB_03_20241114115633_predseg_labels_rectified_depth_map_95_perc_edge_ponding\n",
      "Processing depth map: CAM_CB_03_20241114115703_predseg_labels_rectified_depth_map_95_perc_edge_ponding\n",
      "Processing depth map: CAM_CB_03_20241114115733_predseg_labels_rectified_depth_map_95_perc_edge_ponding\n",
      "Processing depth map: CAM_CB_03_20241114115803_predseg_labels_rectified_depth_map_95_perc_edge_ponding\n",
      "Processing depth map: CAM_CB_03_20241114115833_predseg_labels_rectified_depth_map_95_perc_edge_ponding\n",
      "Processing depth map: CAM_CB_03_20241114115903_predseg_labels_rectified_depth_map_95_perc_edge_ponding\n",
      "Processing depth map: CAM_CB_03_20241114115933_predseg_labels_rectified_depth_map_95_perc_edge_ponding\n",
      "Processing depth map: CAM_CB_03_20241114120003_predseg_labels_rectified_depth_map_95_perc_edge_ponding\n",
      "Processing depth map: CAM_CB_03_20241114120033_predseg_labels_rectified_depth_map_95_perc_edge_ponding\n",
      "Processing depth map: CAM_CB_03_20241114120133_predseg_labels_rectified_depth_map_95_perc_edge_ponding\n",
      "Processing depth map: CAM_CB_03_20241114120203_predseg_labels_rectified_depth_map_95_perc_edge_ponding\n",
      "Processing depth map: CAM_CB_03_20241114120233_predseg_labels_rectified_depth_map_95_perc_edge_ponding\n",
      "Processing depth map: CAM_CB_03_20241114120303_predseg_labels_rectified_depth_map_95_perc_edge_ponding\n",
      "Processing depth map: CAM_CB_03_20241114120333_predseg_labels_rectified_depth_map_95_perc_edge_ponding\n",
      "Processing depth map: CAM_CB_03_20241114120403_predseg_labels_rectified_depth_map_95_perc_edge_ponding\n",
      "Processing depth map: CAM_CB_03_20241114120433_predseg_labels_rectified_depth_map_95_perc_edge_ponding\n",
      "Processing depth map: CAM_CB_03_20241114120503_predseg_labels_rectified_depth_map_95_perc_edge_ponding\n",
      "Processing depth map: CAM_CB_03_20241114120533_predseg_labels_rectified_depth_map_95_perc_edge_ponding\n",
      "Processing depth map: CAM_CB_03_20241114120603_predseg_labels_rectified_depth_map_95_perc_edge_ponding\n",
      "Processing depth map: CAM_CB_03_20241114120633_predseg_labels_rectified_depth_map_95_perc_edge_ponding\n",
      "Processing depth map: CAM_CB_03_20241114120703_predseg_labels_rectified_depth_map_95_perc_edge_ponding\n",
      "Processing depth map: CAM_CB_03_20241114120833_predseg_labels_rectified_depth_map_95_perc_edge_ponding\n",
      "Processing depth map: CAM_CB_03_20241114120903_predseg_labels_rectified_depth_map_95_perc_edge_ponding\n",
      "Processing depth map: CAM_CB_03_20241114120933_predseg_labels_rectified_depth_map_95_perc_edge_ponding\n",
      "Processing depth map: CAM_CB_03_20241114121003_predseg_labels_rectified_depth_map_95_perc_edge_ponding\n",
      "Processing depth map: CAM_CB_03_20241114121033_predseg_labels_rectified_depth_map_95_perc_edge_ponding\n",
      "Processing depth map: CAM_CB_03_20241114121103_predseg_labels_rectified_depth_map_95_perc_edge_ponding\n",
      "Processing depth map: CAM_CB_03_20241114121133_predseg_labels_rectified_depth_map_95_perc_edge_ponding\n",
      "Processing depth map: CAM_CB_03_20241114121203_predseg_labels_rectified_depth_map_95_perc_edge_ponding\n",
      "Processing depth map: CAM_CB_03_20241114121233_predseg_labels_rectified_depth_map_95_perc_edge_ponding\n",
      "Processing depth map: CAM_CB_03_20241114121303_predseg_labels_rectified_depth_map_95_perc_edge_ponding\n",
      "Processing depth map: CAM_CB_03_20241114121433_predseg_labels_rectified_depth_map_95_perc_edge_ponding\n",
      "Processing depth map: CAM_CB_03_20241114121503_predseg_labels_rectified_depth_map_95_perc_edge_ponding\n",
      "Processing depth map: CAM_CB_03_20241114121533_predseg_labels_rectified_depth_map_95_perc_edge_ponding\n",
      "Processing depth map: CAM_CB_03_20241114121603_predseg_labels_rectified_depth_map_95_perc_edge_ponding\n",
      "Processing depth map: CAM_CB_03_20241114121633_predseg_labels_rectified_depth_map_95_perc_edge_ponding\n",
      "Processing depth map: CAM_CB_03_20241114121703_predseg_labels_rectified_depth_map_95_perc_edge_ponding\n",
      "Processing depth map: CAM_CB_03_20241114121733_predseg_labels_rectified_depth_map_95_perc_edge_ponding\n",
      "Processing depth map: CAM_CB_03_20241114121803_predseg_labels_rectified_depth_map_95_perc_edge_ponding\n",
      "Processing depth map: CAM_CB_03_20241114121833_predseg_labels_rectified_depth_map_95_perc_edge_ponding\n",
      "Processing depth map: CAM_CB_03_20241114121903_predseg_labels_rectified_depth_map_95_perc_edge_ponding\n",
      "Processing depth map: CAM_CB_03_20241114122425_predseg_labels_rectified_depth_map_95_perc_edge_ponding\n",
      "Processing depth map: CAM_CB_03_20241114123026_predseg_labels_rectified_depth_map_95_perc_edge_ponding\n",
      "Processing depth map: CAM_CB_03_20241114123625_predseg_labels_rectified_depth_map_95_perc_edge_ponding\n",
      "Processing depth map: CAM_CB_03_20241114124225_predseg_labels_rectified_depth_map_95_perc_edge_ponding\n",
      "Processing depth map: CAM_CB_03_20241114124825_predseg_labels_rectified_depth_map_95_perc_edge_ponding\n",
      "Processing depth map: CAM_CB_03_20241114125425_predseg_labels_rectified_depth_map_95_perc_edge_ponding\n",
      "Processing depth map: CAM_CB_03_20241114130025_predseg_labels_rectified_depth_map_95_perc_edge_ponding\n",
      "Processing depth map: CAM_CB_03_20241114130625_predseg_labels_rectified_depth_map_95_perc_edge_ponding\n",
      "Processing depth map: CAM_CB_03_20241114131225_predseg_labels_rectified_depth_map_95_perc_edge_ponding\n",
      "Processing depth map: CAM_CB_03_20241114131826_predseg_labels_rectified_depth_map_95_perc_edge_ponding\n",
      "Processing depth map: CAM_CB_03_20241114132426_predseg_labels_rectified_depth_map_95_perc_edge_ponding\n",
      "Processing depth map: CAM_CB_03_20241114133025_predseg_labels_rectified_depth_map_95_perc_edge_ponding\n",
      "Processing depth map: CAM_CB_03_20241114133626_predseg_labels_rectified_depth_map_95_perc_edge_ponding\n",
      "Processing depth map: CAM_CB_03_20241114134226_predseg_labels_rectified_depth_map_95_perc_edge_ponding\n",
      "Processing depth map: CAM_CB_03_20241114134825_predseg_labels_rectified_depth_map_95_perc_edge_ponding\n",
      "Processing depth map: CAM_CB_03_20241114135425_predseg_labels_rectified_depth_map_95_perc_edge_ponding\n"
     ]
    },
    {
     "name": "stderr",
     "output_type": "stream",
     "text": [
      "Plotting depth maps for flood events...:  15%|█▍        | 8/55 [07:27<1:02:26, 79.72s/it]"
     ]
    },
    {
     "name": "stdout",
     "output_type": "stream",
     "text": [
      "Processing depth map: CAM_CB_03_20220930132426_predseg_labels_rectified_depth_map_95_perc_edge_ponding\n",
      "Processing depth map: CAM_CB_03_20220930133026_predseg_labels_rectified_depth_map_95_perc_edge_ponding\n",
      "Processing depth map: CAM_CB_03_20220930133626_predseg_labels_rectified_depth_map_95_perc_edge_ponding\n",
      "Processing depth map: CAM_CB_03_20220930134226_predseg_labels_rectified_depth_map_95_perc_edge_ponding\n",
      "Processing depth map: CAM_CB_03_20220930134826_predseg_labels_rectified_depth_map_95_perc_edge_ponding\n",
      "Processing depth map: CAM_CB_03_20220930135425_predseg_labels_rectified_depth_map_95_perc_edge_ponding\n",
      "Processing depth map: CAM_CB_03_20220930140025_predseg_labels_rectified_depth_map_95_perc_edge_ponding\n",
      "Processing depth map: CAM_CB_03_20220930140626_predseg_labels_rectified_depth_map_95_perc_edge_ponding\n",
      "Processing depth map: CAM_CB_03_20220930141226_predseg_labels_rectified_depth_map_95_perc_edge_ponding\n",
      "Processing depth map: CAM_CB_03_20220930141825_predseg_labels_rectified_depth_map_95_perc_edge_ponding\n",
      "Processing depth map: CAM_CB_03_20220930142426_predseg_labels_rectified_depth_map_95_perc_edge_ponding\n",
      "Processing depth map: CAM_CB_03_20220930143026_predseg_labels_rectified_depth_map_95_perc_edge_ponding\n",
      "Processing depth map: CAM_CB_03_20220930143626_predseg_labels_rectified_depth_map_95_perc_edge_ponding\n",
      "Processing depth map: CAM_CB_03_20220930144226_predseg_labels_rectified_depth_map_95_perc_edge_ponding\n",
      "Processing depth map: CAM_CB_03_20220930144826_predseg_labels_rectified_depth_map_95_perc_edge_ponding\n",
      "Processing depth map: CAM_CB_03_20220930145426_predseg_labels_rectified_depth_map_95_perc_edge_ponding\n",
      "Processing depth map: CAM_CB_03_20220930150026_predseg_labels_rectified_depth_map_95_perc_edge_ponding\n",
      "Processing depth map: CAM_CB_03_20220930150626_predseg_labels_rectified_depth_map_95_perc_edge_ponding\n",
      "Processing depth map: CAM_CB_03_20220930151226_predseg_labels_rectified_depth_map_95_perc_edge_ponding\n",
      "Processing depth map: CAM_CB_03_20220930151826_predseg_labels_rectified_depth_map_95_perc_edge_ponding\n",
      "Processing depth map: CAM_CB_03_20220930152426_predseg_labels_rectified_depth_map_95_perc_edge_ponding\n",
      "Processing depth map: CAM_CB_03_20220930153026_predseg_labels_rectified_depth_map_95_perc_edge_ponding\n",
      "Processing depth map: CAM_CB_03_20220930153625_predseg_labels_rectified_depth_map_95_perc_edge_ponding\n",
      "Processing depth map: CAM_CB_03_20220930154225_predseg_labels_rectified_depth_map_95_perc_edge_ponding\n",
      "Processing depth map: CAM_CB_03_20220930154826_predseg_labels_rectified_depth_map_95_perc_edge_ponding\n",
      "Processing depth map: CAM_CB_03_20220930155426_predseg_labels_rectified_depth_map_95_perc_edge_ponding\n",
      "Processing depth map: CAM_CB_03_20220930160026_predseg_labels_rectified_depth_map_95_perc_edge_ponding\n",
      "Processing depth map: CAM_CB_03_20220930160626_predseg_labels_rectified_depth_map_95_perc_edge_ponding\n",
      "Processing depth map: CAM_CB_03_20220930161225_predseg_labels_rectified_depth_map_95_perc_edge_ponding\n",
      "Processing depth map: CAM_CB_03_20220930161825_predseg_labels_rectified_depth_map_95_perc_edge_ponding\n",
      "Processing depth map: CAM_CB_03_20220930162426_predseg_labels_rectified_depth_map_95_perc_edge_ponding\n",
      "Processing depth map: CAM_CB_03_20220930163025_predseg_labels_rectified_depth_map_95_perc_edge_ponding\n",
      "Processing depth map: CAM_CB_03_20220930163626_predseg_labels_rectified_depth_map_95_perc_edge_ponding\n",
      "Processing depth map: CAM_CB_03_20220930164225_predseg_labels_rectified_depth_map_95_perc_edge_ponding\n",
      "Processing depth map: CAM_CB_03_20220930164826_predseg_labels_rectified_depth_map_95_perc_edge_ponding\n",
      "Processing depth map: CAM_CB_03_20220930165426_predseg_labels_rectified_depth_map_95_perc_edge_ponding\n",
      "Processing depth map: CAM_CB_03_20220930170026_predseg_labels_rectified_depth_map_95_perc_edge_ponding\n",
      "Processing depth map: CAM_CB_03_20220930170626_predseg_labels_rectified_depth_map_95_perc_edge_ponding\n",
      "Processing depth map: CAM_CB_03_20220930171225_predseg_labels_rectified_depth_map_95_perc_edge_ponding\n",
      "Processing depth map: CAM_CB_03_20220930171826_predseg_labels_rectified_depth_map_95_perc_edge_ponding\n",
      "Processing depth map: CAM_CB_03_20220930172426_predseg_labels_rectified_depth_map_95_perc_edge_ponding\n",
      "Processing depth map: CAM_CB_03_20220930173026_predseg_labels_rectified_depth_map_95_perc_edge_ponding\n",
      "Processing depth map: CAM_CB_03_20220930173625_predseg_labels_rectified_depth_map_95_perc_edge_ponding\n",
      "Processing depth map: CAM_CB_03_20220930174226_predseg_labels_rectified_depth_map_95_perc_edge_ponding\n",
      "Processing depth map: CAM_CB_03_20220930174826_predseg_labels_rectified_depth_map_95_perc_edge_ponding\n",
      "Processing depth map: CAM_CB_03_20220930175426_predseg_labels_rectified_depth_map_95_perc_edge_ponding\n",
      "Processing depth map: CAM_CB_03_20220930180026_predseg_labels_rectified_depth_map_95_perc_edge_ponding\n",
      "Processing depth map: CAM_CB_03_20220930180626_predseg_labels_rectified_depth_map_95_perc_edge_ponding\n",
      "Processing depth map: CAM_CB_03_20220930181226_predseg_labels_rectified_depth_map_95_perc_edge_ponding\n",
      "Processing depth map: CAM_CB_03_20220930181826_predseg_labels_rectified_depth_map_95_perc_edge_ponding\n",
      "Processing depth map: CAM_CB_03_20220930182426_predseg_labels_rectified_depth_map_95_perc_edge_ponding\n",
      "Processing depth map: CAM_CB_03_20220930183026_predseg_labels_rectified_depth_map_95_perc_edge_ponding\n",
      "Processing depth map: CAM_CB_03_20220930183625_predseg_labels_rectified_depth_map_95_perc_edge_ponding\n",
      "Processing depth map: CAM_CB_03_20220930184225_predseg_labels_rectified_depth_map_95_perc_edge_ponding\n",
      "Processing depth map: CAM_CB_03_20220930184825_predseg_labels_rectified_depth_map_95_perc_edge_ponding\n",
      "Processing depth map: CAM_CB_03_20220930185425_predseg_labels_rectified_depth_map_95_perc_edge_ponding\n",
      "Processing depth map: CAM_CB_03_20220930190025_predseg_labels_rectified_depth_map_95_perc_edge_ponding\n",
      "Processing depth map: CAM_CB_03_20220930190626_predseg_labels_rectified_depth_map_95_perc_edge_ponding\n",
      "Processing depth map: CAM_CB_03_20220930191226_predseg_labels_rectified_depth_map_95_perc_edge_ponding\n",
      "Processing depth map: CAM_CB_03_20220930191826_predseg_labels_rectified_depth_map_95_perc_edge_ponding\n",
      "Processing depth map: CAM_CB_03_20220930192426_predseg_labels_rectified_depth_map_95_perc_edge_ponding\n",
      "Processing depth map: CAM_CB_03_20220930193026_predseg_labels_rectified_depth_map_95_perc_edge_ponding\n",
      "Processing depth map: CAM_CB_03_20220930193626_predseg_labels_rectified_depth_map_95_perc_edge_ponding\n",
      "Processing depth map: CAM_CB_03_20220930194225_predseg_labels_rectified_depth_map_95_perc_edge_ponding\n",
      "Processing depth map: CAM_CB_03_20220930194826_predseg_labels_rectified_depth_map_95_perc_edge_ponding\n",
      "Processing depth map: CAM_CB_03_20220930195425_predseg_labels_rectified_depth_map_95_perc_edge_ponding\n",
      "Processing depth map: CAM_CB_03_20220930200026_predseg_labels_rectified_depth_map_95_perc_edge_ponding\n",
      "Processing depth map: CAM_CB_03_20220930200626_predseg_labels_rectified_depth_map_95_perc_edge_ponding\n",
      "Processing depth map: CAM_CB_03_20220930201225_predseg_labels_rectified_depth_map_95_perc_edge_ponding\n",
      "Processing depth map: CAM_CB_03_20220930201826_predseg_labels_rectified_depth_map_95_perc_edge_ponding\n",
      "Processing depth map: CAM_CB_03_20220930202425_predseg_labels_rectified_depth_map_95_perc_edge_ponding\n",
      "Processing depth map: CAM_CB_03_20220930203026_predseg_labels_rectified_depth_map_95_perc_edge_ponding\n",
      "Processing depth map: CAM_CB_03_20220930203625_predseg_labels_rectified_depth_map_95_perc_edge_ponding\n",
      "Processing depth map: CAM_CB_03_20220930204225_predseg_labels_rectified_depth_map_95_perc_edge_ponding\n",
      "Processing depth map: CAM_CB_03_20220930204825_predseg_labels_rectified_depth_map_95_perc_edge_ponding\n",
      "Processing depth map: CAM_CB_03_20220930205425_predseg_labels_rectified_depth_map_95_perc_edge_ponding\n",
      "Processing depth map: CAM_CB_03_20220930210026_predseg_labels_rectified_depth_map_95_perc_edge_ponding\n",
      "Processing depth map: CAM_CB_03_20220930210625_predseg_labels_rectified_depth_map_95_perc_edge_ponding\n",
      "Processing depth map: CAM_CB_03_20220930211225_predseg_labels_rectified_depth_map_95_perc_edge_ponding\n",
      "Processing depth map: CAM_CB_03_20220930211825_predseg_labels_rectified_depth_map_95_perc_edge_ponding\n",
      "Processing depth map: CAM_CB_03_20220930212426_predseg_labels_rectified_depth_map_95_perc_edge_ponding\n",
      "Processing depth map: CAM_CB_03_20220930213025_predseg_labels_rectified_depth_map_95_perc_edge_ponding\n",
      "Processing depth map: CAM_CB_03_20220930213625_predseg_labels_rectified_depth_map_95_perc_edge_ponding\n",
      "Processing depth map: CAM_CB_03_20220930214226_predseg_labels_rectified_depth_map_95_perc_edge_ponding\n",
      "Processing depth map: CAM_CB_03_20220930214826_predseg_labels_rectified_depth_map_95_perc_edge_ponding\n",
      "Processing depth map: CAM_CB_03_20220930215426_predseg_labels_rectified_depth_map_95_perc_edge_ponding\n",
      "Processing depth map: CAM_CB_03_20220930220025_predseg_labels_rectified_depth_map_95_perc_edge_ponding\n",
      "Processing depth map: CAM_CB_03_20220930220626_predseg_labels_rectified_depth_map_95_perc_edge_ponding\n",
      "Processing depth map: CAM_CB_03_20220930221226_predseg_labels_rectified_depth_map_95_perc_edge_ponding\n"
     ]
    },
    {
     "name": "stderr",
     "output_type": "stream",
     "text": [
      "Plotting depth maps for flood events...:  16%|█▋        | 9/55 [10:36<1:27:23, 114.00s/it]"
     ]
    },
    {
     "name": "stdout",
     "output_type": "stream",
     "text": [
      "Processing depth map: CAM_CB_03_20231002161825_predseg_labels_rectified_depth_map_95_perc_edge_ponding\n",
      "Processing depth map: CAM_CB_03_20231002162425_predseg_labels_rectified_depth_map_95_perc_edge_ponding\n",
      "Processing depth map: CAM_CB_03_20231002163025_predseg_labels_rectified_depth_map_95_perc_edge_ponding\n",
      "Processing depth map: CAM_CB_03_20231002163625_predseg_labels_rectified_depth_map_95_perc_edge_ponding\n",
      "Processing depth map: CAM_CB_03_20231002164226_predseg_labels_rectified_depth_map_95_perc_edge_ponding\n",
      "Processing depth map: CAM_CB_03_20231002164825_predseg_labels_rectified_depth_map_95_perc_edge_ponding\n",
      "Processing depth map: CAM_CB_03_20231002165425_predseg_labels_rectified_depth_map_95_perc_edge_ponding\n",
      "Processing depth map: CAM_CB_03_20231002170025_predseg_labels_rectified_depth_map_95_perc_edge_ponding\n",
      "Processing depth map: CAM_CB_03_20231002170625_predseg_labels_rectified_depth_map_95_perc_edge_ponding\n",
      "Processing depth map: CAM_CB_03_20231002171225_predseg_labels_rectified_depth_map_95_perc_edge_ponding\n",
      "Processing depth map: CAM_CB_03_20231002171825_predseg_labels_rectified_depth_map_95_perc_edge_ponding\n",
      "Processing depth map: CAM_CB_03_20231002172425_predseg_labels_rectified_depth_map_95_perc_edge_ponding\n",
      "Processing depth map: CAM_CB_03_20231002173025_predseg_labels_rectified_depth_map_95_perc_edge_ponding\n",
      "Processing depth map: CAM_CB_03_20231002173625_predseg_labels_rectified_depth_map_95_perc_edge_ponding\n"
     ]
    },
    {
     "name": "stderr",
     "output_type": "stream",
     "text": [
      "Plotting depth maps for flood events...:  18%|█▊        | 10/55 [11:12<1:07:20, 89.79s/it]"
     ]
    },
    {
     "name": "stdout",
     "output_type": "stream",
     "text": [
      "Processing depth map: CAM_CB_03_20220617023633_predseg_labels_rectified_depth_map_95_perc_edge_ponding\n",
      "Processing depth map: CAM_CB_03_20220617024233_predseg_labels_rectified_depth_map_95_perc_edge_ponding\n",
      "Processing depth map: CAM_CB_03_20220617024832_predseg_labels_rectified_depth_map_95_perc_edge_ponding\n",
      "Processing depth map: CAM_CB_03_20220617025433_predseg_labels_rectified_depth_map_95_perc_edge_ponding\n",
      "Processing depth map: CAM_CB_03_20220617030033_predseg_labels_rectified_depth_map_95_perc_edge_ponding\n",
      "Processing depth map: CAM_CB_03_20220617030630_predseg_labels_rectified_depth_map_95_perc_edge_ponding\n",
      "Processing depth map: CAM_CB_03_20220617031232_predseg_labels_rectified_depth_map_95_perc_edge_ponding\n",
      "Processing depth map: CAM_CB_03_20220617031830_predseg_labels_rectified_depth_map_95_perc_edge_ponding\n",
      "Processing depth map: CAM_CB_03_20220617032434_predseg_labels_rectified_depth_map_95_perc_edge_ponding\n",
      "Processing depth map: CAM_CB_03_20220617033032_predseg_labels_rectified_depth_map_95_perc_edge_ponding\n",
      "Processing depth map: CAM_CB_03_20220617033631_predseg_labels_rectified_depth_map_95_perc_edge_ponding\n",
      "Processing depth map: CAM_CB_03_20220617034232_predseg_labels_rectified_depth_map_95_perc_edge_ponding\n",
      "Processing depth map: CAM_CB_03_20220617034828_predseg_labels_rectified_depth_map_95_perc_edge_ponding\n",
      "Processing depth map: CAM_CB_03_20220617035433_predseg_labels_rectified_depth_map_95_perc_edge_ponding\n",
      "Processing depth map: CAM_CB_03_20220617040032_predseg_labels_rectified_depth_map_95_perc_edge_ponding\n",
      "Processing depth map: CAM_CB_03_20220617040633_predseg_labels_rectified_depth_map_95_perc_edge_ponding\n"
     ]
    },
    {
     "name": "stderr",
     "output_type": "stream",
     "text": [
      "Plotting depth maps for flood events...:  20%|██        | 11/55 [11:52<54:39, 74.53s/it]  "
     ]
    },
    {
     "name": "stdout",
     "output_type": "stream",
     "text": [
      "Processing depth map: CAM_CB_03_20230901153026_predseg_labels_rectified_depth_map_95_perc_edge_ponding\n",
      "Processing depth map: CAM_CB_03_20230901153626_predseg_labels_rectified_depth_map_95_perc_edge_ponding\n"
     ]
    },
    {
     "name": "stderr",
     "output_type": "stream",
     "text": [
      "Plotting depth maps for flood events...:  22%|██▏       | 12/55 [11:58<38:32, 53.78s/it]"
     ]
    },
    {
     "name": "stdout",
     "output_type": "stream",
     "text": [
      "Processing depth map: CAM_CB_03_20230707033643_predseg_labels_rectified_depth_map_95_perc_edge_ponding\n",
      "Processing depth map: CAM_CB_03_20230707034244_predseg_labels_rectified_depth_map_95_perc_edge_ponding\n",
      "Processing depth map: CAM_CB_03_20230707034847_predseg_labels_rectified_depth_map_95_perc_edge_ponding\n",
      "Processing depth map: CAM_CB_03_20230707035446_predseg_labels_rectified_depth_map_95_perc_edge_ponding\n",
      "Processing depth map: CAM_CB_03_20230707040046_predseg_labels_rectified_depth_map_95_perc_edge_ponding\n",
      "Processing depth map: CAM_CB_03_20230707040646_predseg_labels_rectified_depth_map_95_perc_edge_ponding\n",
      "Processing depth map: CAM_CB_03_20230707041247_predseg_labels_rectified_depth_map_95_perc_edge_ponding\n",
      "Processing depth map: CAM_CB_03_20230707041847_predseg_labels_rectified_depth_map_95_perc_edge_ponding\n",
      "Processing depth map: CAM_CB_03_20230707042446_predseg_labels_rectified_depth_map_95_perc_edge_ponding\n",
      "Processing depth map: CAM_CB_03_20230707043046_predseg_labels_rectified_depth_map_95_perc_edge_ponding\n",
      "Processing depth map: CAM_CB_03_20230707043646_predseg_labels_rectified_depth_map_95_perc_edge_ponding\n",
      "Processing depth map: CAM_CB_03_20230707044247_predseg_labels_rectified_depth_map_95_perc_edge_ponding\n",
      "Processing depth map: CAM_CB_03_20230707044846_predseg_labels_rectified_depth_map_95_perc_edge_ponding\n",
      "Processing depth map: CAM_CB_03_20230707045446_predseg_labels_rectified_depth_map_95_perc_edge_ponding\n",
      "Processing depth map: CAM_CB_03_20230707050047_predseg_labels_rectified_depth_map_95_perc_edge_ponding\n",
      "Processing depth map: CAM_CB_03_20230707050647_predseg_labels_rectified_depth_map_95_perc_edge_ponding\n"
     ]
    },
    {
     "name": "stderr",
     "output_type": "stream",
     "text": [
      "Plotting depth maps for flood events...:  24%|██▎       | 13/55 [12:40<35:09, 50.23s/it]"
     ]
    },
    {
     "name": "stdout",
     "output_type": "stream",
     "text": [
      "Processing depth map: CAM_CB_03_20231001154226_predseg_labels_rectified_depth_map_95_perc_edge_ponding\n",
      "Processing depth map: CAM_CB_03_20231001154825_predseg_labels_rectified_depth_map_95_perc_edge_ponding\n",
      "Processing depth map: CAM_CB_03_20231001155426_predseg_labels_rectified_depth_map_95_perc_edge_ponding\n",
      "Processing depth map: CAM_CB_03_20231001160025_predseg_labels_rectified_depth_map_95_perc_edge_ponding\n",
      "Processing depth map: CAM_CB_03_20231001160626_predseg_labels_rectified_depth_map_95_perc_edge_ponding\n",
      "Processing depth map: CAM_CB_03_20231001161226_predseg_labels_rectified_depth_map_95_perc_edge_ponding\n",
      "Processing depth map: CAM_CB_03_20231001161826_predseg_labels_rectified_depth_map_95_perc_edge_ponding\n",
      "Processing depth map: CAM_CB_03_20231001162425_predseg_labels_rectified_depth_map_95_perc_edge_ponding\n",
      "Processing depth map: CAM_CB_03_20231001163025_predseg_labels_rectified_depth_map_95_perc_edge_ponding\n",
      "Processing depth map: CAM_CB_03_20231001163625_predseg_labels_rectified_depth_map_95_perc_edge_ponding\n",
      "Processing depth map: CAM_CB_03_20231001164225_predseg_labels_rectified_depth_map_95_perc_edge_ponding\n",
      "Processing depth map: CAM_CB_03_20231001164825_predseg_labels_rectified_depth_map_95_perc_edge_ponding\n"
     ]
    },
    {
     "name": "stderr",
     "output_type": "stream",
     "text": [
      "Plotting depth maps for flood events...:  25%|██▌       | 14/55 [13:12<30:36, 44.79s/it]"
     ]
    },
    {
     "name": "stdout",
     "output_type": "stream",
     "text": [
      "Processing depth map: CAM_CB_03_20220819163626_predseg_labels_rectified_depth_map_95_perc_edge_ponding\n",
      "Processing depth map: CAM_CB_03_20220819164226_predseg_labels_rectified_depth_map_95_perc_edge_ponding\n",
      "Processing depth map: CAM_CB_03_20220819164826_predseg_labels_rectified_depth_map_95_perc_edge_ponding\n"
     ]
    },
    {
     "name": "stderr",
     "output_type": "stream",
     "text": [
      "Plotting depth maps for flood events...:  27%|██▋       | 15/55 [13:21<22:38, 33.97s/it]"
     ]
    },
    {
     "name": "stdout",
     "output_type": "stream",
     "text": [
      "Processing depth map: CAM_CB_03_20241020162425_predseg_labels_rectified_depth_map_95_perc_edge_ponding\n",
      "Processing depth map: CAM_CB_03_20241020163025_predseg_labels_rectified_depth_map_95_perc_edge_ponding\n",
      "Processing depth map: CAM_CB_03_20241020163625_predseg_labels_rectified_depth_map_95_perc_edge_ponding\n",
      "Processing depth map: CAM_CB_03_20241020164225_predseg_labels_rectified_depth_map_95_perc_edge_ponding\n",
      "Processing depth map: CAM_CB_03_20241020164825_predseg_labels_rectified_depth_map_95_perc_edge_ponding\n",
      "Processing depth map: CAM_CB_03_20241020165426_predseg_labels_rectified_depth_map_95_perc_edge_ponding\n"
     ]
    },
    {
     "name": "stderr",
     "output_type": "stream",
     "text": [
      "Plotting depth maps for flood events...:  29%|██▉       | 16/55 [13:38<18:41, 28.76s/it]"
     ]
    },
    {
     "name": "stdout",
     "output_type": "stream",
     "text": [
      "Processing depth map: CAM_CB_03_20231218034232_predseg_labels_rectified_depth_map_95_perc_edge_ponding\n",
      "Processing depth map: CAM_CB_03_20231218034830_predseg_labels_rectified_depth_map_95_perc_edge_ponding\n",
      "Processing depth map: CAM_CB_03_20231218035432_predseg_labels_rectified_depth_map_95_perc_edge_ponding\n",
      "Processing depth map: CAM_CB_03_20231218040032_predseg_labels_rectified_depth_map_95_perc_edge_ponding\n",
      "Processing depth map: CAM_CB_03_20231218040631_predseg_labels_rectified_depth_map_95_perc_edge_ponding\n",
      "Processing depth map: CAM_CB_03_20231218041228_predseg_labels_rectified_depth_map_95_perc_edge_ponding\n",
      "Processing depth map: CAM_CB_03_20231218041830_predseg_labels_rectified_depth_map_95_perc_edge_ponding\n",
      "Processing depth map: CAM_CB_03_20231218042428_predseg_labels_rectified_depth_map_95_perc_edge_ponding\n",
      "Processing depth map: CAM_CB_03_20231218043030_predseg_labels_rectified_depth_map_95_perc_edge_ponding\n",
      "Processing depth map: CAM_CB_03_20231218043629_predseg_labels_rectified_depth_map_95_perc_edge_ponding\n",
      "Processing depth map: CAM_CB_03_20231218044229_predseg_labels_rectified_depth_map_95_perc_edge_ponding\n",
      "Processing depth map: CAM_CB_03_20231218044830_predseg_labels_rectified_depth_map_95_perc_edge_ponding\n",
      "Processing depth map: CAM_CB_03_20231218045431_predseg_labels_rectified_depth_map_95_perc_edge_ponding\n",
      "Processing depth map: CAM_CB_03_20231218050028_predseg_labels_rectified_depth_map_95_perc_edge_ponding\n",
      "Processing depth map: CAM_CB_03_20231218050630_predseg_labels_rectified_depth_map_95_perc_edge_ponding\n",
      "Processing depth map: CAM_CB_03_20231218051229_predseg_labels_rectified_depth_map_95_perc_edge_ponding\n",
      "Processing depth map: CAM_CB_03_20231218051830_predseg_labels_rectified_depth_map_95_perc_edge_ponding\n",
      "Processing depth map: CAM_CB_03_20231218052431_predseg_labels_rectified_depth_map_95_perc_edge_ponding\n",
      "Processing depth map: CAM_CB_03_20231218053029_predseg_labels_rectified_depth_map_95_perc_edge_ponding\n",
      "Processing depth map: CAM_CB_03_20231218053630_predseg_labels_rectified_depth_map_95_perc_edge_ponding\n",
      "Processing depth map: CAM_CB_03_20231218054229_predseg_labels_rectified_depth_map_95_perc_edge_ponding\n",
      "Processing depth map: CAM_CB_03_20231218054829_predseg_labels_rectified_depth_map_95_perc_edge_ponding\n",
      "Processing depth map: CAM_CB_03_20231218055431_predseg_labels_rectified_depth_map_95_perc_edge_ponding\n",
      "Processing depth map: CAM_CB_03_20231218060032_predseg_labels_rectified_depth_map_95_perc_edge_ponding\n",
      "Processing depth map: CAM_CB_03_20231218060631_predseg_labels_rectified_depth_map_95_perc_edge_ponding\n",
      "Processing depth map: CAM_CB_03_20231218061230_predseg_labels_rectified_depth_map_95_perc_edge_ponding\n",
      "Processing depth map: CAM_CB_03_20231218061829_predseg_labels_rectified_depth_map_95_perc_edge_ponding\n"
     ]
    },
    {
     "name": "stderr",
     "output_type": "stream",
     "text": [
      "Plotting depth maps for flood events...:  31%|███       | 17/55 [14:47<25:57, 41.00s/it]"
     ]
    },
    {
     "name": "stdout",
     "output_type": "stream",
     "text": [
      "Processing depth map: CAM_CB_03_20240213035259_predseg_labels_rectified_depth_map_95_perc_edge_ponding\n",
      "Processing depth map: CAM_CB_03_20240213041056_predseg_labels_rectified_depth_map_95_perc_edge_ponding\n",
      "Processing depth map: CAM_CB_03_20240213041700_predseg_labels_rectified_depth_map_95_perc_edge_ponding\n",
      "Processing depth map: CAM_CB_03_20240213042902_predseg_labels_rectified_depth_map_95_perc_edge_ponding\n"
     ]
    },
    {
     "name": "stderr",
     "output_type": "stream",
     "text": [
      "Plotting depth maps for flood events...:  33%|███▎      | 18/55 [15:00<20:01, 32.48s/it]"
     ]
    },
    {
     "name": "stdout",
     "output_type": "stream",
     "text": [
      "Processing depth map: CAM_CB_03_20240812175605_predseg_labels_rectified_depth_map_95_perc_edge_ponding\n",
      "Processing depth map: CAM_CB_03_20240812175635_predseg_labels_rectified_depth_map_95_perc_edge_ponding\n",
      "Processing depth map: CAM_CB_03_20240812175705_predseg_labels_rectified_depth_map_95_perc_edge_ponding\n",
      "Processing depth map: CAM_CB_03_20240812175735_predseg_labels_rectified_depth_map_95_perc_edge_ponding\n",
      "Processing depth map: CAM_CB_03_20240812175805_predseg_labels_rectified_depth_map_95_perc_edge_ponding\n",
      "Processing depth map: CAM_CB_03_20240812175835_predseg_labels_rectified_depth_map_95_perc_edge_ponding\n",
      "Processing depth map: CAM_CB_03_20240812175905_predseg_labels_rectified_depth_map_95_perc_edge_ponding\n",
      "Processing depth map: CAM_CB_03_20240812175935_predseg_labels_rectified_depth_map_95_perc_edge_ponding\n",
      "Processing depth map: CAM_CB_03_20240812180005_predseg_labels_rectified_depth_map_95_perc_edge_ponding\n",
      "Processing depth map: CAM_CB_03_20240812180626_predseg_labels_rectified_depth_map_95_perc_edge_ponding\n",
      "Processing depth map: CAM_CB_03_20240812181226_predseg_labels_rectified_depth_map_95_perc_edge_ponding\n",
      "Processing depth map: CAM_CB_03_20240812181825_predseg_labels_rectified_depth_map_95_perc_edge_ponding\n",
      "Processing depth map: CAM_CB_03_20240812182425_predseg_labels_rectified_depth_map_95_perc_edge_ponding\n"
     ]
    },
    {
     "name": "stderr",
     "output_type": "stream",
     "text": [
      "Plotting depth maps for flood events...:  35%|███▍      | 19/55 [15:37<20:18, 33.85s/it]"
     ]
    },
    {
     "name": "stdout",
     "output_type": "stream",
     "text": [
      "Processing depth map: CAM_CB_03_20230827234226_predseg_labels_rectified_depth_map_95_perc_edge_ponding\n",
      "Processing depth map: CAM_CB_03_20230827234827_predseg_labels_rectified_depth_map_95_perc_edge_ponding\n",
      "Processing depth map: CAM_CB_03_20230827235430_predseg_labels_rectified_depth_map_95_perc_edge_ponding\n"
     ]
    },
    {
     "name": "stderr",
     "output_type": "stream",
     "text": [
      "Plotting depth maps for flood events...:  36%|███▋      | 20/55 [15:47<15:32, 26.65s/it]"
     ]
    },
    {
     "name": "stdout",
     "output_type": "stream",
     "text": [
      "Processing depth map: CAM_CB_03_20221221110635_predseg_labels_rectified_depth_map_95_perc_edge_ponding\n",
      "Processing depth map: CAM_CB_03_20221221111234_predseg_labels_rectified_depth_map_95_perc_edge_ponding\n",
      "Processing depth map: CAM_CB_03_20221221111833_predseg_labels_rectified_depth_map_95_perc_edge_ponding\n",
      "Processing depth map: CAM_CB_03_20221221112434_predseg_labels_rectified_depth_map_95_perc_edge_ponding\n",
      "Processing depth map: CAM_CB_03_20221221114316_predseg_labels_rectified_depth_map_95_perc_edge_ponding\n"
     ]
    },
    {
     "name": "stderr",
     "output_type": "stream",
     "text": [
      "Plotting depth maps for flood events...:  38%|███▊      | 21/55 [16:03<13:18, 23.49s/it]"
     ]
    },
    {
     "name": "stdout",
     "output_type": "stream",
     "text": [
      "Processing depth map: CAM_CB_03_20221222120113_predseg_labels_rectified_depth_map_95_perc_edge_ponding\n",
      "Processing depth map: CAM_CB_03_20221222120653_predseg_labels_rectified_depth_map_95_perc_edge_ponding\n",
      "Processing depth map: CAM_CB_03_20221222121233_predseg_labels_rectified_depth_map_95_perc_edge_ponding\n",
      "Processing depth map: CAM_CB_03_20221222121826_predseg_labels_rectified_depth_map_95_perc_edge_ponding\n",
      "Processing depth map: CAM_CB_03_20221222122307_predseg_labels_rectified_depth_map_95_perc_edge_ponding\n",
      "Processing depth map: CAM_CB_03_20221222122426_predseg_labels_rectified_depth_map_95_perc_edge_ponding\n",
      "Processing depth map: CAM_CB_03_20221222123026_predseg_labels_rectified_depth_map_95_perc_edge_ponding\n",
      "Processing depth map: CAM_CB_03_20221222123626_predseg_labels_rectified_depth_map_95_perc_edge_ponding\n",
      "Processing depth map: CAM_CB_03_20221222124226_predseg_labels_rectified_depth_map_95_perc_edge_ponding\n",
      "Processing depth map: CAM_CB_03_20221222124826_predseg_labels_rectified_depth_map_95_perc_edge_ponding\n",
      "Processing depth map: CAM_CB_03_20221222125426_predseg_labels_rectified_depth_map_95_perc_edge_ponding\n",
      "Processing depth map: CAM_CB_03_20221222130026_predseg_labels_rectified_depth_map_95_perc_edge_ponding\n",
      "Processing depth map: CAM_CB_03_20221222130626_predseg_labels_rectified_depth_map_95_perc_edge_ponding\n",
      "Processing depth map: CAM_CB_03_20221222131226_predseg_labels_rectified_depth_map_95_perc_edge_ponding\n",
      "Processing depth map: CAM_CB_03_20221222131826_predseg_labels_rectified_depth_map_95_perc_edge_ponding\n",
      "Processing depth map: CAM_CB_03_20221222132045_predseg_labels_rectified_depth_map_95_perc_edge_ponding\n",
      "Processing depth map: CAM_CB_03_20221222132425_predseg_labels_rectified_depth_map_95_perc_edge_ponding\n",
      "Processing depth map: CAM_CB_03_20221222134908_predseg_labels_rectified_depth_map_95_perc_edge_ponding\n",
      "Processing depth map: CAM_CB_03_20221222135448_predseg_labels_rectified_depth_map_95_perc_edge_ponding\n",
      "Processing depth map: CAM_CB_03_20221222140028_predseg_labels_rectified_depth_map_95_perc_edge_ponding\n",
      "Processing depth map: CAM_CB_03_20221222140626_predseg_labels_rectified_depth_map_95_perc_edge_ponding\n",
      "Processing depth map: CAM_CB_03_20221222141226_predseg_labels_rectified_depth_map_95_perc_edge_ponding\n",
      "Processing depth map: CAM_CB_03_20221222141826_predseg_labels_rectified_depth_map_95_perc_edge_ponding\n",
      "Processing depth map: CAM_CB_03_20221222142306_predseg_labels_rectified_depth_map_95_perc_edge_ponding\n",
      "Processing depth map: CAM_CB_03_20221222142426_predseg_labels_rectified_depth_map_95_perc_edge_ponding\n",
      "Processing depth map: CAM_CB_03_20221222143025_predseg_labels_rectified_depth_map_95_perc_edge_ponding\n",
      "Processing depth map: CAM_CB_03_20221222143626_predseg_labels_rectified_depth_map_95_perc_edge_ponding\n",
      "Processing depth map: CAM_CB_03_20221222144226_predseg_labels_rectified_depth_map_95_perc_edge_ponding\n",
      "Processing depth map: CAM_CB_03_20221222144826_predseg_labels_rectified_depth_map_95_perc_edge_ponding\n",
      "Processing depth map: CAM_CB_03_20221222145425_predseg_labels_rectified_depth_map_95_perc_edge_ponding\n",
      "Processing depth map: CAM_CB_03_20221222150026_predseg_labels_rectified_depth_map_95_perc_edge_ponding\n",
      "Processing depth map: CAM_CB_03_20221222150626_predseg_labels_rectified_depth_map_95_perc_edge_ponding\n",
      "Processing depth map: CAM_CB_03_20221222151226_predseg_labels_rectified_depth_map_95_perc_edge_ponding\n",
      "Processing depth map: CAM_CB_03_20221222151956_predseg_labels_rectified_depth_map_95_perc_edge_ponding\n",
      "Processing depth map: CAM_CB_03_20221222153117_predseg_labels_rectified_depth_map_95_perc_edge_ponding\n",
      "Processing depth map: CAM_CB_03_20221222153706_predseg_labels_rectified_depth_map_95_perc_edge_ponding\n"
     ]
    },
    {
     "name": "stderr",
     "output_type": "stream",
     "text": [
      "Plotting depth maps for flood events...:  40%|████      | 22/55 [17:47<26:07, 47.49s/it]"
     ]
    },
    {
     "name": "stdout",
     "output_type": "stream",
     "text": [
      "Processing depth map: CAM_CB_03_20220616011834_predseg_labels_rectified_depth_map_95_perc_edge_ponding\n",
      "Processing depth map: CAM_CB_03_20220616012434_predseg_labels_rectified_depth_map_95_perc_edge_ponding\n",
      "Processing depth map: CAM_CB_03_20220616013034_predseg_labels_rectified_depth_map_95_perc_edge_ponding\n",
      "Processing depth map: CAM_CB_03_20220616013633_predseg_labels_rectified_depth_map_95_perc_edge_ponding\n",
      "Processing depth map: CAM_CB_03_20220616014232_predseg_labels_rectified_depth_map_95_perc_edge_ponding\n",
      "Processing depth map: CAM_CB_03_20220616014834_predseg_labels_rectified_depth_map_95_perc_edge_ponding\n",
      "Processing depth map: CAM_CB_03_20220616015434_predseg_labels_rectified_depth_map_95_perc_edge_ponding\n",
      "Processing depth map: CAM_CB_03_20220616020033_predseg_labels_rectified_depth_map_95_perc_edge_ponding\n",
      "Processing depth map: CAM_CB_03_20220616020633_predseg_labels_rectified_depth_map_95_perc_edge_ponding\n",
      "Processing depth map: CAM_CB_03_20220616021230_predseg_labels_rectified_depth_map_95_perc_edge_ponding\n",
      "Processing depth map: CAM_CB_03_20220616021834_predseg_labels_rectified_depth_map_95_perc_edge_ponding\n",
      "Processing depth map: CAM_CB_03_20220616022434_predseg_labels_rectified_depth_map_95_perc_edge_ponding\n",
      "Processing depth map: CAM_CB_03_20220616023031_predseg_labels_rectified_depth_map_95_perc_edge_ponding\n",
      "Processing depth map: CAM_CB_03_20220616023629_predseg_labels_rectified_depth_map_95_perc_edge_ponding\n",
      "Processing depth map: CAM_CB_03_20220616024236_predseg_labels_rectified_depth_map_95_perc_edge_ponding\n",
      "Processing depth map: CAM_CB_03_20220616024832_predseg_labels_rectified_depth_map_95_perc_edge_ponding\n",
      "Processing depth map: CAM_CB_03_20220616025430_predseg_labels_rectified_depth_map_95_perc_edge_ponding\n",
      "Processing depth map: CAM_CB_03_20220616030030_predseg_labels_rectified_depth_map_95_perc_edge_ponding\n",
      "Processing depth map: CAM_CB_03_20220616030629_predseg_labels_rectified_depth_map_95_perc_edge_ponding\n",
      "Processing depth map: CAM_CB_03_20220616031231_predseg_labels_rectified_depth_map_95_perc_edge_ponding\n",
      "Processing depth map: CAM_CB_03_20220616031829_predseg_labels_rectified_depth_map_95_perc_edge_ponding\n",
      "Processing depth map: CAM_CB_03_20220616032431_predseg_labels_rectified_depth_map_95_perc_edge_ponding\n",
      "Processing depth map: CAM_CB_03_20220616033029_predseg_labels_rectified_depth_map_95_perc_edge_ponding\n",
      "Processing depth map: CAM_CB_03_20220616033630_predseg_labels_rectified_depth_map_95_perc_edge_ponding\n",
      "Processing depth map: CAM_CB_03_20220616034229_predseg_labels_rectified_depth_map_95_perc_edge_ponding\n",
      "Processing depth map: CAM_CB_03_20220616034830_predseg_labels_rectified_depth_map_95_perc_edge_ponding\n",
      "Processing depth map: CAM_CB_03_20220616035435_predseg_labels_rectified_depth_map_95_perc_edge_ponding\n"
     ]
    },
    {
     "name": "stderr",
     "output_type": "stream",
     "text": [
      "Plotting depth maps for flood events...:  42%|████▏     | 23/55 [19:06<30:22, 56.96s/it]"
     ]
    },
    {
     "name": "stdout",
     "output_type": "stream",
     "text": [
      "Processing depth map: CAM_CB_03_20231003164225_predseg_labels_rectified_depth_map_95_perc_edge_ponding\n",
      "Processing depth map: CAM_CB_03_20231003164826_predseg_labels_rectified_depth_map_95_perc_edge_ponding\n",
      "Processing depth map: CAM_CB_03_20231003165425_predseg_labels_rectified_depth_map_95_perc_edge_ponding\n",
      "Processing depth map: CAM_CB_03_20231003170025_predseg_labels_rectified_depth_map_95_perc_edge_ponding\n",
      "Processing depth map: CAM_CB_03_20231003170625_predseg_labels_rectified_depth_map_95_perc_edge_ponding\n",
      "Processing depth map: CAM_CB_03_20231003171225_predseg_labels_rectified_depth_map_95_perc_edge_ponding\n",
      "Processing depth map: CAM_CB_03_20231003171825_predseg_labels_rectified_depth_map_95_perc_edge_ponding\n",
      "Processing depth map: CAM_CB_03_20231003172425_predseg_labels_rectified_depth_map_95_perc_edge_ponding\n",
      "Processing depth map: CAM_CB_03_20231003173025_predseg_labels_rectified_depth_map_95_perc_edge_ponding\n",
      "Processing depth map: CAM_CB_03_20231003173625_predseg_labels_rectified_depth_map_95_perc_edge_ponding\n",
      "Processing depth map: CAM_CB_03_20231003174225_predseg_labels_rectified_depth_map_95_perc_edge_ponding\n",
      "Processing depth map: CAM_CB_03_20231003174825_predseg_labels_rectified_depth_map_95_perc_edge_ponding\n",
      "Processing depth map: CAM_CB_03_20231003175425_predseg_labels_rectified_depth_map_95_perc_edge_ponding\n",
      "Processing depth map: CAM_CB_03_20231003180025_predseg_labels_rectified_depth_map_95_perc_edge_ponding\n",
      "Processing depth map: CAM_CB_03_20231003180625_predseg_labels_rectified_depth_map_95_perc_edge_ponding\n"
     ]
    },
    {
     "name": "stderr",
     "output_type": "stream",
     "text": [
      "Plotting depth maps for flood events...:  44%|████▎     | 24/55 [19:53<27:56, 54.08s/it]"
     ]
    },
    {
     "name": "stdout",
     "output_type": "stream",
     "text": [
      "Processing depth map: CAM_CB_03_20230928021845_predseg_labels_rectified_depth_map_95_perc_edge_ponding\n"
     ]
    },
    {
     "name": "stderr",
     "output_type": "stream",
     "text": [
      "Plotting depth maps for flood events...:  47%|████▋     | 26/55 [20:00<13:32, 28.02s/it]"
     ]
    },
    {
     "name": "stdout",
     "output_type": "stream",
     "text": [
      "Processing depth map: CAM_CB_03_20230930151825_predseg_labels_rectified_depth_map_95_perc_edge_ponding\n",
      "Processing depth map: CAM_CB_03_20230930152425_predseg_labels_rectified_depth_map_95_perc_edge_ponding\n",
      "Processing depth map: CAM_CB_03_20230930153025_predseg_labels_rectified_depth_map_95_perc_edge_ponding\n",
      "Processing depth map: CAM_CB_03_20230930153625_predseg_labels_rectified_depth_map_95_perc_edge_ponding\n",
      "Processing depth map: CAM_CB_03_20230930154225_predseg_labels_rectified_depth_map_95_perc_edge_ponding\n"
     ]
    },
    {
     "name": "stderr",
     "output_type": "stream",
     "text": [
      "Plotting depth maps for flood events...:  49%|████▉     | 27/55 [20:17<11:33, 24.79s/it]"
     ]
    },
    {
     "name": "stdout",
     "output_type": "stream",
     "text": [
      "Processing depth map: CAM_CB_03_20221125133626_predseg_labels_rectified_depth_map_95_perc_edge_ponding\n",
      "Processing depth map: CAM_CB_03_20221125134226_predseg_labels_rectified_depth_map_95_perc_edge_ponding\n"
     ]
    },
    {
     "name": "stderr",
     "output_type": "stream",
     "text": [
      "Plotting depth maps for flood events...:  51%|█████     | 28/55 [20:25<08:53, 19.74s/it]"
     ]
    },
    {
     "name": "stdout",
     "output_type": "stream",
     "text": [
      "Processing depth map: CAM_CB_03_20230902033646_predseg_labels_rectified_depth_map_95_perc_edge_ponding\n",
      "Processing depth map: CAM_CB_03_20230902034246_predseg_labels_rectified_depth_map_95_perc_edge_ponding\n",
      "Processing depth map: CAM_CB_03_20230902034845_predseg_labels_rectified_depth_map_95_perc_edge_ponding\n",
      "Processing depth map: CAM_CB_03_20230902035445_predseg_labels_rectified_depth_map_95_perc_edge_ponding\n",
      "Processing depth map: CAM_CB_03_20230902040045_predseg_labels_rectified_depth_map_95_perc_edge_ponding\n"
     ]
    },
    {
     "name": "stderr",
     "output_type": "stream",
     "text": [
      "Plotting depth maps for flood events...:  53%|█████▎    | 29/55 [20:42<08:14, 19.03s/it]"
     ]
    },
    {
     "name": "stdout",
     "output_type": "stream",
     "text": [
      "Processing depth map: CAM_CB_03_20240809181225_predseg_labels_rectified_depth_map_95_perc_edge_ponding\n",
      "Processing depth map: CAM_CB_03_20240809181826_predseg_labels_rectified_depth_map_95_perc_edge_ponding\n",
      "Processing depth map: CAM_CB_03_20240809182426_predseg_labels_rectified_depth_map_95_perc_edge_ponding\n",
      "Processing depth map: CAM_CB_03_20240809183025_predseg_labels_rectified_depth_map_95_perc_edge_ponding\n",
      "Processing depth map: CAM_CB_03_20240809183625_predseg_labels_rectified_depth_map_95_perc_edge_ponding\n",
      "Processing depth map: CAM_CB_03_20240809184225_predseg_labels_rectified_depth_map_95_perc_edge_ponding\n",
      "Processing depth map: CAM_CB_03_20240809184826_predseg_labels_rectified_depth_map_95_perc_edge_ponding\n",
      "Processing depth map: CAM_CB_03_20240809185425_predseg_labels_rectified_depth_map_95_perc_edge_ponding\n",
      "Processing depth map: CAM_CB_03_20240809190026_predseg_labels_rectified_depth_map_95_perc_edge_ponding\n",
      "Processing depth map: CAM_CB_03_20240809190625_predseg_labels_rectified_depth_map_95_perc_edge_ponding\n",
      "Processing depth map: CAM_CB_03_20240809191225_predseg_labels_rectified_depth_map_95_perc_edge_ponding\n",
      "Processing depth map: CAM_CB_03_20240809191826_predseg_labels_rectified_depth_map_95_perc_edge_ponding\n",
      "Processing depth map: CAM_CB_03_20240809192425_predseg_labels_rectified_depth_map_95_perc_edge_ponding\n",
      "Processing depth map: CAM_CB_03_20240809193026_predseg_labels_rectified_depth_map_95_perc_edge_ponding\n",
      "Processing depth map: CAM_CB_03_20240809193626_predseg_labels_rectified_depth_map_95_perc_edge_ponding\n",
      "Processing depth map: CAM_CB_03_20240809194226_predseg_labels_rectified_depth_map_95_perc_edge_ponding\n",
      "Processing depth map: CAM_CB_03_20240809194825_predseg_labels_rectified_depth_map_95_perc_edge_ponding\n",
      "Processing depth map: CAM_CB_03_20240809195425_predseg_labels_rectified_depth_map_95_perc_edge_ponding\n",
      "Processing depth map: CAM_CB_03_20240809200025_predseg_labels_rectified_depth_map_95_perc_edge_ponding\n",
      "Processing depth map: CAM_CB_03_20240809200625_predseg_labels_rectified_depth_map_95_perc_edge_ponding\n",
      "Processing depth map: CAM_CB_03_20240809201226_predseg_labels_rectified_depth_map_95_perc_edge_ponding\n",
      "Processing depth map: CAM_CB_03_20240809201825_predseg_labels_rectified_depth_map_95_perc_edge_ponding\n",
      "Processing depth map: CAM_CB_03_20240809202425_predseg_labels_rectified_depth_map_95_perc_edge_ponding\n"
     ]
    },
    {
     "name": "stderr",
     "output_type": "stream",
     "text": [
      "Plotting depth maps for flood events...:  55%|█████▍    | 30/55 [21:56<14:49, 35.57s/it]"
     ]
    },
    {
     "name": "stdout",
     "output_type": "stream",
     "text": [
      "Processing depth map: CAM_CB_03_20220816043033_predseg_labels_rectified_depth_map_95_perc_edge_ponding\n",
      "Processing depth map: CAM_CB_03_20220816043635_predseg_labels_rectified_depth_map_95_perc_edge_ponding\n",
      "Processing depth map: CAM_CB_03_20220816044230_predseg_labels_rectified_depth_map_95_perc_edge_ponding\n",
      "Processing depth map: CAM_CB_03_20220816044833_predseg_labels_rectified_depth_map_95_perc_edge_ponding\n",
      "Processing depth map: CAM_CB_03_20220816045431_predseg_labels_rectified_depth_map_95_perc_edge_ponding\n"
     ]
    },
    {
     "name": "stderr",
     "output_type": "stream",
     "text": [
      "Plotting depth maps for flood events...:  56%|█████▋    | 31/55 [22:15<12:09, 30.40s/it]"
     ]
    },
    {
     "name": "stdout",
     "output_type": "stream",
     "text": [
      "Processing depth map: CAM_CB_03_20220929153026_predseg_labels_rectified_depth_map_95_perc_edge_ponding\n",
      "Processing depth map: CAM_CB_03_20220929153625_predseg_labels_rectified_depth_map_95_perc_edge_ponding\n",
      "Processing depth map: CAM_CB_03_20220929154225_predseg_labels_rectified_depth_map_95_perc_edge_ponding\n",
      "Processing depth map: CAM_CB_03_20220929154826_predseg_labels_rectified_depth_map_95_perc_edge_ponding\n",
      "Processing depth map: CAM_CB_03_20220929155426_predseg_labels_rectified_depth_map_95_perc_edge_ponding\n",
      "Processing depth map: CAM_CB_03_20220929160025_predseg_labels_rectified_depth_map_95_perc_edge_ponding\n",
      "Processing depth map: CAM_CB_03_20220929160625_predseg_labels_rectified_depth_map_95_perc_edge_ponding\n",
      "Processing depth map: CAM_CB_03_20220929161225_predseg_labels_rectified_depth_map_95_perc_edge_ponding\n",
      "Processing depth map: CAM_CB_03_20220929161825_predseg_labels_rectified_depth_map_95_perc_edge_ponding\n",
      "Processing depth map: CAM_CB_03_20220929162426_predseg_labels_rectified_depth_map_95_perc_edge_ponding\n",
      "Processing depth map: CAM_CB_03_20220929163026_predseg_labels_rectified_depth_map_95_perc_edge_ponding\n",
      "Processing depth map: CAM_CB_03_20220929163626_predseg_labels_rectified_depth_map_95_perc_edge_ponding\n",
      "Processing depth map: CAM_CB_03_20220929164226_predseg_labels_rectified_depth_map_95_perc_edge_ponding\n",
      "Processing depth map: CAM_CB_03_20220929164825_predseg_labels_rectified_depth_map_95_perc_edge_ponding\n",
      "Processing depth map: CAM_CB_03_20220929165425_predseg_labels_rectified_depth_map_95_perc_edge_ponding\n",
      "Processing depth map: CAM_CB_03_20220929170025_predseg_labels_rectified_depth_map_95_perc_edge_ponding\n",
      "Processing depth map: CAM_CB_03_20220929170625_predseg_labels_rectified_depth_map_95_perc_edge_ponding\n",
      "Processing depth map: CAM_CB_03_20220929171226_predseg_labels_rectified_depth_map_95_perc_edge_ponding\n",
      "Processing depth map: CAM_CB_03_20220929171825_predseg_labels_rectified_depth_map_95_perc_edge_ponding\n",
      "Processing depth map: CAM_CB_03_20220929172425_predseg_labels_rectified_depth_map_95_perc_edge_ponding\n",
      "Processing depth map: CAM_CB_03_20220929173025_predseg_labels_rectified_depth_map_95_perc_edge_ponding\n",
      "Processing depth map: CAM_CB_03_20220929173626_predseg_labels_rectified_depth_map_95_perc_edge_ponding\n",
      "Processing depth map: CAM_CB_03_20220929174225_predseg_labels_rectified_depth_map_95_perc_edge_ponding\n",
      "Processing depth map: CAM_CB_03_20220929174826_predseg_labels_rectified_depth_map_95_perc_edge_ponding\n",
      "Processing depth map: CAM_CB_03_20220929175425_predseg_labels_rectified_depth_map_95_perc_edge_ponding\n",
      "Processing depth map: CAM_CB_03_20220929180025_predseg_labels_rectified_depth_map_95_perc_edge_ponding\n"
     ]
    },
    {
     "name": "stderr",
     "output_type": "stream",
     "text": [
      "Plotting depth maps for flood events...:  58%|█████▊    | 32/55 [23:42<18:15, 47.62s/it]"
     ]
    },
    {
     "name": "stdout",
     "output_type": "stream",
     "text": [
      "Processing depth map: CAM_CB_03_20220930040032_predseg_labels_rectified_depth_map_95_perc_edge_ponding\n",
      "Processing depth map: CAM_CB_03_20220930040631_predseg_labels_rectified_depth_map_95_perc_edge_ponding\n",
      "Processing depth map: CAM_CB_03_20220930041235_predseg_labels_rectified_depth_map_95_perc_edge_ponding\n",
      "Processing depth map: CAM_CB_03_20220930041834_predseg_labels_rectified_depth_map_95_perc_edge_ponding\n",
      "Processing depth map: CAM_CB_03_20220930042434_predseg_labels_rectified_depth_map_95_perc_edge_ponding\n",
      "Processing depth map: CAM_CB_03_20220930043033_predseg_labels_rectified_depth_map_95_perc_edge_ponding\n",
      "Processing depth map: CAM_CB_03_20220930043631_predseg_labels_rectified_depth_map_95_perc_edge_ponding\n",
      "Processing depth map: CAM_CB_03_20220930044231_predseg_labels_rectified_depth_map_95_perc_edge_ponding\n",
      "Processing depth map: CAM_CB_03_20220930044835_predseg_labels_rectified_depth_map_95_perc_edge_ponding\n",
      "Processing depth map: CAM_CB_03_20220930045431_predseg_labels_rectified_depth_map_95_perc_edge_ponding\n",
      "Processing depth map: CAM_CB_03_20220930050035_predseg_labels_rectified_depth_map_95_perc_edge_ponding\n",
      "Processing depth map: CAM_CB_03_20220930050635_predseg_labels_rectified_depth_map_95_perc_edge_ponding\n",
      "Processing depth map: CAM_CB_03_20220930051229_predseg_labels_rectified_depth_map_95_perc_edge_ponding\n",
      "Processing depth map: CAM_CB_03_20220930051835_predseg_labels_rectified_depth_map_95_perc_edge_ponding\n",
      "Processing depth map: CAM_CB_03_20220930052432_predseg_labels_rectified_depth_map_95_perc_edge_ponding\n",
      "Processing depth map: CAM_CB_03_20220930053034_predseg_labels_rectified_depth_map_95_perc_edge_ponding\n"
     ]
    },
    {
     "name": "stderr",
     "output_type": "stream",
     "text": [
      "Plotting depth maps for flood events...:  60%|██████    | 33/55 [24:36<18:08, 49.46s/it]"
     ]
    },
    {
     "name": "stdout",
     "output_type": "stream",
     "text": [
      "Processing depth map: CAM_CB_03_20230802012446_predseg_labels_rectified_depth_map_95_perc_edge_ponding\n",
      "Processing depth map: CAM_CB_03_20230802013046_predseg_labels_rectified_depth_map_95_perc_edge_ponding\n",
      "Processing depth map: CAM_CB_03_20230802013646_predseg_labels_rectified_depth_map_95_perc_edge_ponding\n",
      "Processing depth map: CAM_CB_03_20230802014247_predseg_labels_rectified_depth_map_95_perc_edge_ponding\n",
      "Processing depth map: CAM_CB_03_20230802014846_predseg_labels_rectified_depth_map_95_perc_edge_ponding\n",
      "Processing depth map: CAM_CB_03_20230802015446_predseg_labels_rectified_depth_map_95_perc_edge_ponding\n",
      "Processing depth map: CAM_CB_03_20230802020030_predseg_labels_rectified_depth_map_95_perc_edge_ponding\n",
      "Processing depth map: CAM_CB_03_20230802020645_predseg_labels_rectified_depth_map_95_perc_edge_ponding\n",
      "Processing depth map: CAM_CB_03_20230802021242_predseg_labels_rectified_depth_map_95_perc_edge_ponding\n",
      "Processing depth map: CAM_CB_03_20230802021846_predseg_labels_rectified_depth_map_95_perc_edge_ponding\n",
      "Processing depth map: CAM_CB_03_20230802022446_predseg_labels_rectified_depth_map_95_perc_edge_ponding\n",
      "Processing depth map: CAM_CB_03_20230802023046_predseg_labels_rectified_depth_map_95_perc_edge_ponding\n",
      "Processing depth map: CAM_CB_03_20230802023642_predseg_labels_rectified_depth_map_95_perc_edge_ponding\n",
      "Processing depth map: CAM_CB_03_20230802024246_predseg_labels_rectified_depth_map_95_perc_edge_ponding\n",
      "Processing depth map: CAM_CB_03_20230802024834_predseg_labels_rectified_depth_map_95_perc_edge_ponding\n"
     ]
    },
    {
     "name": "stderr",
     "output_type": "stream",
     "text": [
      "Plotting depth maps for flood events...:  62%|██████▏   | 34/55 [25:30<17:47, 50.85s/it]"
     ]
    },
    {
     "name": "stdout",
     "output_type": "stream",
     "text": [
      "Processing depth map: CAM_CB_03_20240109234228_predseg_labels_rectified_depth_map_95_perc_edge_ponding\n",
      "Processing depth map: CAM_CB_03_20240109234829_predseg_labels_rectified_depth_map_95_perc_edge_ponding\n"
     ]
    },
    {
     "name": "stderr",
     "output_type": "stream",
     "text": [
      "Plotting depth maps for flood events...:  65%|██████▌   | 36/55 [25:41<08:37, 27.25s/it]"
     ]
    },
    {
     "name": "stdout",
     "output_type": "stream",
     "text": [
      "Processing depth map: CAM_CB_03_20221125135426_predseg_labels_rectified_depth_map_95_perc_edge_ponding\n",
      "Processing depth map: CAM_CB_03_20221125140025_predseg_labels_rectified_depth_map_95_perc_edge_ponding\n",
      "Processing depth map: CAM_CB_03_20221125140625_predseg_labels_rectified_depth_map_95_perc_edge_ponding\n",
      "Processing depth map: CAM_CB_03_20221125141225_predseg_labels_rectified_depth_map_95_perc_edge_ponding\n",
      "Processing depth map: CAM_CB_03_20221125141826_predseg_labels_rectified_depth_map_95_perc_edge_ponding\n",
      "Processing depth map: CAM_CB_03_20221125142426_predseg_labels_rectified_depth_map_95_perc_edge_ponding\n",
      "Processing depth map: CAM_CB_03_20221125143026_predseg_labels_rectified_depth_map_95_perc_edge_ponding\n",
      "Processing depth map: CAM_CB_03_20221125143626_predseg_labels_rectified_depth_map_95_perc_edge_ponding\n",
      "Processing depth map: CAM_CB_03_20221125144225_predseg_labels_rectified_depth_map_95_perc_edge_ponding\n",
      "Processing depth map: CAM_CB_03_20221125144826_predseg_labels_rectified_depth_map_95_perc_edge_ponding\n",
      "Processing depth map: CAM_CB_03_20221125145426_predseg_labels_rectified_depth_map_95_perc_edge_ponding\n",
      "Processing depth map: CAM_CB_03_20221125150025_predseg_labels_rectified_depth_map_95_perc_edge_ponding\n",
      "Processing depth map: CAM_CB_03_20221125150626_predseg_labels_rectified_depth_map_95_perc_edge_ponding\n",
      "Processing depth map: CAM_CB_03_20221125151225_predseg_labels_rectified_depth_map_95_perc_edge_ponding\n",
      "Processing depth map: CAM_CB_03_20221125151825_predseg_labels_rectified_depth_map_95_perc_edge_ponding\n",
      "Processing depth map: CAM_CB_03_20221125152425_predseg_labels_rectified_depth_map_95_perc_edge_ponding\n",
      "Processing depth map: CAM_CB_03_20221125153026_predseg_labels_rectified_depth_map_95_perc_edge_ponding\n",
      "Processing depth map: CAM_CB_03_20221125153626_predseg_labels_rectified_depth_map_95_perc_edge_ponding\n"
     ]
    },
    {
     "name": "stderr",
     "output_type": "stream",
     "text": [
      "Plotting depth maps for flood events...:  67%|██████▋   | 37/55 [26:46<11:34, 38.59s/it]"
     ]
    },
    {
     "name": "stdout",
     "output_type": "stream",
     "text": [
      "Processing depth map: CAM_CB_03_20241115121717_predseg_labels_rectified_depth_map_95_perc_edge_ponding\n",
      "Processing depth map: CAM_CB_03_20241115121747_predseg_labels_rectified_depth_map_95_perc_edge_ponding\n",
      "Processing depth map: CAM_CB_03_20241115121817_predseg_labels_rectified_depth_map_95_perc_edge_ponding\n",
      "Processing depth map: CAM_CB_03_20241115121847_predseg_labels_rectified_depth_map_95_perc_edge_ponding\n",
      "Processing depth map: CAM_CB_03_20241115121948_predseg_labels_rectified_depth_map_95_perc_edge_ponding\n",
      "Processing depth map: CAM_CB_03_20241115122017_predseg_labels_rectified_depth_map_95_perc_edge_ponding\n",
      "Processing depth map: CAM_CB_03_20241115122047_predseg_labels_rectified_depth_map_95_perc_edge_ponding\n",
      "Processing depth map: CAM_CB_03_20241115122117_predseg_labels_rectified_depth_map_95_perc_edge_ponding\n",
      "Processing depth map: CAM_CB_03_20241115122147_predseg_labels_rectified_depth_map_95_perc_edge_ponding\n",
      "Processing depth map: CAM_CB_03_20241115122217_predseg_labels_rectified_depth_map_95_perc_edge_ponding\n",
      "Processing depth map: CAM_CB_03_20241115122247_predseg_labels_rectified_depth_map_95_perc_edge_ponding\n",
      "Processing depth map: CAM_CB_03_20241115122317_predseg_labels_rectified_depth_map_95_perc_edge_ponding\n",
      "Processing depth map: CAM_CB_03_20241115122347_predseg_labels_rectified_depth_map_95_perc_edge_ponding\n",
      "Processing depth map: CAM_CB_03_20241115122417_predseg_labels_rectified_depth_map_95_perc_edge_ponding\n",
      "Processing depth map: CAM_CB_03_20241115122447_predseg_labels_rectified_depth_map_95_perc_edge_ponding\n",
      "Processing depth map: CAM_CB_03_20241115122547_predseg_labels_rectified_depth_map_95_perc_edge_ponding\n",
      "Processing depth map: CAM_CB_03_20241115122618_predseg_labels_rectified_depth_map_95_perc_edge_ponding\n",
      "Processing depth map: CAM_CB_03_20241115122647_predseg_labels_rectified_depth_map_95_perc_edge_ponding\n",
      "Processing depth map: CAM_CB_03_20241115122718_predseg_labels_rectified_depth_map_95_perc_edge_ponding\n",
      "Processing depth map: CAM_CB_03_20241115122747_predseg_labels_rectified_depth_map_95_perc_edge_ponding\n",
      "Processing depth map: CAM_CB_03_20241115122817_predseg_labels_rectified_depth_map_95_perc_edge_ponding\n",
      "Processing depth map: CAM_CB_03_20241115122848_predseg_labels_rectified_depth_map_95_perc_edge_ponding\n",
      "Processing depth map: CAM_CB_03_20241115122918_predseg_labels_rectified_depth_map_95_perc_edge_ponding\n",
      "Processing depth map: CAM_CB_03_20241115122948_predseg_labels_rectified_depth_map_95_perc_edge_ponding\n",
      "Processing depth map: CAM_CB_03_20241115123017_predseg_labels_rectified_depth_map_95_perc_edge_ponding\n",
      "Processing depth map: CAM_CB_03_20241115123048_predseg_labels_rectified_depth_map_95_perc_edge_ponding\n",
      "Processing depth map: CAM_CB_03_20241115123148_predseg_labels_rectified_depth_map_95_perc_edge_ponding\n",
      "Processing depth map: CAM_CB_03_20241115123218_predseg_labels_rectified_depth_map_95_perc_edge_ponding\n",
      "Processing depth map: CAM_CB_03_20241115123248_predseg_labels_rectified_depth_map_95_perc_edge_ponding\n",
      "Processing depth map: CAM_CB_03_20241115123318_predseg_labels_rectified_depth_map_95_perc_edge_ponding\n",
      "Processing depth map: CAM_CB_03_20241115123348_predseg_labels_rectified_depth_map_95_perc_edge_ponding\n",
      "Processing depth map: CAM_CB_03_20241115123418_predseg_labels_rectified_depth_map_95_perc_edge_ponding\n",
      "Processing depth map: CAM_CB_03_20241115123448_predseg_labels_rectified_depth_map_95_perc_edge_ponding\n",
      "Processing depth map: CAM_CB_03_20241115123518_predseg_labels_rectified_depth_map_95_perc_edge_ponding\n",
      "Processing depth map: CAM_CB_03_20241115123548_predseg_labels_rectified_depth_map_95_perc_edge_ponding\n",
      "Processing depth map: CAM_CB_03_20241115123618_predseg_labels_rectified_depth_map_95_perc_edge_ponding\n",
      "Processing depth map: CAM_CB_03_20241115123648_predseg_labels_rectified_depth_map_95_perc_edge_ponding\n",
      "Processing depth map: CAM_CB_03_20241115123748_predseg_labels_rectified_depth_map_95_perc_edge_ponding\n",
      "Processing depth map: CAM_CB_03_20241115123818_predseg_labels_rectified_depth_map_95_perc_edge_ponding\n",
      "Processing depth map: CAM_CB_03_20241115123848_predseg_labels_rectified_depth_map_95_perc_edge_ponding\n",
      "Processing depth map: CAM_CB_03_20241115123918_predseg_labels_rectified_depth_map_95_perc_edge_ponding\n",
      "Processing depth map: CAM_CB_03_20241115123948_predseg_labels_rectified_depth_map_95_perc_edge_ponding\n",
      "Processing depth map: CAM_CB_03_20241115124018_predseg_labels_rectified_depth_map_95_perc_edge_ponding\n",
      "Processing depth map: CAM_CB_03_20241115124048_predseg_labels_rectified_depth_map_95_perc_edge_ponding\n",
      "Processing depth map: CAM_CB_03_20241115124118_predseg_labels_rectified_depth_map_95_perc_edge_ponding\n",
      "Processing depth map: CAM_CB_03_20241115124148_predseg_labels_rectified_depth_map_95_perc_edge_ponding\n",
      "Processing depth map: CAM_CB_03_20241115124218_predseg_labels_rectified_depth_map_95_perc_edge_ponding\n",
      "Processing depth map: CAM_CB_03_20241115124248_predseg_labels_rectified_depth_map_95_perc_edge_ponding\n",
      "Processing depth map: CAM_CB_03_20241115124348_predseg_labels_rectified_depth_map_95_perc_edge_ponding\n",
      "Processing depth map: CAM_CB_03_20241115124418_predseg_labels_rectified_depth_map_95_perc_edge_ponding\n",
      "Processing depth map: CAM_CB_03_20241115124448_predseg_labels_rectified_depth_map_95_perc_edge_ponding\n",
      "Processing depth map: CAM_CB_03_20241115124518_predseg_labels_rectified_depth_map_95_perc_edge_ponding\n",
      "Processing depth map: CAM_CB_03_20241115124548_predseg_labels_rectified_depth_map_95_perc_edge_ponding\n",
      "Processing depth map: CAM_CB_03_20241115124618_predseg_labels_rectified_depth_map_95_perc_edge_ponding\n",
      "Processing depth map: CAM_CB_03_20241115124648_predseg_labels_rectified_depth_map_95_perc_edge_ponding\n",
      "Processing depth map: CAM_CB_03_20241115124718_predseg_labels_rectified_depth_map_95_perc_edge_ponding\n",
      "Processing depth map: CAM_CB_03_20241115124748_predseg_labels_rectified_depth_map_95_perc_edge_ponding\n",
      "Processing depth map: CAM_CB_03_20241115124818_predseg_labels_rectified_depth_map_95_perc_edge_ponding\n",
      "Processing depth map: CAM_CB_03_20241115124848_predseg_labels_rectified_depth_map_95_perc_edge_ponding\n",
      "Processing depth map: CAM_CB_03_20241115124948_predseg_labels_rectified_depth_map_95_perc_edge_ponding\n",
      "Processing depth map: CAM_CB_03_20241115125018_predseg_labels_rectified_depth_map_95_perc_edge_ponding\n",
      "Processing depth map: CAM_CB_03_20241115125048_predseg_labels_rectified_depth_map_95_perc_edge_ponding\n",
      "Processing depth map: CAM_CB_03_20241115125118_predseg_labels_rectified_depth_map_95_perc_edge_ponding\n",
      "Processing depth map: CAM_CB_03_20241115125148_predseg_labels_rectified_depth_map_95_perc_edge_ponding\n",
      "Processing depth map: CAM_CB_03_20241115125218_predseg_labels_rectified_depth_map_95_perc_edge_ponding\n",
      "Processing depth map: CAM_CB_03_20241115125248_predseg_labels_rectified_depth_map_95_perc_edge_ponding\n",
      "Processing depth map: CAM_CB_03_20241115125318_predseg_labels_rectified_depth_map_95_perc_edge_ponding\n",
      "Processing depth map: CAM_CB_03_20241115125348_predseg_labels_rectified_depth_map_95_perc_edge_ponding\n",
      "Processing depth map: CAM_CB_03_20241115125418_predseg_labels_rectified_depth_map_95_perc_edge_ponding\n",
      "Processing depth map: CAM_CB_03_20241115125448_predseg_labels_rectified_depth_map_95_perc_edge_ponding\n",
      "Processing depth map: CAM_CB_03_20241115125548_predseg_labels_rectified_depth_map_95_perc_edge_ponding\n",
      "Processing depth map: CAM_CB_03_20241115125618_predseg_labels_rectified_depth_map_95_perc_edge_ponding\n",
      "Processing depth map: CAM_CB_03_20241115125648_predseg_labels_rectified_depth_map_95_perc_edge_ponding\n",
      "Processing depth map: CAM_CB_03_20241115125718_predseg_labels_rectified_depth_map_95_perc_edge_ponding\n",
      "Processing depth map: CAM_CB_03_20241115125748_predseg_labels_rectified_depth_map_95_perc_edge_ponding\n",
      "Processing depth map: CAM_CB_03_20241115125818_predseg_labels_rectified_depth_map_95_perc_edge_ponding\n",
      "Processing depth map: CAM_CB_03_20241115125848_predseg_labels_rectified_depth_map_95_perc_edge_ponding\n",
      "Processing depth map: CAM_CB_03_20241115125918_predseg_labels_rectified_depth_map_95_perc_edge_ponding\n",
      "Processing depth map: CAM_CB_03_20241115125948_predseg_labels_rectified_depth_map_95_perc_edge_ponding\n",
      "Processing depth map: CAM_CB_03_20241115130018_predseg_labels_rectified_depth_map_95_perc_edge_ponding\n",
      "Processing depth map: CAM_CB_03_20241115130048_predseg_labels_rectified_depth_map_95_perc_edge_ponding\n",
      "Processing depth map: CAM_CB_03_20241115130148_predseg_labels_rectified_depth_map_95_perc_edge_ponding\n",
      "Processing depth map: CAM_CB_03_20241115130218_predseg_labels_rectified_depth_map_95_perc_edge_ponding\n",
      "Processing depth map: CAM_CB_03_20241115130248_predseg_labels_rectified_depth_map_95_perc_edge_ponding\n",
      "Processing depth map: CAM_CB_03_20241115130318_predseg_labels_rectified_depth_map_95_perc_edge_ponding\n",
      "Processing depth map: CAM_CB_03_20241115130348_predseg_labels_rectified_depth_map_95_perc_edge_ponding\n",
      "Processing depth map: CAM_CB_03_20241115130418_predseg_labels_rectified_depth_map_95_perc_edge_ponding\n",
      "Processing depth map: CAM_CB_03_20241115130448_predseg_labels_rectified_depth_map_95_perc_edge_ponding\n",
      "Processing depth map: CAM_CB_03_20241115130518_predseg_labels_rectified_depth_map_95_perc_edge_ponding\n",
      "Processing depth map: CAM_CB_03_20241115130548_predseg_labels_rectified_depth_map_95_perc_edge_ponding\n",
      "Processing depth map: CAM_CB_03_20241115130618_predseg_labels_rectified_depth_map_95_perc_edge_ponding\n",
      "Processing depth map: CAM_CB_03_20241115130648_predseg_labels_rectified_depth_map_95_perc_edge_ponding\n",
      "Processing depth map: CAM_CB_03_20241115130748_predseg_labels_rectified_depth_map_95_perc_edge_ponding\n",
      "Processing depth map: CAM_CB_03_20241115130818_predseg_labels_rectified_depth_map_95_perc_edge_ponding\n"
     ]
    },
    {
     "ename": "",
     "evalue": "",
     "output_type": "error",
     "traceback": [
      "\u001b[1;31mThe Kernel crashed while executing code in the current cell or a previous cell. \n",
      "\u001b[1;31mPlease review the code in the cell(s) to identify a possible cause of the failure. \n",
      "\u001b[1;31mClick <a href='https://aka.ms/vscodeJupyterKernelCrash'>here</a> for more info. \n",
      "\u001b[1;31mView Jupyter <a href='command:jupyter.viewOutput'>log</a> for further details."
     ]
    }
   ],
   "source": [
    "import os\n",
    "import gc\n",
    "import numpy as np\n",
    "import pandas as pd\n",
    "import pytz\n",
    "import zarr\n",
    "from tqdm import tqdm\n",
    "from datetime import datetime\n",
    "import cmocean\n",
    "import matplotlib.pyplot as plt\n",
    "import image_processing\n",
    "\n",
    "# Define colors\n",
    "water_level_color = cmocean.cm.balance(0.2)\n",
    "max_depth_color = cmocean.cm.balance(0.9)\n",
    "avg_depth_color = cmocean.cm.balance(0.6)\n",
    "sensor_1_color = cmocean.cm.phase(0.1)\n",
    "sensor_2_color = cmocean.cm.phase(0.3)\n",
    "sensor_3_color = cmocean.cm.phase(0.5)\n",
    "\n",
    "# Virtual sensor locations (scaled)\n",
    "virtual_sensor_locs = np.array([[125, 390], [75, 440], [5, 370], [9, 355]]) * 2\n",
    "\n",
    "# Main directory path\n",
    "main_directory = '/home/rmccune/depth_mapping/CB03_all_photos/flood_events'\n",
    "\n",
    "# Get subfolders (flood events)\n",
    "flood_events_folders = [f for f in os.listdir(main_directory) if os.path.isdir(os.path.join(main_directory, f))]\n",
    "\n",
    "# Process each flood event\n",
    "for flood_event in tqdm(flood_events_folders, desc=\"Plotting depth maps for flood events...\"):\n",
    "    flood_event_path = os.path.join(main_directory, flood_event)\n",
    "    \n",
    "    # Load CSV data\n",
    "    sunnyd_data = pd.read_csv(os.path.join(flood_event_path, flood_event + '.csv'))\n",
    "    sunnyd_data['time_UTC'] = pd.to_datetime(sunnyd_data['time_UTC'])\n",
    "    \n",
    "    orig_images_path = os.path.join(flood_event_path, 'orig_images')\n",
    "    image_list = sorted(os.listdir(orig_images_path))\n",
    "    results = []\n",
    "    \n",
    "    for filename in image_list:\n",
    "        sensor_id = image_processing.image_utils.extract_camera_name(filename)[4:]\n",
    "        timestamp = image_processing.image_utils.extract_timestamp(filename)\n",
    "        timestamp = pytz.utc.localize(datetime.strptime(timestamp, \"%Y%m%d%H%M%S\"))\n",
    "        \n",
    "        filtered_df = sunnyd_data[sunnyd_data['sensor_ID'] == sensor_id]\n",
    "        closest_row = filtered_df.iloc[(filtered_df['time_UTC'] - timestamp).abs().argsort()[:1]]\n",
    "        \n",
    "        if not closest_row.empty:\n",
    "            results.append({\n",
    "                'image_filename': filename,\n",
    "                'closest_utc_time': closest_row['time_UTC'].values[0],\n",
    "                'water_level': closest_row['water_level'].values[0] * 0.3048\n",
    "            })\n",
    "    \n",
    "    results_df = pd.DataFrame(results)\n",
    "    depth_maps_zarr_folder = os.path.join(flood_event_path, 'zarr', 'depth_maps_95th_ponding')\n",
    "    orig_images_zarr_folder = os.path.join(flood_event_path, 'zarr', 'orig_image_rects')\n",
    "    \n",
    "    max_depth_list, avg_depth_list, vs_depth_list = [], [], [[] for _ in range(4)]\n",
    "    timestamp_list = []\n",
    "    \n",
    "    if os.path.exists(depth_maps_zarr_folder):\n",
    "        for file_name in os.listdir(depth_maps_zarr_folder):\n",
    "            if file_name.endswith('_ponding'):\n",
    "                timestamp = image_processing.image_utils.extract_timestamp(file_name)\n",
    "                zarr_store_path = os.path.join(depth_maps_zarr_folder, file_name)\n",
    "                \n",
    "                # Load Zarr lazily to avoid memory issues\n",
    "                img_store = zarr.open(zarr_store_path, mode='r')\n",
    "                depth_map = np.nan_to_num(img_store[:], nan=0.0)  # Replace NaNs to reduce computation issues\n",
    "                \n",
    "                max_depth_list.append(np.nanmax(depth_map))\n",
    "                avg_depth_list.append(np.nanmean(depth_map))\n",
    "                \n",
    "                for i, (x, y) in enumerate(virtual_sensor_locs):\n",
    "                    vs_depth_list[i].append(depth_map[y, x])\n",
    "                \n",
    "                timestamp_list.append(timestamp)\n",
    "                \n",
    "                img_store.store.close()\n",
    "                \n",
    "                # Free memory\n",
    "                del depth_map\n",
    "                gc.collect()\n",
    "        \n",
    "        datetimes = pd.to_datetime(timestamp_list, utc=True)\n",
    "        plotting_folder = os.path.join(flood_event_path, 'plots', 'depth_maps_95th_perc_ponding_w_background')\n",
    "        os.makedirs(plotting_folder, exist_ok=True)\n",
    "        \n",
    "        plot_depth_maps_and_water_lvls(\n",
    "            depth_maps_zarr_folder, orig_images_zarr_folder, virtual_sensor_locs, datetimes, results_df, plotting_folder, vs_depth_list\n",
    "        )\n",
    "    \n",
    "    depth_map = None  # Break references\n",
    "    pd.DataFrame().to_csv('/dev/null')  # Force Pandas to release memory\n",
    "    \n",
    "    # Final memory cleanup\n",
    "    gc.collect()\n"
   ]
  },
  {
   "cell_type": "code",
   "execution_count": null,
   "metadata": {},
   "outputs": [],
   "source": []
  }
 ],
 "metadata": {
  "kernelspec": {
   "display_name": "gpu_acc",
   "language": "python",
   "name": "python3"
  },
  "language_info": {
   "codemirror_mode": {
    "name": "ipython",
    "version": 3
   },
   "file_extension": ".py",
   "mimetype": "text/x-python",
   "name": "python",
   "nbconvert_exporter": "python",
   "pygments_lexer": "ipython3",
   "version": "3.12.2"
  }
 },
 "nbformat": 4,
 "nbformat_minor": 2
}
