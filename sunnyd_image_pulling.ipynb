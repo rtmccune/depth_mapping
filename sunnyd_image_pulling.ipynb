{
 "cells": [
  {
   "cell_type": "code",
   "execution_count": 1,
   "metadata": {},
   "outputs": [],
   "source": [
    "from photo_utils import *\n",
    "import pandas as pd"
   ]
  },
  {
   "cell_type": "code",
   "execution_count": 2,
   "metadata": {},
   "outputs": [],
   "source": [
    "# Research storage path after mounting to local computer. VPN must be connected if not on university network.\n",
    "# Instructions for mounting research storage can be found at https://research.oit.ncsu.edu/docs/storage/access/mount/\n",
    "\n",
    "drive = '/Volumes/rsstu/users/k/kanarde/Sunnyverse-Images'\n"
   ]
  },
  {
   "cell_type": "markdown",
   "metadata": {},
   "source": [
    "# Pull Flood Event Images"
   ]
  },
  {
   "cell_type": "code",
   "execution_count": 4,
   "metadata": {},
   "outputs": [],
   "source": [
    "# Read in flood events csv\n",
    "flood_events = pd.read_csv('flood_tracking/abbr_flood_events.csv')\n",
    "\n",
    "# Convert times from strings to datetimes\n",
    "flood_events['start_time_UTC'] = pd.to_datetime(flood_events['start_time_UTC'])\n",
    "flood_events['end_time_UTC'] = pd.to_datetime(flood_events['end_time_UTC'])\n",
    "\n",
    "# Create camera ID column because sensor images are stored with camera name.\n",
    "flood_events['camera_ID'] = 'CAM_' + flood_events['sensor_ID']\n",
    "\n",
    "# Drop unnecessary columns from dataframe\n",
    "columns_to_keep = ['camera_ID', 'start_time_UTC', 'end_time_UTC']\n",
    "flood_events.drop(columns=[col for col in flood_events.columns if col not in columns_to_keep], inplace=True)\n"
   ]
  },
  {
   "cell_type": "code",
   "execution_count": 4,
   "metadata": {},
   "outputs": [],
   "source": [
    "# Truncate flood event sheet for demonstration purposes\n",
    "flood_events_test = flood_events.iloc[0:2]"
   ]
  },
  {
   "cell_type": "code",
   "execution_count": 6,
   "metadata": {},
   "outputs": [
    {
     "name": "stderr",
     "output_type": "stream",
     "text": [
      "Processing rows: 100%|██████████| 2/2 [00:00<00:00, 2777.68it/s]\n",
      "Copying files: 0it [00:00, ?it/s]\n"
     ]
    }
   ],
   "source": [
    "# Pull images corresponding to flood events\n",
    "pull_files(flood_events_test, drive, 'pulled_files')\n"
   ]
  },
  {
   "cell_type": "code",
   "execution_count": 4,
   "metadata": {},
   "outputs": [],
   "source": [
    "# Define the data\n",
    "start_time_UTC = datetime(2023, 8, 1, 23, 0, 0, tzinfo=pytz.UTC)\n",
    "end_time_UTC = datetime(2023, 8, 2, 2, 0, 0, tzinfo=pytz.UTC)\n",
    "camera_ID = 'CAM_CB_03'\n",
    "\n",
    "# Create the DataFrame\n",
    "modeled_images = pd.DataFrame({\n",
    "    'start_time_UTC': [start_time_UTC],\n",
    "    'end_time_UTC': [end_time_UTC],\n",
    "    'camera_ID': [camera_ID]\n",
    "})"
   ]
  },
  {
   "cell_type": "code",
   "execution_count": 5,
   "metadata": {},
   "outputs": [
    {
     "data": {
      "text/html": [
       "<div>\n",
       "<style scoped>\n",
       "    .dataframe tbody tr th:only-of-type {\n",
       "        vertical-align: middle;\n",
       "    }\n",
       "\n",
       "    .dataframe tbody tr th {\n",
       "        vertical-align: top;\n",
       "    }\n",
       "\n",
       "    .dataframe thead th {\n",
       "        text-align: right;\n",
       "    }\n",
       "</style>\n",
       "<table border=\"1\" class=\"dataframe\">\n",
       "  <thead>\n",
       "    <tr style=\"text-align: right;\">\n",
       "      <th></th>\n",
       "      <th>start_time_UTC</th>\n",
       "      <th>end_time_UTC</th>\n",
       "      <th>camera_ID</th>\n",
       "    </tr>\n",
       "  </thead>\n",
       "  <tbody>\n",
       "    <tr>\n",
       "      <th>0</th>\n",
       "      <td>2023-08-01 23:00:00+00:00</td>\n",
       "      <td>2023-08-02 02:00:00+00:00</td>\n",
       "      <td>CAM_CB_03</td>\n",
       "    </tr>\n",
       "  </tbody>\n",
       "</table>\n",
       "</div>"
      ],
      "text/plain": [
       "             start_time_UTC              end_time_UTC  camera_ID\n",
       "0 2023-08-01 23:00:00+00:00 2023-08-02 02:00:00+00:00  CAM_CB_03"
      ]
     },
     "execution_count": 5,
     "metadata": {},
     "output_type": "execute_result"
    }
   ],
   "source": [
    "modeled_images"
   ]
  },
  {
   "cell_type": "code",
   "execution_count": 6,
   "metadata": {},
   "outputs": [
    {
     "name": "stderr",
     "output_type": "stream",
     "text": [
      "Processing rows: 100%|██████████| 267/267 [02:02<00:00,  2.18it/s]\n",
      "Copying files: 100%|██████████| 3336/3336 [10:31<00:00,  5.29it/s]\n"
     ]
    }
   ],
   "source": [
    "pull_files(flood_events, drive, 'flooded_imagery_CB_2023')"
   ]
  },
  {
   "cell_type": "markdown",
   "metadata": {},
   "source": [
    "# Filter Images"
   ]
  },
  {
   "cell_type": "code",
   "execution_count": 1,
   "metadata": {},
   "outputs": [],
   "source": [
    "# test_folder = '/Users/ryan/Documents/image_pulling/test_CB_03'\n",
    "test_folder = '/Users/ryan/Documents/image_pulling/CB_01/all_flooded_images_2023'"
   ]
  },
  {
   "cell_type": "code",
   "execution_count": 3,
   "metadata": {},
   "outputs": [
    {
     "name": "stderr",
     "output_type": "stream",
     "text": [
      "Copying files: 100%|██████████| 794/794 [00:01<00:00, 520.34it/s]\n"
     ]
    }
   ],
   "source": [
    "copy_daylight_images(test_folder)"
   ]
  },
  {
   "cell_type": "markdown",
   "metadata": {},
   "source": [
    "# Remove Already Labeled Imagery"
   ]
  },
  {
   "cell_type": "code",
   "execution_count": 8,
   "metadata": {},
   "outputs": [],
   "source": [
    "test_folder = '/Users/ryan/Documents/image_pulling/CB_03/test_set'\n",
    "\n",
    "labeled_images = '/Users/ryan/Documents/image_pulling/labeled_datasets/CB_03/fromDoodler/images'"
   ]
  },
  {
   "cell_type": "code",
   "execution_count": 9,
   "metadata": {},
   "outputs": [
    {
     "name": "stderr",
     "output_type": "stream",
     "text": [
      "Copying files: 100%|██████████| 100/100 [00:00<00:00, 1097.07it/s]\n"
     ]
    }
   ],
   "source": [
    "gen_unlabeled_images_folder(test_folder, labeled_images)"
   ]
  },
  {
   "cell_type": "markdown",
   "metadata": {},
   "source": [
    "# Generate Test Set of Images"
   ]
  },
  {
   "cell_type": "code",
   "execution_count": 8,
   "metadata": {},
   "outputs": [
    {
     "name": "stderr",
     "output_type": "stream",
     "text": [
      "Copying files: 100%|██████████| 100/100 [00:43<00:00,  2.29it/s]\n"
     ]
    }
   ],
   "source": [
    "camera_id = \"CAM_CB_03\"\n",
    "num_images = 100\n",
    "destination_folder = '/Users/ryan/Documents/image_pulling/CB_03/test_set2'\n",
    "\n",
    "create_test_image_set(drive, destination_folder, camera_id, num_images)\n"
   ]
  },
  {
   "cell_type": "code",
   "execution_count": 5,
   "metadata": {},
   "outputs": [],
   "source": [
    "import os\n",
    "from PIL import Image\n",
    "\n",
    "def cut_top_20_pixels(input_folder, output_folder):\n",
    "    if not os.path.exists(output_folder):\n",
    "        os.makedirs(output_folder)\n",
    "    \n",
    "    for filename in os.listdir(input_folder):\n",
    "        if filename.lower().endswith(('png', 'jpg', 'jpeg', 'bmp', 'gif')):\n",
    "            input_path = os.path.join(input_folder, filename)\n",
    "            output_path = os.path.join(output_folder, filename)\n",
    "            \n",
    "            with Image.open(input_path) as img:\n",
    "                width, height = img.size\n",
    "                cropped_img = img.crop((0, 50, width, height))\n",
    "                cropped_img.save(output_path)"
   ]
  },
  {
   "cell_type": "code",
   "execution_count": 7,
   "metadata": {},
   "outputs": [],
   "source": [
    "input_folder = '/Users/ryan/Documents/image_pulling/labeled_datasets/CB_03/fromDoodler/labels'\n",
    "output_folder = '/Users/ryan/Documents/image_pulling/labeled_datasets/CB_03/fromDoodler/cropped_labels'\n",
    "\n",
    "cut_top_20_pixels(input_folder, output_folder)"
   ]
  },
  {
   "cell_type": "code",
   "execution_count": null,
   "metadata": {},
   "outputs": [],
   "source": []
  }
 ],
 "metadata": {
  "kernelspec": {
   "display_name": "general",
   "language": "python",
   "name": "python3"
  },
  "language_info": {
   "codemirror_mode": {
    "name": "ipython",
    "version": 3
   },
   "file_extension": ".py",
   "mimetype": "text/x-python",
   "name": "python",
   "nbconvert_exporter": "python",
   "pygments_lexer": "ipython3",
   "version": "3.12.4"
  }
 },
 "nbformat": 4,
 "nbformat_minor": 2
}
